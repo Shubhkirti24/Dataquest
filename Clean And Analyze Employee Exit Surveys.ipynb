{
 "cells": [
  {
   "cell_type": "markdown",
   "metadata": {},
   "source": [
    "---"
   ]
  },
  {
   "cell_type": "markdown",
   "metadata": {
    "collapsed": true
   },
   "source": [
    "# *Cleaning And Analyzing Employee Exit Surveys*"
   ]
  },
  {
   "cell_type": "markdown",
   "metadata": {},
   "source": [
    "---"
   ]
  },
  {
   "cell_type": "markdown",
   "metadata": {},
   "source": [
    "**Dataset Description :** In this project we are working with exit surveys from employees of the Department of Education, Training and Employment (DETE) and the Technical and Further Education (TAFE) institute in Queensland, Australia. The TAFE exit survey can be found [here](https://data.gov.au/dataset/ds-qld-89970a3b-182b-41ea-aea2-6f9f17b5907e/details?q=exit%20survey) and the survey for the DETE [here.](https://data.gov.au/dataset/ds-qld-fe96ff30-d157-4a81-851d-215f2a0fe26d/details?q=exit%20survey)"
   ]
  },
  {
   "cell_type": "markdown",
   "metadata": {},
   "source": [
    "**Attribute Description :**\n",
    "- For *' dete_survey '* :\n",
    "    |Row|Description|\n",
    "    |---|-----------|\n",
    "    |`ID`| An id used to identify the participant of the survey|\n",
    "    |`SeparationType`| The reason why the person's employment ended|\n",
    "    |`Cease Date`| The year or month the person's employment ended|\n",
    "    |`DETE Start Date`| The year the person began employment with the DETE|\n",
    "\n",
    "- For *' tafe_survey '* :\n",
    "    |Row|Description|\n",
    "    |---|-----------|\n",
    "    |`Record ID`| An id used to identify the participant of the survey|\n",
    "    |`Reason for ceasing employment`| The reason why the person's employment ended|\n",
    "    |`LengthofServiceOverall. Overall Length of Service at Institute (in years)`| The length of the person's employment (in years)|\n"
   ]
  },
  {
   "cell_type": "markdown",
   "metadata": {},
   "source": [
    "---"
   ]
  },
  {
   "cell_type": "markdown",
   "metadata": {},
   "source": [
    "## AIM :\n",
    "To answer the following:\n",
    "1. Are employees who only worked for the institutes for a short period of time resigning due to some kind of dissatisfaction? What about employees who have been there longer?\n",
    "    \n",
    "2. Are younger employees resigning due to some kind of dissatisfaction? What about older employees?"
   ]
  },
  {
   "cell_type": "markdown",
   "metadata": {},
   "source": [
    "---"
   ]
  },
  {
   "cell_type": "markdown",
   "metadata": {},
   "source": [
    "## Preliminary Data Exploration:\n",
    "Before actually working and modifying the dataset let's explore the basic datasets to draw some preliminary inferences from the data."
   ]
  },
  {
   "cell_type": "code",
   "execution_count": 1,
   "metadata": {},
   "outputs": [],
   "source": [
    "# importing the required libraries and the dataset into a dataframe:\n",
    "import pandas as pd\n",
    "import numpy as np\n",
    "import matplotlib.pyplot as plt\n",
    "%matplotlib inline"
   ]
  },
  {
   "cell_type": "code",
   "execution_count": 2,
   "metadata": {},
   "outputs": [],
   "source": [
    "dete_survey = pd.read_csv('dete_survey.csv')\n",
    "tafe_survey = pd.read_csv('tafe_survey.csv')"
   ]
  },
  {
   "cell_type": "code",
   "execution_count": 3,
   "metadata": {},
   "outputs": [
    {
     "name": "stdout",
     "output_type": "stream",
     "text": [
      "<class 'pandas.core.frame.DataFrame'>\n",
      "RangeIndex: 822 entries, 0 to 821\n",
      "Data columns (total 56 columns):\n",
      " #   Column                               Non-Null Count  Dtype \n",
      "---  ------                               --------------  ----- \n",
      " 0   ID                                   822 non-null    int64 \n",
      " 1   SeparationType                       822 non-null    object\n",
      " 2   Cease Date                           822 non-null    object\n",
      " 3   DETE Start Date                      822 non-null    object\n",
      " 4   Role Start Date                      822 non-null    object\n",
      " 5   Position                             817 non-null    object\n",
      " 6   Classification                       455 non-null    object\n",
      " 7   Region                               822 non-null    object\n",
      " 8   Business Unit                        126 non-null    object\n",
      " 9   Employment Status                    817 non-null    object\n",
      " 10  Career move to public sector         822 non-null    bool  \n",
      " 11  Career move to private sector        822 non-null    bool  \n",
      " 12  Interpersonal conflicts              822 non-null    bool  \n",
      " 13  Job dissatisfaction                  822 non-null    bool  \n",
      " 14  Dissatisfaction with the department  822 non-null    bool  \n",
      " 15  Physical work environment            822 non-null    bool  \n",
      " 16  Lack of recognition                  822 non-null    bool  \n",
      " 17  Lack of job security                 822 non-null    bool  \n",
      " 18  Work location                        822 non-null    bool  \n",
      " 19  Employment conditions                822 non-null    bool  \n",
      " 20  Maternity/family                     822 non-null    bool  \n",
      " 21  Relocation                           822 non-null    bool  \n",
      " 22  Study/Travel                         822 non-null    bool  \n",
      " 23  Ill Health                           822 non-null    bool  \n",
      " 24  Traumatic incident                   822 non-null    bool  \n",
      " 25  Work life balance                    822 non-null    bool  \n",
      " 26  Workload                             822 non-null    bool  \n",
      " 27  None of the above                    822 non-null    bool  \n",
      " 28  Professional Development             808 non-null    object\n",
      " 29  Opportunities for promotion          735 non-null    object\n",
      " 30  Staff morale                         816 non-null    object\n",
      " 31  Workplace issue                      788 non-null    object\n",
      " 32  Physical environment                 817 non-null    object\n",
      " 33  Worklife balance                     815 non-null    object\n",
      " 34  Stress and pressure support          810 non-null    object\n",
      " 35  Performance of supervisor            813 non-null    object\n",
      " 36  Peer support                         812 non-null    object\n",
      " 37  Initiative                           813 non-null    object\n",
      " 38  Skills                               811 non-null    object\n",
      " 39  Coach                                767 non-null    object\n",
      " 40  Career Aspirations                   746 non-null    object\n",
      " 41  Feedback                             792 non-null    object\n",
      " 42  Further PD                           768 non-null    object\n",
      " 43  Communication                        814 non-null    object\n",
      " 44  My say                               812 non-null    object\n",
      " 45  Information                          816 non-null    object\n",
      " 46  Kept informed                        813 non-null    object\n",
      " 47  Wellness programs                    766 non-null    object\n",
      " 48  Health & Safety                      793 non-null    object\n",
      " 49  Gender                               798 non-null    object\n",
      " 50  Age                                  811 non-null    object\n",
      " 51  Aboriginal                           16 non-null     object\n",
      " 52  Torres Strait                        3 non-null      object\n",
      " 53  South Sea                            7 non-null      object\n",
      " 54  Disability                           23 non-null     object\n",
      " 55  NESB                                 32 non-null     object\n",
      "dtypes: bool(18), int64(1), object(37)\n",
      "memory usage: 258.6+ KB\n"
     ]
    }
   ],
   "source": [
    "# let's first explore 'dete_survey':\n",
    "dete_survey.info()"
   ]
  },
  {
   "cell_type": "code",
   "execution_count": 4,
   "metadata": {},
   "outputs": [
    {
     "data": {
      "text/html": [
       "<div>\n",
       "<style scoped>\n",
       "    .dataframe tbody tr th:only-of-type {\n",
       "        vertical-align: middle;\n",
       "    }\n",
       "\n",
       "    .dataframe tbody tr th {\n",
       "        vertical-align: top;\n",
       "    }\n",
       "\n",
       "    .dataframe thead th {\n",
       "        text-align: right;\n",
       "    }\n",
       "</style>\n",
       "<table border=\"1\" class=\"dataframe\">\n",
       "  <thead>\n",
       "    <tr style=\"text-align: right;\">\n",
       "      <th></th>\n",
       "      <th>ID</th>\n",
       "      <th>SeparationType</th>\n",
       "      <th>Cease Date</th>\n",
       "      <th>DETE Start Date</th>\n",
       "      <th>Role Start Date</th>\n",
       "      <th>Position</th>\n",
       "      <th>Classification</th>\n",
       "      <th>Region</th>\n",
       "      <th>Business Unit</th>\n",
       "      <th>Employment Status</th>\n",
       "      <th>...</th>\n",
       "      <th>Kept informed</th>\n",
       "      <th>Wellness programs</th>\n",
       "      <th>Health &amp; Safety</th>\n",
       "      <th>Gender</th>\n",
       "      <th>Age</th>\n",
       "      <th>Aboriginal</th>\n",
       "      <th>Torres Strait</th>\n",
       "      <th>South Sea</th>\n",
       "      <th>Disability</th>\n",
       "      <th>NESB</th>\n",
       "    </tr>\n",
       "  </thead>\n",
       "  <tbody>\n",
       "    <tr>\n",
       "      <th>0</th>\n",
       "      <td>1</td>\n",
       "      <td>Ill Health Retirement</td>\n",
       "      <td>08/2012</td>\n",
       "      <td>1984</td>\n",
       "      <td>2004</td>\n",
       "      <td>Public Servant</td>\n",
       "      <td>A01-A04</td>\n",
       "      <td>Central Office</td>\n",
       "      <td>Corporate Strategy and Peformance</td>\n",
       "      <td>Permanent Full-time</td>\n",
       "      <td>...</td>\n",
       "      <td>N</td>\n",
       "      <td>N</td>\n",
       "      <td>N</td>\n",
       "      <td>Male</td>\n",
       "      <td>56-60</td>\n",
       "      <td>NaN</td>\n",
       "      <td>NaN</td>\n",
       "      <td>NaN</td>\n",
       "      <td>NaN</td>\n",
       "      <td>Yes</td>\n",
       "    </tr>\n",
       "    <tr>\n",
       "      <th>1</th>\n",
       "      <td>2</td>\n",
       "      <td>Voluntary Early Retirement (VER)</td>\n",
       "      <td>08/2012</td>\n",
       "      <td>Not Stated</td>\n",
       "      <td>Not Stated</td>\n",
       "      <td>Public Servant</td>\n",
       "      <td>AO5-AO7</td>\n",
       "      <td>Central Office</td>\n",
       "      <td>Corporate Strategy and Peformance</td>\n",
       "      <td>Permanent Full-time</td>\n",
       "      <td>...</td>\n",
       "      <td>N</td>\n",
       "      <td>N</td>\n",
       "      <td>N</td>\n",
       "      <td>Male</td>\n",
       "      <td>56-60</td>\n",
       "      <td>NaN</td>\n",
       "      <td>NaN</td>\n",
       "      <td>NaN</td>\n",
       "      <td>NaN</td>\n",
       "      <td>NaN</td>\n",
       "    </tr>\n",
       "    <tr>\n",
       "      <th>2</th>\n",
       "      <td>3</td>\n",
       "      <td>Voluntary Early Retirement (VER)</td>\n",
       "      <td>05/2012</td>\n",
       "      <td>2011</td>\n",
       "      <td>2011</td>\n",
       "      <td>Schools Officer</td>\n",
       "      <td>NaN</td>\n",
       "      <td>Central Office</td>\n",
       "      <td>Education Queensland</td>\n",
       "      <td>Permanent Full-time</td>\n",
       "      <td>...</td>\n",
       "      <td>N</td>\n",
       "      <td>N</td>\n",
       "      <td>N</td>\n",
       "      <td>Male</td>\n",
       "      <td>61 or older</td>\n",
       "      <td>NaN</td>\n",
       "      <td>NaN</td>\n",
       "      <td>NaN</td>\n",
       "      <td>NaN</td>\n",
       "      <td>NaN</td>\n",
       "    </tr>\n",
       "    <tr>\n",
       "      <th>3</th>\n",
       "      <td>4</td>\n",
       "      <td>Resignation-Other reasons</td>\n",
       "      <td>05/2012</td>\n",
       "      <td>2005</td>\n",
       "      <td>2006</td>\n",
       "      <td>Teacher</td>\n",
       "      <td>Primary</td>\n",
       "      <td>Central Queensland</td>\n",
       "      <td>NaN</td>\n",
       "      <td>Permanent Full-time</td>\n",
       "      <td>...</td>\n",
       "      <td>A</td>\n",
       "      <td>N</td>\n",
       "      <td>A</td>\n",
       "      <td>Female</td>\n",
       "      <td>36-40</td>\n",
       "      <td>NaN</td>\n",
       "      <td>NaN</td>\n",
       "      <td>NaN</td>\n",
       "      <td>NaN</td>\n",
       "      <td>NaN</td>\n",
       "    </tr>\n",
       "    <tr>\n",
       "      <th>4</th>\n",
       "      <td>5</td>\n",
       "      <td>Age Retirement</td>\n",
       "      <td>05/2012</td>\n",
       "      <td>1970</td>\n",
       "      <td>1989</td>\n",
       "      <td>Head of Curriculum/Head of Special Education</td>\n",
       "      <td>NaN</td>\n",
       "      <td>South East</td>\n",
       "      <td>NaN</td>\n",
       "      <td>Permanent Full-time</td>\n",
       "      <td>...</td>\n",
       "      <td>N</td>\n",
       "      <td>A</td>\n",
       "      <td>M</td>\n",
       "      <td>Female</td>\n",
       "      <td>61 or older</td>\n",
       "      <td>NaN</td>\n",
       "      <td>NaN</td>\n",
       "      <td>NaN</td>\n",
       "      <td>NaN</td>\n",
       "      <td>NaN</td>\n",
       "    </tr>\n",
       "  </tbody>\n",
       "</table>\n",
       "<p>5 rows × 56 columns</p>\n",
       "</div>"
      ],
      "text/plain": [
       "   ID                    SeparationType Cease Date DETE Start Date  \\\n",
       "0   1             Ill Health Retirement    08/2012            1984   \n",
       "1   2  Voluntary Early Retirement (VER)    08/2012      Not Stated   \n",
       "2   3  Voluntary Early Retirement (VER)    05/2012            2011   \n",
       "3   4         Resignation-Other reasons    05/2012            2005   \n",
       "4   5                    Age Retirement    05/2012            1970   \n",
       "\n",
       "  Role Start Date                                      Position  \\\n",
       "0            2004                                Public Servant   \n",
       "1      Not Stated                                Public Servant   \n",
       "2            2011                               Schools Officer   \n",
       "3            2006                                       Teacher   \n",
       "4            1989  Head of Curriculum/Head of Special Education   \n",
       "\n",
       "  Classification              Region                      Business Unit  \\\n",
       "0        A01-A04      Central Office  Corporate Strategy and Peformance   \n",
       "1        AO5-AO7      Central Office  Corporate Strategy and Peformance   \n",
       "2            NaN      Central Office               Education Queensland   \n",
       "3        Primary  Central Queensland                                NaN   \n",
       "4            NaN          South East                                NaN   \n",
       "\n",
       "     Employment Status  ...  Kept informed  Wellness programs  \\\n",
       "0  Permanent Full-time  ...              N                  N   \n",
       "1  Permanent Full-time  ...              N                  N   \n",
       "2  Permanent Full-time  ...              N                  N   \n",
       "3  Permanent Full-time  ...              A                  N   \n",
       "4  Permanent Full-time  ...              N                  A   \n",
       "\n",
       "   Health & Safety  Gender          Age  Aboriginal  Torres Strait  South Sea  \\\n",
       "0                N    Male        56-60         NaN            NaN        NaN   \n",
       "1                N    Male        56-60         NaN            NaN        NaN   \n",
       "2                N    Male  61 or older         NaN            NaN        NaN   \n",
       "3                A  Female        36-40         NaN            NaN        NaN   \n",
       "4                M  Female  61 or older         NaN            NaN        NaN   \n",
       "\n",
       "   Disability  NESB  \n",
       "0         NaN   Yes  \n",
       "1         NaN   NaN  \n",
       "2         NaN   NaN  \n",
       "3         NaN   NaN  \n",
       "4         NaN   NaN  \n",
       "\n",
       "[5 rows x 56 columns]"
      ]
     },
     "execution_count": 4,
     "metadata": {},
     "output_type": "execute_result"
    }
   ],
   "source": [
    "dete_survey.head()"
   ]
  },
  {
   "cell_type": "code",
   "execution_count": 5,
   "metadata": {},
   "outputs": [
    {
     "data": {
      "text/plain": [
       "Age Retirement                          285\n",
       "Resignation-Other reasons               150\n",
       "Resignation-Other employer               91\n",
       "Resignation-Move overseas/interstate     70\n",
       "Voluntary Early Retirement (VER)         67\n",
       "Ill Health Retirement                    61\n",
       "Other                                    49\n",
       "Contract Expired                         34\n",
       "Termination                              15\n",
       "Name: SeparationType, dtype: int64"
      ]
     },
     "execution_count": 5,
     "metadata": {},
     "output_type": "execute_result"
    }
   ],
   "source": [
    "# let's explore some rows for further info:\n",
    "dete_survey['SeparationType'].value_counts()"
   ]
  },
  {
   "cell_type": "code",
   "execution_count": 6,
   "metadata": {},
   "outputs": [
    {
     "data": {
      "text/plain": [
       "0"
      ]
     },
     "execution_count": 6,
     "metadata": {},
     "output_type": "execute_result"
    }
   ],
   "source": [
    "dete_survey['SeparationType'].isnull().sum()"
   ]
  },
  {
   "cell_type": "markdown",
   "metadata": {},
   "source": [
    "**Observations:**\n",
    "- The column headers are irregular so we should make them uniform them for better data manipulation.\n",
    "- For our relevance, we should concentrate on columns related to `SeparationType`. Using *value_counts* method we see the major reasons for Job-separation.Overall, there are no null values in the column.\n",
    "- There are some colunms like `Aboriginal`,`Torres Strait`,`South Sea`,`Disability` and `NESB`, which have have null objects that we should explore as we dive deeper in the analysis.\n",
    "- The dataset contains 'Not Stated' values that indicate values are missing, but they aren't represented as NaN."
   ]
  },
  {
   "cell_type": "code",
   "execution_count": 7,
   "metadata": {},
   "outputs": [
    {
     "name": "stdout",
     "output_type": "stream",
     "text": [
      "<class 'pandas.core.frame.DataFrame'>\n",
      "RangeIndex: 702 entries, 0 to 701\n",
      "Data columns (total 72 columns):\n",
      " #   Column                                                                                                                                                         Non-Null Count  Dtype  \n",
      "---  ------                                                                                                                                                         --------------  -----  \n",
      " 0   Record ID                                                                                                                                                      702 non-null    float64\n",
      " 1   Institute                                                                                                                                                      702 non-null    object \n",
      " 2   WorkArea                                                                                                                                                       702 non-null    object \n",
      " 3   CESSATION YEAR                                                                                                                                                 695 non-null    float64\n",
      " 4   Reason for ceasing employment                                                                                                                                  701 non-null    object \n",
      " 5   Contributing Factors. Career Move - Public Sector                                                                                                              437 non-null    object \n",
      " 6   Contributing Factors. Career Move - Private Sector                                                                                                             437 non-null    object \n",
      " 7   Contributing Factors. Career Move - Self-employment                                                                                                            437 non-null    object \n",
      " 8   Contributing Factors. Ill Health                                                                                                                               437 non-null    object \n",
      " 9   Contributing Factors. Maternity/Family                                                                                                                         437 non-null    object \n",
      " 10  Contributing Factors. Dissatisfaction                                                                                                                          437 non-null    object \n",
      " 11  Contributing Factors. Job Dissatisfaction                                                                                                                      437 non-null    object \n",
      " 12  Contributing Factors. Interpersonal Conflict                                                                                                                   437 non-null    object \n",
      " 13  Contributing Factors. Study                                                                                                                                    437 non-null    object \n",
      " 14  Contributing Factors. Travel                                                                                                                                   437 non-null    object \n",
      " 15  Contributing Factors. Other                                                                                                                                    437 non-null    object \n",
      " 16  Contributing Factors. NONE                                                                                                                                     437 non-null    object \n",
      " 17  Main Factor. Which of these was the main factor for leaving?                                                                                                   113 non-null    object \n",
      " 18  InstituteViews. Topic:1. I feel the senior leadership had a clear vision and direction                                                                         608 non-null    object \n",
      " 19  InstituteViews. Topic:2. I was given access to skills training to help me do my job better                                                                     613 non-null    object \n",
      " 20  InstituteViews. Topic:3. I was given adequate opportunities for personal development                                                                           610 non-null    object \n",
      " 21  InstituteViews. Topic:4. I was given adequate opportunities for promotion within %Institute]Q25LBL%                                                            608 non-null    object \n",
      " 22  InstituteViews. Topic:5. I felt the salary for the job was right for the responsibilities I had                                                                615 non-null    object \n",
      " 23  InstituteViews. Topic:6. The organisation recognised when staff did good work                                                                                  607 non-null    object \n",
      " 24  InstituteViews. Topic:7. Management was generally supportive of me                                                                                             614 non-null    object \n",
      " 25  InstituteViews. Topic:8. Management was generally supportive of my team                                                                                        608 non-null    object \n",
      " 26  InstituteViews. Topic:9. I was kept informed of the changes in the organisation which would affect me                                                          610 non-null    object \n",
      " 27  InstituteViews. Topic:10. Staff morale was positive within the Institute                                                                                       602 non-null    object \n",
      " 28  InstituteViews. Topic:11. If I had a workplace issue it was dealt with quickly                                                                                 601 non-null    object \n",
      " 29  InstituteViews. Topic:12. If I had a workplace issue it was dealt with efficiently                                                                             597 non-null    object \n",
      " 30  InstituteViews. Topic:13. If I had a workplace issue it was dealt with discreetly                                                                              601 non-null    object \n",
      " 31  WorkUnitViews. Topic:14. I was satisfied with the quality of the management and supervision within my work unit                                                609 non-null    object \n",
      " 32  WorkUnitViews. Topic:15. I worked well with my colleagues                                                                                                      605 non-null    object \n",
      " 33  WorkUnitViews. Topic:16. My job was challenging and interesting                                                                                                607 non-null    object \n",
      " 34  WorkUnitViews. Topic:17. I was encouraged to use my initiative in the course of my work                                                                        610 non-null    object \n",
      " 35  WorkUnitViews. Topic:18. I had sufficient contact with other people in my job                                                                                  613 non-null    object \n",
      " 36  WorkUnitViews. Topic:19. I was given adequate support and co-operation by my peers to enable me to do my job                                                   609 non-null    object \n",
      " 37  WorkUnitViews. Topic:20. I was able to use the full range of my skills in my job                                                                               609 non-null    object \n",
      " 38  WorkUnitViews. Topic:21. I was able to use the full range of my abilities in my job. ; Category:Level of Agreement; Question:YOUR VIEWS ABOUT YOUR WORK UNIT]  608 non-null    object \n",
      " 39  WorkUnitViews. Topic:22. I was able to use the full range of my knowledge in my job                                                                            608 non-null    object \n",
      " 40  WorkUnitViews. Topic:23. My job provided sufficient variety                                                                                                    611 non-null    object \n",
      " 41  WorkUnitViews. Topic:24. I was able to cope with the level of stress and pressure in my job                                                                    610 non-null    object \n",
      " 42  WorkUnitViews. Topic:25. My job allowed me to balance the demands of work and family to my satisfaction                                                        611 non-null    object \n",
      " 43  WorkUnitViews. Topic:26. My supervisor gave me adequate personal recognition and feedback on my performance                                                    606 non-null    object \n",
      " 44  WorkUnitViews. Topic:27. My working environment was satisfactory e.g. sufficient space, good lighting, suitable seating and working area                       610 non-null    object \n",
      " 45  WorkUnitViews. Topic:28. I was given the opportunity to mentor and coach others in order for me to pass on my skills and knowledge prior to my cessation date  609 non-null    object \n",
      " 46  WorkUnitViews. Topic:29. There was adequate communication between staff in my unit                                                                             603 non-null    object \n",
      " 47  WorkUnitViews. Topic:30. Staff morale was positive within my work unit                                                                                         606 non-null    object \n",
      " 48  Induction. Did you undertake Workplace Induction?                                                                                                              619 non-null    object \n",
      " 49  InductionInfo. Topic:Did you undertake a Corporate Induction?                                                                                                  432 non-null    object \n",
      " 50  InductionInfo. Topic:Did you undertake a Institute Induction?                                                                                                  483 non-null    object \n",
      " 51  InductionInfo. Topic: Did you undertake Team Induction?                                                                                                        440 non-null    object \n",
      " 52  InductionInfo. Face to Face Topic:Did you undertake a Corporate Induction; Category:How it was conducted?                                                      555 non-null    object \n",
      " 53  InductionInfo. On-line Topic:Did you undertake a Corporate Induction; Category:How it was conducted?                                                           555 non-null    object \n",
      " 54  InductionInfo. Induction Manual Topic:Did you undertake a Corporate Induction?                                                                                 555 non-null    object \n",
      " 55  InductionInfo. Face to Face Topic:Did you undertake a Institute Induction?                                                                                     530 non-null    object \n",
      " 56  InductionInfo. On-line Topic:Did you undertake a Institute Induction?                                                                                          555 non-null    object \n",
      " 57  InductionInfo. Induction Manual Topic:Did you undertake a Institute Induction?                                                                                 553 non-null    object \n",
      " 58  InductionInfo. Face to Face Topic: Did you undertake Team Induction; Category?                                                                                 555 non-null    object \n",
      " 59  InductionInfo. On-line Topic: Did you undertake Team Induction?process you undertook and how it was conducted.]                                                555 non-null    object \n",
      " 60  InductionInfo. Induction Manual Topic: Did you undertake Team Induction?                                                                                       555 non-null    object \n",
      " 61  Workplace. Topic:Did you and your Manager develop a Performance and Professional Development Plan (PPDP)?                                                      608 non-null    object \n",
      " 62  Workplace. Topic:Does your workplace promote a work culture free from all forms of unlawful discrimination?                                                    594 non-null    object \n",
      " 63  Workplace. Topic:Does your workplace promote and practice the principles of employment equity?                                                                 587 non-null    object \n",
      " 64  Workplace. Topic:Does your workplace value the diversity of its employees?                                                                                     586 non-null    object \n",
      " 65  Workplace. Topic:Would you recommend the Institute as an employer to others?                                                                                   581 non-null    object \n",
      " 66  Gender. What is your Gender?                                                                                                                                   596 non-null    object \n",
      " 67  CurrentAge. Current Age                                                                                                                                        596 non-null    object \n",
      " 68  Employment Type. Employment Type                                                                                                                               596 non-null    object \n",
      " 69  Classification. Classification                                                                                                                                 596 non-null    object \n",
      " 70  LengthofServiceOverall. Overall Length of Service at Institute (in years)                                                                                      596 non-null    object \n",
      " 71  LengthofServiceCurrent. Length of Service at current workplace (in years)                                                                                      596 non-null    object \n",
      "dtypes: float64(2), object(70)\n",
      "memory usage: 395.0+ KB\n"
     ]
    }
   ],
   "source": [
    "# let's explore 'tafe_survey' :\n",
    "tafe_survey.info()"
   ]
  },
  {
   "cell_type": "code",
   "execution_count": 8,
   "metadata": {},
   "outputs": [
    {
     "data": {
      "text/html": [
       "<div>\n",
       "<style scoped>\n",
       "    .dataframe tbody tr th:only-of-type {\n",
       "        vertical-align: middle;\n",
       "    }\n",
       "\n",
       "    .dataframe tbody tr th {\n",
       "        vertical-align: top;\n",
       "    }\n",
       "\n",
       "    .dataframe thead th {\n",
       "        text-align: right;\n",
       "    }\n",
       "</style>\n",
       "<table border=\"1\" class=\"dataframe\">\n",
       "  <thead>\n",
       "    <tr style=\"text-align: right;\">\n",
       "      <th></th>\n",
       "      <th>Record ID</th>\n",
       "      <th>Institute</th>\n",
       "      <th>WorkArea</th>\n",
       "      <th>CESSATION YEAR</th>\n",
       "      <th>Reason for ceasing employment</th>\n",
       "      <th>Contributing Factors. Career Move - Public Sector</th>\n",
       "      <th>Contributing Factors. Career Move - Private Sector</th>\n",
       "      <th>Contributing Factors. Career Move - Self-employment</th>\n",
       "      <th>Contributing Factors. Ill Health</th>\n",
       "      <th>Contributing Factors. Maternity/Family</th>\n",
       "      <th>...</th>\n",
       "      <th>Workplace. Topic:Does your workplace promote a work culture free from all forms of unlawful discrimination?</th>\n",
       "      <th>Workplace. Topic:Does your workplace promote and practice the principles of employment equity?</th>\n",
       "      <th>Workplace. Topic:Does your workplace value the diversity of its employees?</th>\n",
       "      <th>Workplace. Topic:Would you recommend the Institute as an employer to others?</th>\n",
       "      <th>Gender. What is your Gender?</th>\n",
       "      <th>CurrentAge. Current Age</th>\n",
       "      <th>Employment Type. Employment Type</th>\n",
       "      <th>Classification. Classification</th>\n",
       "      <th>LengthofServiceOverall. Overall Length of Service at Institute (in years)</th>\n",
       "      <th>LengthofServiceCurrent. Length of Service at current workplace (in years)</th>\n",
       "    </tr>\n",
       "  </thead>\n",
       "  <tbody>\n",
       "    <tr>\n",
       "      <th>0</th>\n",
       "      <td>6.341330e+17</td>\n",
       "      <td>Southern Queensland Institute of TAFE</td>\n",
       "      <td>Non-Delivery (corporate)</td>\n",
       "      <td>2010.0</td>\n",
       "      <td>Contract Expired</td>\n",
       "      <td>NaN</td>\n",
       "      <td>NaN</td>\n",
       "      <td>NaN</td>\n",
       "      <td>NaN</td>\n",
       "      <td>NaN</td>\n",
       "      <td>...</td>\n",
       "      <td>Yes</td>\n",
       "      <td>Yes</td>\n",
       "      <td>Yes</td>\n",
       "      <td>Yes</td>\n",
       "      <td>Female</td>\n",
       "      <td>26  30</td>\n",
       "      <td>Temporary Full-time</td>\n",
       "      <td>Administration (AO)</td>\n",
       "      <td>1-2</td>\n",
       "      <td>1-2</td>\n",
       "    </tr>\n",
       "    <tr>\n",
       "      <th>1</th>\n",
       "      <td>6.341337e+17</td>\n",
       "      <td>Mount Isa Institute of TAFE</td>\n",
       "      <td>Non-Delivery (corporate)</td>\n",
       "      <td>2010.0</td>\n",
       "      <td>Retirement</td>\n",
       "      <td>-</td>\n",
       "      <td>-</td>\n",
       "      <td>-</td>\n",
       "      <td>-</td>\n",
       "      <td>-</td>\n",
       "      <td>...</td>\n",
       "      <td>Yes</td>\n",
       "      <td>Yes</td>\n",
       "      <td>Yes</td>\n",
       "      <td>Yes</td>\n",
       "      <td>NaN</td>\n",
       "      <td>NaN</td>\n",
       "      <td>NaN</td>\n",
       "      <td>NaN</td>\n",
       "      <td>NaN</td>\n",
       "      <td>NaN</td>\n",
       "    </tr>\n",
       "    <tr>\n",
       "      <th>2</th>\n",
       "      <td>6.341388e+17</td>\n",
       "      <td>Mount Isa Institute of TAFE</td>\n",
       "      <td>Delivery (teaching)</td>\n",
       "      <td>2010.0</td>\n",
       "      <td>Retirement</td>\n",
       "      <td>-</td>\n",
       "      <td>-</td>\n",
       "      <td>-</td>\n",
       "      <td>-</td>\n",
       "      <td>-</td>\n",
       "      <td>...</td>\n",
       "      <td>Yes</td>\n",
       "      <td>Yes</td>\n",
       "      <td>Yes</td>\n",
       "      <td>Yes</td>\n",
       "      <td>NaN</td>\n",
       "      <td>NaN</td>\n",
       "      <td>NaN</td>\n",
       "      <td>NaN</td>\n",
       "      <td>NaN</td>\n",
       "      <td>NaN</td>\n",
       "    </tr>\n",
       "    <tr>\n",
       "      <th>3</th>\n",
       "      <td>6.341399e+17</td>\n",
       "      <td>Mount Isa Institute of TAFE</td>\n",
       "      <td>Non-Delivery (corporate)</td>\n",
       "      <td>2010.0</td>\n",
       "      <td>Resignation</td>\n",
       "      <td>-</td>\n",
       "      <td>-</td>\n",
       "      <td>-</td>\n",
       "      <td>-</td>\n",
       "      <td>-</td>\n",
       "      <td>...</td>\n",
       "      <td>Yes</td>\n",
       "      <td>Yes</td>\n",
       "      <td>Yes</td>\n",
       "      <td>Yes</td>\n",
       "      <td>NaN</td>\n",
       "      <td>NaN</td>\n",
       "      <td>NaN</td>\n",
       "      <td>NaN</td>\n",
       "      <td>NaN</td>\n",
       "      <td>NaN</td>\n",
       "    </tr>\n",
       "    <tr>\n",
       "      <th>4</th>\n",
       "      <td>6.341466e+17</td>\n",
       "      <td>Southern Queensland Institute of TAFE</td>\n",
       "      <td>Delivery (teaching)</td>\n",
       "      <td>2010.0</td>\n",
       "      <td>Resignation</td>\n",
       "      <td>-</td>\n",
       "      <td>Career Move - Private Sector</td>\n",
       "      <td>-</td>\n",
       "      <td>-</td>\n",
       "      <td>-</td>\n",
       "      <td>...</td>\n",
       "      <td>Yes</td>\n",
       "      <td>Yes</td>\n",
       "      <td>Yes</td>\n",
       "      <td>Yes</td>\n",
       "      <td>Male</td>\n",
       "      <td>41  45</td>\n",
       "      <td>Permanent Full-time</td>\n",
       "      <td>Teacher (including LVT)</td>\n",
       "      <td>3-4</td>\n",
       "      <td>3-4</td>\n",
       "    </tr>\n",
       "  </tbody>\n",
       "</table>\n",
       "<p>5 rows × 72 columns</p>\n",
       "</div>"
      ],
      "text/plain": [
       "      Record ID                              Institute  \\\n",
       "0  6.341330e+17  Southern Queensland Institute of TAFE   \n",
       "1  6.341337e+17            Mount Isa Institute of TAFE   \n",
       "2  6.341388e+17            Mount Isa Institute of TAFE   \n",
       "3  6.341399e+17            Mount Isa Institute of TAFE   \n",
       "4  6.341466e+17  Southern Queensland Institute of TAFE   \n",
       "\n",
       "                   WorkArea  CESSATION YEAR Reason for ceasing employment  \\\n",
       "0  Non-Delivery (corporate)          2010.0              Contract Expired   \n",
       "1  Non-Delivery (corporate)          2010.0                    Retirement   \n",
       "2       Delivery (teaching)          2010.0                    Retirement   \n",
       "3  Non-Delivery (corporate)          2010.0                   Resignation   \n",
       "4       Delivery (teaching)          2010.0                   Resignation   \n",
       "\n",
       "  Contributing Factors. Career Move - Public Sector   \\\n",
       "0                                                NaN   \n",
       "1                                                  -   \n",
       "2                                                  -   \n",
       "3                                                  -   \n",
       "4                                                  -   \n",
       "\n",
       "  Contributing Factors. Career Move - Private Sector   \\\n",
       "0                                                NaN    \n",
       "1                                                  -    \n",
       "2                                                  -    \n",
       "3                                                  -    \n",
       "4                       Career Move - Private Sector    \n",
       "\n",
       "  Contributing Factors. Career Move - Self-employment  \\\n",
       "0                                                NaN    \n",
       "1                                                  -    \n",
       "2                                                  -    \n",
       "3                                                  -    \n",
       "4                                                  -    \n",
       "\n",
       "  Contributing Factors. Ill Health Contributing Factors. Maternity/Family  \\\n",
       "0                              NaN                                    NaN   \n",
       "1                                -                                      -   \n",
       "2                                -                                      -   \n",
       "3                                -                                      -   \n",
       "4                                -                                      -   \n",
       "\n",
       "   ...  \\\n",
       "0  ...   \n",
       "1  ...   \n",
       "2  ...   \n",
       "3  ...   \n",
       "4  ...   \n",
       "\n",
       "  Workplace. Topic:Does your workplace promote a work culture free from all forms of unlawful discrimination?  \\\n",
       "0                                                Yes                                                            \n",
       "1                                                Yes                                                            \n",
       "2                                                Yes                                                            \n",
       "3                                                Yes                                                            \n",
       "4                                                Yes                                                            \n",
       "\n",
       "  Workplace. Topic:Does your workplace promote and practice the principles of employment equity?  \\\n",
       "0                                                Yes                                               \n",
       "1                                                Yes                                               \n",
       "2                                                Yes                                               \n",
       "3                                                Yes                                               \n",
       "4                                                Yes                                               \n",
       "\n",
       "  Workplace. Topic:Does your workplace value the diversity of its employees?  \\\n",
       "0                                                Yes                           \n",
       "1                                                Yes                           \n",
       "2                                                Yes                           \n",
       "3                                                Yes                           \n",
       "4                                                Yes                           \n",
       "\n",
       "  Workplace. Topic:Would you recommend the Institute as an employer to others?  \\\n",
       "0                                                Yes                             \n",
       "1                                                Yes                             \n",
       "2                                                Yes                             \n",
       "3                                                Yes                             \n",
       "4                                                Yes                             \n",
       "\n",
       "  Gender. What is your Gender? CurrentAge. Current Age  \\\n",
       "0                       Female                  26  30   \n",
       "1                          NaN                     NaN   \n",
       "2                          NaN                     NaN   \n",
       "3                          NaN                     NaN   \n",
       "4                         Male                  41  45   \n",
       "\n",
       "  Employment Type. Employment Type Classification. Classification  \\\n",
       "0              Temporary Full-time            Administration (AO)   \n",
       "1                              NaN                            NaN   \n",
       "2                              NaN                            NaN   \n",
       "3                              NaN                            NaN   \n",
       "4              Permanent Full-time        Teacher (including LVT)   \n",
       "\n",
       "  LengthofServiceOverall. Overall Length of Service at Institute (in years)  \\\n",
       "0                                                1-2                          \n",
       "1                                                NaN                          \n",
       "2                                                NaN                          \n",
       "3                                                NaN                          \n",
       "4                                                3-4                          \n",
       "\n",
       "  LengthofServiceCurrent. Length of Service at current workplace (in years)  \n",
       "0                                                1-2                         \n",
       "1                                                NaN                         \n",
       "2                                                NaN                         \n",
       "3                                                NaN                         \n",
       "4                                                3-4                         \n",
       "\n",
       "[5 rows x 72 columns]"
      ]
     },
     "execution_count": 8,
     "metadata": {},
     "output_type": "execute_result"
    }
   ],
   "source": [
    "tafe_survey.head()"
   ]
  },
  {
   "cell_type": "code",
   "execution_count": 9,
   "metadata": {
    "scrolled": true
   },
   "outputs": [
    {
     "data": {
      "text/plain": [
       "Record ID                                                                      0\n",
       "Institute                                                                      0\n",
       "WorkArea                                                                       0\n",
       "CESSATION YEAR                                                                 7\n",
       "Reason for ceasing employment                                                  1\n",
       "                                                                            ... \n",
       "CurrentAge. Current Age                                                      106\n",
       "Employment Type. Employment Type                                             106\n",
       "Classification. Classification                                               106\n",
       "LengthofServiceOverall. Overall Length of Service at Institute (in years)    106\n",
       "LengthofServiceCurrent. Length of Service at current workplace (in years)    106\n",
       "Length: 72, dtype: int64"
      ]
     },
     "execution_count": 9,
     "metadata": {},
     "output_type": "execute_result"
    }
   ],
   "source": [
    "tafe_survey.isnull().sum()"
   ]
  },
  {
   "cell_type": "markdown",
   "metadata": {},
   "source": [
    "**Observations:**\n",
    "- The column headers are excessively long, which makes the dataset harder to manipulate, hence we should change them to something much more concise.\n",
    "- There are columns with null values like `LengthofServiceCurrent`, etc. that we need to address before diving deeper into our analysis."
   ]
  },
  {
   "cell_type": "markdown",
   "metadata": {},
   "source": [
    "---"
   ]
  },
  {
   "cell_type": "markdown",
   "metadata": {},
   "source": [
    "## Data Cleaning:"
   ]
  },
  {
   "cell_type": "code",
   "execution_count": 10,
   "metadata": {},
   "outputs": [
    {
     "data": {
      "text/html": [
       "<div>\n",
       "<style scoped>\n",
       "    .dataframe tbody tr th:only-of-type {\n",
       "        vertical-align: middle;\n",
       "    }\n",
       "\n",
       "    .dataframe tbody tr th {\n",
       "        vertical-align: top;\n",
       "    }\n",
       "\n",
       "    .dataframe thead th {\n",
       "        text-align: right;\n",
       "    }\n",
       "</style>\n",
       "<table border=\"1\" class=\"dataframe\">\n",
       "  <thead>\n",
       "    <tr style=\"text-align: right;\">\n",
       "      <th></th>\n",
       "      <th>ID</th>\n",
       "      <th>SeparationType</th>\n",
       "      <th>Cease Date</th>\n",
       "      <th>DETE Start Date</th>\n",
       "      <th>Role Start Date</th>\n",
       "      <th>Position</th>\n",
       "      <th>Classification</th>\n",
       "      <th>Region</th>\n",
       "      <th>Business Unit</th>\n",
       "      <th>Employment Status</th>\n",
       "      <th>...</th>\n",
       "      <th>Kept informed</th>\n",
       "      <th>Wellness programs</th>\n",
       "      <th>Health &amp; Safety</th>\n",
       "      <th>Gender</th>\n",
       "      <th>Age</th>\n",
       "      <th>Aboriginal</th>\n",
       "      <th>Torres Strait</th>\n",
       "      <th>South Sea</th>\n",
       "      <th>Disability</th>\n",
       "      <th>NESB</th>\n",
       "    </tr>\n",
       "  </thead>\n",
       "  <tbody>\n",
       "    <tr>\n",
       "      <th>0</th>\n",
       "      <td>1</td>\n",
       "      <td>Ill Health Retirement</td>\n",
       "      <td>08/2012</td>\n",
       "      <td>1984.0</td>\n",
       "      <td>2004.0</td>\n",
       "      <td>Public Servant</td>\n",
       "      <td>A01-A04</td>\n",
       "      <td>Central Office</td>\n",
       "      <td>Corporate Strategy and Peformance</td>\n",
       "      <td>Permanent Full-time</td>\n",
       "      <td>...</td>\n",
       "      <td>N</td>\n",
       "      <td>N</td>\n",
       "      <td>N</td>\n",
       "      <td>Male</td>\n",
       "      <td>56-60</td>\n",
       "      <td>NaN</td>\n",
       "      <td>NaN</td>\n",
       "      <td>NaN</td>\n",
       "      <td>NaN</td>\n",
       "      <td>Yes</td>\n",
       "    </tr>\n",
       "    <tr>\n",
       "      <th>1</th>\n",
       "      <td>2</td>\n",
       "      <td>Voluntary Early Retirement (VER)</td>\n",
       "      <td>08/2012</td>\n",
       "      <td>NaN</td>\n",
       "      <td>NaN</td>\n",
       "      <td>Public Servant</td>\n",
       "      <td>AO5-AO7</td>\n",
       "      <td>Central Office</td>\n",
       "      <td>Corporate Strategy and Peformance</td>\n",
       "      <td>Permanent Full-time</td>\n",
       "      <td>...</td>\n",
       "      <td>N</td>\n",
       "      <td>N</td>\n",
       "      <td>N</td>\n",
       "      <td>Male</td>\n",
       "      <td>56-60</td>\n",
       "      <td>NaN</td>\n",
       "      <td>NaN</td>\n",
       "      <td>NaN</td>\n",
       "      <td>NaN</td>\n",
       "      <td>NaN</td>\n",
       "    </tr>\n",
       "    <tr>\n",
       "      <th>2</th>\n",
       "      <td>3</td>\n",
       "      <td>Voluntary Early Retirement (VER)</td>\n",
       "      <td>05/2012</td>\n",
       "      <td>2011.0</td>\n",
       "      <td>2011.0</td>\n",
       "      <td>Schools Officer</td>\n",
       "      <td>NaN</td>\n",
       "      <td>Central Office</td>\n",
       "      <td>Education Queensland</td>\n",
       "      <td>Permanent Full-time</td>\n",
       "      <td>...</td>\n",
       "      <td>N</td>\n",
       "      <td>N</td>\n",
       "      <td>N</td>\n",
       "      <td>Male</td>\n",
       "      <td>61 or older</td>\n",
       "      <td>NaN</td>\n",
       "      <td>NaN</td>\n",
       "      <td>NaN</td>\n",
       "      <td>NaN</td>\n",
       "      <td>NaN</td>\n",
       "    </tr>\n",
       "    <tr>\n",
       "      <th>3</th>\n",
       "      <td>4</td>\n",
       "      <td>Resignation-Other reasons</td>\n",
       "      <td>05/2012</td>\n",
       "      <td>2005.0</td>\n",
       "      <td>2006.0</td>\n",
       "      <td>Teacher</td>\n",
       "      <td>Primary</td>\n",
       "      <td>Central Queensland</td>\n",
       "      <td>NaN</td>\n",
       "      <td>Permanent Full-time</td>\n",
       "      <td>...</td>\n",
       "      <td>A</td>\n",
       "      <td>N</td>\n",
       "      <td>A</td>\n",
       "      <td>Female</td>\n",
       "      <td>36-40</td>\n",
       "      <td>NaN</td>\n",
       "      <td>NaN</td>\n",
       "      <td>NaN</td>\n",
       "      <td>NaN</td>\n",
       "      <td>NaN</td>\n",
       "    </tr>\n",
       "    <tr>\n",
       "      <th>4</th>\n",
       "      <td>5</td>\n",
       "      <td>Age Retirement</td>\n",
       "      <td>05/2012</td>\n",
       "      <td>1970.0</td>\n",
       "      <td>1989.0</td>\n",
       "      <td>Head of Curriculum/Head of Special Education</td>\n",
       "      <td>NaN</td>\n",
       "      <td>South East</td>\n",
       "      <td>NaN</td>\n",
       "      <td>Permanent Full-time</td>\n",
       "      <td>...</td>\n",
       "      <td>N</td>\n",
       "      <td>A</td>\n",
       "      <td>M</td>\n",
       "      <td>Female</td>\n",
       "      <td>61 or older</td>\n",
       "      <td>NaN</td>\n",
       "      <td>NaN</td>\n",
       "      <td>NaN</td>\n",
       "      <td>NaN</td>\n",
       "      <td>NaN</td>\n",
       "    </tr>\n",
       "  </tbody>\n",
       "</table>\n",
       "<p>5 rows × 56 columns</p>\n",
       "</div>"
      ],
      "text/plain": [
       "   ID                    SeparationType Cease Date  DETE Start Date  \\\n",
       "0   1             Ill Health Retirement    08/2012           1984.0   \n",
       "1   2  Voluntary Early Retirement (VER)    08/2012              NaN   \n",
       "2   3  Voluntary Early Retirement (VER)    05/2012           2011.0   \n",
       "3   4         Resignation-Other reasons    05/2012           2005.0   \n",
       "4   5                    Age Retirement    05/2012           1970.0   \n",
       "\n",
       "   Role Start Date                                      Position  \\\n",
       "0           2004.0                                Public Servant   \n",
       "1              NaN                                Public Servant   \n",
       "2           2011.0                               Schools Officer   \n",
       "3           2006.0                                       Teacher   \n",
       "4           1989.0  Head of Curriculum/Head of Special Education   \n",
       "\n",
       "  Classification              Region                      Business Unit  \\\n",
       "0        A01-A04      Central Office  Corporate Strategy and Peformance   \n",
       "1        AO5-AO7      Central Office  Corporate Strategy and Peformance   \n",
       "2            NaN      Central Office               Education Queensland   \n",
       "3        Primary  Central Queensland                                NaN   \n",
       "4            NaN          South East                                NaN   \n",
       "\n",
       "     Employment Status  ...  Kept informed  Wellness programs  \\\n",
       "0  Permanent Full-time  ...              N                  N   \n",
       "1  Permanent Full-time  ...              N                  N   \n",
       "2  Permanent Full-time  ...              N                  N   \n",
       "3  Permanent Full-time  ...              A                  N   \n",
       "4  Permanent Full-time  ...              N                  A   \n",
       "\n",
       "   Health & Safety  Gender          Age  Aboriginal  Torres Strait  South Sea  \\\n",
       "0                N    Male        56-60         NaN            NaN        NaN   \n",
       "1                N    Male        56-60         NaN            NaN        NaN   \n",
       "2                N    Male  61 or older         NaN            NaN        NaN   \n",
       "3                A  Female        36-40         NaN            NaN        NaN   \n",
       "4                M  Female  61 or older         NaN            NaN        NaN   \n",
       "\n",
       "   Disability  NESB  \n",
       "0         NaN   Yes  \n",
       "1         NaN   NaN  \n",
       "2         NaN   NaN  \n",
       "3         NaN   NaN  \n",
       "4         NaN   NaN  \n",
       "\n",
       "[5 rows x 56 columns]"
      ]
     },
     "execution_count": 10,
     "metadata": {},
     "output_type": "execute_result"
    }
   ],
   "source": [
    "# in order to include the 'Not Stated' values as NaN:\n",
    "dete_survey = pd.read_csv('dete_survey.csv', na_values='Not Stated')\n",
    "dete_survey.head()"
   ]
  },
  {
   "cell_type": "markdown",
   "metadata": {},
   "source": [
    "We see that the 'Not Stated' values have now been converted to 'NaN' values in the dataset."
   ]
  },
  {
   "cell_type": "code",
   "execution_count": 11,
   "metadata": {},
   "outputs": [
    {
     "data": {
      "text/plain": [
       "Index(['Professional Development', 'Opportunities for promotion',\n",
       "       'Staff morale', 'Workplace issue', 'Physical environment',\n",
       "       'Worklife balance', 'Stress and pressure support',\n",
       "       'Performance of supervisor', 'Peer support', 'Initiative', 'Skills',\n",
       "       'Coach', 'Career Aspirations', 'Feedback', 'Further PD',\n",
       "       'Communication', 'My say', 'Information', 'Kept informed',\n",
       "       'Wellness programs', 'Health & Safety'],\n",
       "      dtype='object')"
      ]
     },
     "execution_count": 11,
     "metadata": {},
     "output_type": "execute_result"
    }
   ],
   "source": [
    "# dropping columns that are not required for our analysis in dete_survey:\n",
    "dete_survey.columns[28:49]"
   ]
  },
  {
   "cell_type": "code",
   "execution_count": 12,
   "metadata": {},
   "outputs": [],
   "source": [
    "dete_survey_updated = dete_survey.drop(dete_survey.columns[28:49], axis=1)"
   ]
  },
  {
   "cell_type": "code",
   "execution_count": 13,
   "metadata": {},
   "outputs": [
    {
     "data": {
      "text/plain": [
       "Index(['Main Factor. Which of these was the main factor for leaving?',\n",
       "       'InstituteViews. Topic:1. I feel the senior leadership had a clear vision and direction',\n",
       "       'InstituteViews. Topic:2. I was given access to skills training to help me do my job better',\n",
       "       'InstituteViews. Topic:3. I was given adequate opportunities for personal development',\n",
       "       'InstituteViews. Topic:4. I was given adequate opportunities for promotion within %Institute]Q25LBL%',\n",
       "       'InstituteViews. Topic:5. I felt the salary for the job was right for the responsibilities I had',\n",
       "       'InstituteViews. Topic:6. The organisation recognised when staff did good work',\n",
       "       'InstituteViews. Topic:7. Management was generally supportive of me',\n",
       "       'InstituteViews. Topic:8. Management was generally supportive of my team',\n",
       "       'InstituteViews. Topic:9. I was kept informed of the changes in the organisation which would affect me',\n",
       "       'InstituteViews. Topic:10. Staff morale was positive within the Institute',\n",
       "       'InstituteViews. Topic:11. If I had a workplace issue it was dealt with quickly',\n",
       "       'InstituteViews. Topic:12. If I had a workplace issue it was dealt with efficiently',\n",
       "       'InstituteViews. Topic:13. If I had a workplace issue it was dealt with discreetly',\n",
       "       'WorkUnitViews. Topic:14. I was satisfied with the quality of the management and supervision within my work unit',\n",
       "       'WorkUnitViews. Topic:15. I worked well with my colleagues',\n",
       "       'WorkUnitViews. Topic:16. My job was challenging and interesting',\n",
       "       'WorkUnitViews. Topic:17. I was encouraged to use my initiative in the course of my work',\n",
       "       'WorkUnitViews. Topic:18. I had sufficient contact with other people in my job',\n",
       "       'WorkUnitViews. Topic:19. I was given adequate support and co-operation by my peers to enable me to do my job',\n",
       "       'WorkUnitViews. Topic:20. I was able to use the full range of my skills in my job',\n",
       "       'WorkUnitViews. Topic:21. I was able to use the full range of my abilities in my job. ; Category:Level of Agreement; Question:YOUR VIEWS ABOUT YOUR WORK UNIT]',\n",
       "       'WorkUnitViews. Topic:22. I was able to use the full range of my knowledge in my job',\n",
       "       'WorkUnitViews. Topic:23. My job provided sufficient variety',\n",
       "       'WorkUnitViews. Topic:24. I was able to cope with the level of stress and pressure in my job',\n",
       "       'WorkUnitViews. Topic:25. My job allowed me to balance the demands of work and family to my satisfaction',\n",
       "       'WorkUnitViews. Topic:26. My supervisor gave me adequate personal recognition and feedback on my performance',\n",
       "       'WorkUnitViews. Topic:27. My working environment was satisfactory e.g. sufficient space, good lighting, suitable seating and working area',\n",
       "       'WorkUnitViews. Topic:28. I was given the opportunity to mentor and coach others in order for me to pass on my skills and knowledge prior to my cessation date',\n",
       "       'WorkUnitViews. Topic:29. There was adequate communication between staff in my unit',\n",
       "       'WorkUnitViews. Topic:30. Staff morale was positive within my work unit',\n",
       "       'Induction. Did you undertake Workplace Induction?',\n",
       "       'InductionInfo. Topic:Did you undertake a Corporate Induction?',\n",
       "       'InductionInfo. Topic:Did you undertake a Institute Induction?',\n",
       "       'InductionInfo. Topic: Did you undertake Team Induction?',\n",
       "       'InductionInfo. Face to Face Topic:Did you undertake a Corporate Induction; Category:How it was conducted?',\n",
       "       'InductionInfo. On-line Topic:Did you undertake a Corporate Induction; Category:How it was conducted?',\n",
       "       'InductionInfo. Induction Manual Topic:Did you undertake a Corporate Induction?',\n",
       "       'InductionInfo. Face to Face Topic:Did you undertake a Institute Induction?',\n",
       "       'InductionInfo. On-line Topic:Did you undertake a Institute Induction?',\n",
       "       'InductionInfo. Induction Manual Topic:Did you undertake a Institute Induction?',\n",
       "       'InductionInfo. Face to Face Topic: Did you undertake Team Induction; Category?',\n",
       "       'InductionInfo. On-line Topic: Did you undertake Team Induction?process you undertook and how it was conducted.]',\n",
       "       'InductionInfo. Induction Manual Topic: Did you undertake Team Induction?',\n",
       "       'Workplace. Topic:Did you and your Manager develop a Performance and Professional Development Plan (PPDP)?',\n",
       "       'Workplace. Topic:Does your workplace promote a work culture free from all forms of unlawful discrimination?',\n",
       "       'Workplace. Topic:Does your workplace promote and practice the principles of employment equity?',\n",
       "       'Workplace. Topic:Does your workplace value the diversity of its employees?',\n",
       "       'Workplace. Topic:Would you recommend the Institute as an employer to others?'],\n",
       "      dtype='object')"
      ]
     },
     "execution_count": 13,
     "metadata": {},
     "output_type": "execute_result"
    }
   ],
   "source": [
    "# dropping the columns that we don't need in tafe_survey:\n",
    "tafe_survey.columns[17:66]"
   ]
  },
  {
   "cell_type": "code",
   "execution_count": 14,
   "metadata": {},
   "outputs": [],
   "source": [
    "tafe_survey_updated = tafe_survey.drop(tafe_survey.columns[17:66], axis=1)"
   ]
  },
  {
   "cell_type": "markdown",
   "metadata": {},
   "source": [
    "We see that there are several columns with similar data but different column headers.Below are some of the columns we'd like to use for our final analysis:\n",
    "\n",
    "|dete_survey|tafe_survey|Definition|\n",
    "|-----------|-----------|----------|\n",
    "|`ID`|`Record ID` |An id used to identify the participant of the survey|\n",
    "|`SeparationType`|`Reason for ceasing employment`|The reason why the person's employment ended|\n",
    "|`Cease Date`|`CESSATION YEAR`|The year or month the person's employment ended|\n",
    "|`DETE Start Date`|` `| The year the person began employment with the DETE|\n",
    "|` `|`LengthofServiceOverall.Overall Length of Service at Institute(in years)`|The length of the person's employment(in years)|\n",
    "|`Age`|`CurrentAge.Current Age`| The year the person began employment with the DETE|\n",
    "|`Gender`|`\tGender.What is your Gender?`| The year the person began employment with the DETE|\n",
    "\n",
    "\n",
    "**Let's make the headers uniform which would help us merge the datasets together and help with grouping similar data together.** "
   ]
  },
  {
   "cell_type": "code",
   "execution_count": 15,
   "metadata": {},
   "outputs": [
    {
     "data": {
      "text/plain": [
       "Index(['ID', 'SeparationType', 'Cease Date', 'DETE Start Date',\n",
       "       'Role Start Date', 'Position', 'Classification', 'Region',\n",
       "       'Business Unit', 'Employment Status', 'Career move to public sector',\n",
       "       'Career move to private sector', 'Interpersonal conflicts',\n",
       "       'Job dissatisfaction', 'Dissatisfaction with the department',\n",
       "       'Physical work environment', 'Lack of recognition',\n",
       "       'Lack of job security', 'Work location', 'Employment conditions',\n",
       "       'Maternity/family', 'Relocation', 'Study/Travel', 'Ill Health',\n",
       "       'Traumatic incident', 'Work life balance', 'Workload',\n",
       "       'None of the above', 'Gender', 'Age', 'Aboriginal', 'Torres Strait',\n",
       "       'South Sea', 'Disability', 'NESB'],\n",
       "      dtype='object')"
      ]
     },
     "execution_count": 15,
     "metadata": {},
     "output_type": "execute_result"
    }
   ],
   "source": [
    "# let's cleanup the column headers in our datasets:\n",
    "\n",
    "## starting with dete_survey_updated:\n",
    "dete_survey_updated.columns"
   ]
  },
  {
   "cell_type": "code",
   "execution_count": 16,
   "metadata": {},
   "outputs": [
    {
     "data": {
      "text/plain": [
       "Index(['id', 'separationtype', 'cease_date', 'dete_start_date',\n",
       "       'role_start_date', 'position', 'classification', 'region',\n",
       "       'business_unit', 'employment_status', 'career_move_to_public_sector',\n",
       "       'career_move_to_private_sector', 'interpersonal_conflicts',\n",
       "       'job_dissatisfaction', 'dissatisfaction_with_the_department',\n",
       "       'physical_work_environment', 'lack_of_recognition',\n",
       "       'lack_of_job_security', 'work_location', 'employment_conditions',\n",
       "       'maternity/family', 'relocation', 'study/travel', 'ill_health',\n",
       "       'traumatic_incident', 'work_life_balance', 'workload',\n",
       "       'none_of_the_above', 'gender', 'age', 'aboriginal', 'torres_strait',\n",
       "       'south_sea', 'disability', 'nesb'],\n",
       "      dtype='object')"
      ]
     },
     "execution_count": 16,
     "metadata": {},
     "output_type": "execute_result"
    }
   ],
   "source": [
    "dete_survey_updated.columns = dete_survey_updated.columns.str.lower().str.replace(' ','_')\n",
    "dete_survey_updated.columns"
   ]
  },
  {
   "cell_type": "code",
   "execution_count": 17,
   "metadata": {},
   "outputs": [
    {
     "data": {
      "text/html": [
       "<div>\n",
       "<style scoped>\n",
       "    .dataframe tbody tr th:only-of-type {\n",
       "        vertical-align: middle;\n",
       "    }\n",
       "\n",
       "    .dataframe tbody tr th {\n",
       "        vertical-align: top;\n",
       "    }\n",
       "\n",
       "    .dataframe thead th {\n",
       "        text-align: right;\n",
       "    }\n",
       "</style>\n",
       "<table border=\"1\" class=\"dataframe\">\n",
       "  <thead>\n",
       "    <tr style=\"text-align: right;\">\n",
       "      <th></th>\n",
       "      <th>id</th>\n",
       "      <th>Institute</th>\n",
       "      <th>WorkArea</th>\n",
       "      <th>cease_date</th>\n",
       "      <th>separationtype</th>\n",
       "      <th>Contributing Factors. Career Move - Public Sector</th>\n",
       "      <th>Contributing Factors. Career Move - Private Sector</th>\n",
       "      <th>Contributing Factors. Career Move - Self-employment</th>\n",
       "      <th>Contributing Factors. Ill Health</th>\n",
       "      <th>Contributing Factors. Maternity/Family</th>\n",
       "      <th>...</th>\n",
       "      <th>Contributing Factors. Study</th>\n",
       "      <th>Contributing Factors. Travel</th>\n",
       "      <th>Contributing Factors. Other</th>\n",
       "      <th>Contributing Factors. NONE</th>\n",
       "      <th>gender</th>\n",
       "      <th>age</th>\n",
       "      <th>employment_status</th>\n",
       "      <th>position</th>\n",
       "      <th>institute_service</th>\n",
       "      <th>role_service</th>\n",
       "    </tr>\n",
       "  </thead>\n",
       "  <tbody>\n",
       "    <tr>\n",
       "      <th>0</th>\n",
       "      <td>6.341330e+17</td>\n",
       "      <td>Southern Queensland Institute of TAFE</td>\n",
       "      <td>Non-Delivery (corporate)</td>\n",
       "      <td>2010.0</td>\n",
       "      <td>Contract Expired</td>\n",
       "      <td>NaN</td>\n",
       "      <td>NaN</td>\n",
       "      <td>NaN</td>\n",
       "      <td>NaN</td>\n",
       "      <td>NaN</td>\n",
       "      <td>...</td>\n",
       "      <td>NaN</td>\n",
       "      <td>NaN</td>\n",
       "      <td>NaN</td>\n",
       "      <td>NaN</td>\n",
       "      <td>Female</td>\n",
       "      <td>26  30</td>\n",
       "      <td>Temporary Full-time</td>\n",
       "      <td>Administration (AO)</td>\n",
       "      <td>1-2</td>\n",
       "      <td>1-2</td>\n",
       "    </tr>\n",
       "    <tr>\n",
       "      <th>1</th>\n",
       "      <td>6.341337e+17</td>\n",
       "      <td>Mount Isa Institute of TAFE</td>\n",
       "      <td>Non-Delivery (corporate)</td>\n",
       "      <td>2010.0</td>\n",
       "      <td>Retirement</td>\n",
       "      <td>-</td>\n",
       "      <td>-</td>\n",
       "      <td>-</td>\n",
       "      <td>-</td>\n",
       "      <td>-</td>\n",
       "      <td>...</td>\n",
       "      <td>-</td>\n",
       "      <td>Travel</td>\n",
       "      <td>-</td>\n",
       "      <td>-</td>\n",
       "      <td>NaN</td>\n",
       "      <td>NaN</td>\n",
       "      <td>NaN</td>\n",
       "      <td>NaN</td>\n",
       "      <td>NaN</td>\n",
       "      <td>NaN</td>\n",
       "    </tr>\n",
       "    <tr>\n",
       "      <th>2</th>\n",
       "      <td>6.341388e+17</td>\n",
       "      <td>Mount Isa Institute of TAFE</td>\n",
       "      <td>Delivery (teaching)</td>\n",
       "      <td>2010.0</td>\n",
       "      <td>Retirement</td>\n",
       "      <td>-</td>\n",
       "      <td>-</td>\n",
       "      <td>-</td>\n",
       "      <td>-</td>\n",
       "      <td>-</td>\n",
       "      <td>...</td>\n",
       "      <td>-</td>\n",
       "      <td>-</td>\n",
       "      <td>-</td>\n",
       "      <td>NONE</td>\n",
       "      <td>NaN</td>\n",
       "      <td>NaN</td>\n",
       "      <td>NaN</td>\n",
       "      <td>NaN</td>\n",
       "      <td>NaN</td>\n",
       "      <td>NaN</td>\n",
       "    </tr>\n",
       "    <tr>\n",
       "      <th>3</th>\n",
       "      <td>6.341399e+17</td>\n",
       "      <td>Mount Isa Institute of TAFE</td>\n",
       "      <td>Non-Delivery (corporate)</td>\n",
       "      <td>2010.0</td>\n",
       "      <td>Resignation</td>\n",
       "      <td>-</td>\n",
       "      <td>-</td>\n",
       "      <td>-</td>\n",
       "      <td>-</td>\n",
       "      <td>-</td>\n",
       "      <td>...</td>\n",
       "      <td>-</td>\n",
       "      <td>Travel</td>\n",
       "      <td>-</td>\n",
       "      <td>-</td>\n",
       "      <td>NaN</td>\n",
       "      <td>NaN</td>\n",
       "      <td>NaN</td>\n",
       "      <td>NaN</td>\n",
       "      <td>NaN</td>\n",
       "      <td>NaN</td>\n",
       "    </tr>\n",
       "    <tr>\n",
       "      <th>4</th>\n",
       "      <td>6.341466e+17</td>\n",
       "      <td>Southern Queensland Institute of TAFE</td>\n",
       "      <td>Delivery (teaching)</td>\n",
       "      <td>2010.0</td>\n",
       "      <td>Resignation</td>\n",
       "      <td>-</td>\n",
       "      <td>Career Move - Private Sector</td>\n",
       "      <td>-</td>\n",
       "      <td>-</td>\n",
       "      <td>-</td>\n",
       "      <td>...</td>\n",
       "      <td>-</td>\n",
       "      <td>-</td>\n",
       "      <td>-</td>\n",
       "      <td>-</td>\n",
       "      <td>Male</td>\n",
       "      <td>41  45</td>\n",
       "      <td>Permanent Full-time</td>\n",
       "      <td>Teacher (including LVT)</td>\n",
       "      <td>3-4</td>\n",
       "      <td>3-4</td>\n",
       "    </tr>\n",
       "  </tbody>\n",
       "</table>\n",
       "<p>5 rows × 23 columns</p>\n",
       "</div>"
      ],
      "text/plain": [
       "             id                              Institute  \\\n",
       "0  6.341330e+17  Southern Queensland Institute of TAFE   \n",
       "1  6.341337e+17            Mount Isa Institute of TAFE   \n",
       "2  6.341388e+17            Mount Isa Institute of TAFE   \n",
       "3  6.341399e+17            Mount Isa Institute of TAFE   \n",
       "4  6.341466e+17  Southern Queensland Institute of TAFE   \n",
       "\n",
       "                   WorkArea  cease_date    separationtype  \\\n",
       "0  Non-Delivery (corporate)      2010.0  Contract Expired   \n",
       "1  Non-Delivery (corporate)      2010.0        Retirement   \n",
       "2       Delivery (teaching)      2010.0        Retirement   \n",
       "3  Non-Delivery (corporate)      2010.0       Resignation   \n",
       "4       Delivery (teaching)      2010.0       Resignation   \n",
       "\n",
       "  Contributing Factors. Career Move - Public Sector   \\\n",
       "0                                                NaN   \n",
       "1                                                  -   \n",
       "2                                                  -   \n",
       "3                                                  -   \n",
       "4                                                  -   \n",
       "\n",
       "  Contributing Factors. Career Move - Private Sector   \\\n",
       "0                                                NaN    \n",
       "1                                                  -    \n",
       "2                                                  -    \n",
       "3                                                  -    \n",
       "4                       Career Move - Private Sector    \n",
       "\n",
       "  Contributing Factors. Career Move - Self-employment  \\\n",
       "0                                                NaN    \n",
       "1                                                  -    \n",
       "2                                                  -    \n",
       "3                                                  -    \n",
       "4                                                  -    \n",
       "\n",
       "  Contributing Factors. Ill Health Contributing Factors. Maternity/Family  \\\n",
       "0                              NaN                                    NaN   \n",
       "1                                -                                      -   \n",
       "2                                -                                      -   \n",
       "3                                -                                      -   \n",
       "4                                -                                      -   \n",
       "\n",
       "   ... Contributing Factors. Study Contributing Factors. Travel  \\\n",
       "0  ...                         NaN                          NaN   \n",
       "1  ...                           -                       Travel   \n",
       "2  ...                           -                            -   \n",
       "3  ...                           -                       Travel   \n",
       "4  ...                           -                            -   \n",
       "\n",
       "  Contributing Factors. Other Contributing Factors. NONE  gender     age  \\\n",
       "0                         NaN                        NaN  Female  26  30   \n",
       "1                           -                          -     NaN     NaN   \n",
       "2                           -                       NONE     NaN     NaN   \n",
       "3                           -                          -     NaN     NaN   \n",
       "4                           -                          -    Male  41  45   \n",
       "\n",
       "     employment_status                 position institute_service role_service  \n",
       "0  Temporary Full-time      Administration (AO)               1-2          1-2  \n",
       "1                  NaN                      NaN               NaN          NaN  \n",
       "2                  NaN                      NaN               NaN          NaN  \n",
       "3                  NaN                      NaN               NaN          NaN  \n",
       "4  Permanent Full-time  Teacher (including LVT)               3-4          3-4  \n",
       "\n",
       "[5 rows x 23 columns]"
      ]
     },
     "execution_count": 17,
     "metadata": {},
     "output_type": "execute_result"
    }
   ],
   "source": [
    "## modifying the column headers of tafe_survey_updated:\n",
    "new_names = ({'Record ID': 'id','CESSATION YEAR': 'cease_date','Reason for ceasing employment': 'separationtype',\n",
    "           'Gender. What is your Gender?': 'gender','CurrentAge. Current Age': 'age',\n",
    "           'Employment Type. Employment Type': 'employment_status',\n",
    "           'Classification. Classification': 'position',\n",
    "           'LengthofServiceOverall. Overall Length of Service at Institute (in years)': 'institute_service',\n",
    "           'LengthofServiceCurrent. Length of Service at current workplace (in years)': 'role_service'})\n",
    "\n",
    "tafe_survey_updated = tafe_survey_updated.rename(new_names, axis=1)\n",
    "tafe_survey_updated.head()"
   ]
  },
  {
   "cell_type": "markdown",
   "metadata": {},
   "source": [
    "In order to get the answer for our questions, we need to focus on the ***'separationtype'*** column of our dataset.\n",
    "- We need to analyse job-separation due to ***'Resignation'*** to better get to the answer."
   ]
  },
  {
   "cell_type": "code",
   "execution_count": 18,
   "metadata": {},
   "outputs": [
    {
     "data": {
      "text/plain": [
       "Age Retirement                          285\n",
       "Resignation-Other reasons               150\n",
       "Resignation-Other employer               91\n",
       "Resignation-Move overseas/interstate     70\n",
       "Voluntary Early Retirement (VER)         67\n",
       "Ill Health Retirement                    61\n",
       "Other                                    49\n",
       "Contract Expired                         34\n",
       "Termination                              15\n",
       "Name: separationtype, dtype: int64"
      ]
     },
     "execution_count": 18,
     "metadata": {},
     "output_type": "execute_result"
    }
   ],
   "source": [
    "# for dete_survey:\n",
    "dete_survey_updated['separationtype'].value_counts()"
   ]
  },
  {
   "cell_type": "markdown",
   "metadata": {},
   "source": [
    "In dete_survey we see mainly see 3 main resignantion types:\n",
    "- `Resignation-Other reasons`\n",
    "- `Resignation-Other employer`\n",
    "- `Resignation-Move overseas/interstate`"
   ]
  },
  {
   "cell_type": "code",
   "execution_count": 19,
   "metadata": {},
   "outputs": [
    {
     "data": {
      "text/html": [
       "<div>\n",
       "<style scoped>\n",
       "    .dataframe tbody tr th:only-of-type {\n",
       "        vertical-align: middle;\n",
       "    }\n",
       "\n",
       "    .dataframe tbody tr th {\n",
       "        vertical-align: top;\n",
       "    }\n",
       "\n",
       "    .dataframe thead th {\n",
       "        text-align: right;\n",
       "    }\n",
       "</style>\n",
       "<table border=\"1\" class=\"dataframe\">\n",
       "  <thead>\n",
       "    <tr style=\"text-align: right;\">\n",
       "      <th></th>\n",
       "      <th>id</th>\n",
       "      <th>separationtype</th>\n",
       "      <th>cease_date</th>\n",
       "      <th>dete_start_date</th>\n",
       "      <th>role_start_date</th>\n",
       "      <th>position</th>\n",
       "      <th>classification</th>\n",
       "      <th>region</th>\n",
       "      <th>business_unit</th>\n",
       "      <th>employment_status</th>\n",
       "      <th>...</th>\n",
       "      <th>work_life_balance</th>\n",
       "      <th>workload</th>\n",
       "      <th>none_of_the_above</th>\n",
       "      <th>gender</th>\n",
       "      <th>age</th>\n",
       "      <th>aboriginal</th>\n",
       "      <th>torres_strait</th>\n",
       "      <th>south_sea</th>\n",
       "      <th>disability</th>\n",
       "      <th>nesb</th>\n",
       "    </tr>\n",
       "  </thead>\n",
       "  <tbody>\n",
       "    <tr>\n",
       "      <th>3</th>\n",
       "      <td>4</td>\n",
       "      <td>Resignation-Other reasons</td>\n",
       "      <td>05/2012</td>\n",
       "      <td>2005.0</td>\n",
       "      <td>2006.0</td>\n",
       "      <td>Teacher</td>\n",
       "      <td>Primary</td>\n",
       "      <td>Central Queensland</td>\n",
       "      <td>NaN</td>\n",
       "      <td>Permanent Full-time</td>\n",
       "      <td>...</td>\n",
       "      <td>False</td>\n",
       "      <td>False</td>\n",
       "      <td>False</td>\n",
       "      <td>Female</td>\n",
       "      <td>36-40</td>\n",
       "      <td>NaN</td>\n",
       "      <td>NaN</td>\n",
       "      <td>NaN</td>\n",
       "      <td>NaN</td>\n",
       "      <td>NaN</td>\n",
       "    </tr>\n",
       "    <tr>\n",
       "      <th>5</th>\n",
       "      <td>6</td>\n",
       "      <td>Resignation-Other reasons</td>\n",
       "      <td>05/2012</td>\n",
       "      <td>1994.0</td>\n",
       "      <td>1997.0</td>\n",
       "      <td>Guidance Officer</td>\n",
       "      <td>NaN</td>\n",
       "      <td>Central Office</td>\n",
       "      <td>Education Queensland</td>\n",
       "      <td>Permanent Full-time</td>\n",
       "      <td>...</td>\n",
       "      <td>False</td>\n",
       "      <td>False</td>\n",
       "      <td>False</td>\n",
       "      <td>Female</td>\n",
       "      <td>41-45</td>\n",
       "      <td>NaN</td>\n",
       "      <td>NaN</td>\n",
       "      <td>NaN</td>\n",
       "      <td>NaN</td>\n",
       "      <td>NaN</td>\n",
       "    </tr>\n",
       "    <tr>\n",
       "      <th>8</th>\n",
       "      <td>9</td>\n",
       "      <td>Resignation-Other reasons</td>\n",
       "      <td>07/2012</td>\n",
       "      <td>2009.0</td>\n",
       "      <td>2009.0</td>\n",
       "      <td>Teacher</td>\n",
       "      <td>Secondary</td>\n",
       "      <td>North Queensland</td>\n",
       "      <td>NaN</td>\n",
       "      <td>Permanent Full-time</td>\n",
       "      <td>...</td>\n",
       "      <td>False</td>\n",
       "      <td>False</td>\n",
       "      <td>False</td>\n",
       "      <td>Female</td>\n",
       "      <td>31-35</td>\n",
       "      <td>NaN</td>\n",
       "      <td>NaN</td>\n",
       "      <td>NaN</td>\n",
       "      <td>NaN</td>\n",
       "      <td>NaN</td>\n",
       "    </tr>\n",
       "    <tr>\n",
       "      <th>9</th>\n",
       "      <td>10</td>\n",
       "      <td>Resignation-Other employer</td>\n",
       "      <td>2012</td>\n",
       "      <td>1997.0</td>\n",
       "      <td>2008.0</td>\n",
       "      <td>Teacher Aide</td>\n",
       "      <td>NaN</td>\n",
       "      <td>NaN</td>\n",
       "      <td>NaN</td>\n",
       "      <td>Permanent Part-time</td>\n",
       "      <td>...</td>\n",
       "      <td>False</td>\n",
       "      <td>False</td>\n",
       "      <td>False</td>\n",
       "      <td>Female</td>\n",
       "      <td>46-50</td>\n",
       "      <td>NaN</td>\n",
       "      <td>NaN</td>\n",
       "      <td>NaN</td>\n",
       "      <td>NaN</td>\n",
       "      <td>NaN</td>\n",
       "    </tr>\n",
       "    <tr>\n",
       "      <th>11</th>\n",
       "      <td>12</td>\n",
       "      <td>Resignation-Move overseas/interstate</td>\n",
       "      <td>2012</td>\n",
       "      <td>2009.0</td>\n",
       "      <td>2009.0</td>\n",
       "      <td>Teacher</td>\n",
       "      <td>Secondary</td>\n",
       "      <td>Far North Queensland</td>\n",
       "      <td>NaN</td>\n",
       "      <td>Permanent Full-time</td>\n",
       "      <td>...</td>\n",
       "      <td>False</td>\n",
       "      <td>False</td>\n",
       "      <td>False</td>\n",
       "      <td>Male</td>\n",
       "      <td>31-35</td>\n",
       "      <td>NaN</td>\n",
       "      <td>NaN</td>\n",
       "      <td>NaN</td>\n",
       "      <td>NaN</td>\n",
       "      <td>NaN</td>\n",
       "    </tr>\n",
       "  </tbody>\n",
       "</table>\n",
       "<p>5 rows × 35 columns</p>\n",
       "</div>"
      ],
      "text/plain": [
       "    id                        separationtype cease_date  dete_start_date  \\\n",
       "3    4             Resignation-Other reasons    05/2012           2005.0   \n",
       "5    6             Resignation-Other reasons    05/2012           1994.0   \n",
       "8    9             Resignation-Other reasons    07/2012           2009.0   \n",
       "9   10            Resignation-Other employer       2012           1997.0   \n",
       "11  12  Resignation-Move overseas/interstate       2012           2009.0   \n",
       "\n",
       "    role_start_date          position classification                region  \\\n",
       "3            2006.0           Teacher        Primary    Central Queensland   \n",
       "5            1997.0  Guidance Officer            NaN        Central Office   \n",
       "8            2009.0           Teacher      Secondary      North Queensland   \n",
       "9            2008.0      Teacher Aide            NaN                   NaN   \n",
       "11           2009.0           Teacher      Secondary  Far North Queensland   \n",
       "\n",
       "           business_unit    employment_status  ...  work_life_balance  \\\n",
       "3                    NaN  Permanent Full-time  ...              False   \n",
       "5   Education Queensland  Permanent Full-time  ...              False   \n",
       "8                    NaN  Permanent Full-time  ...              False   \n",
       "9                    NaN  Permanent Part-time  ...              False   \n",
       "11                   NaN  Permanent Full-time  ...              False   \n",
       "\n",
       "    workload  none_of_the_above  gender    age  aboriginal  torres_strait  \\\n",
       "3      False              False  Female  36-40         NaN            NaN   \n",
       "5      False              False  Female  41-45         NaN            NaN   \n",
       "8      False              False  Female  31-35         NaN            NaN   \n",
       "9      False              False  Female  46-50         NaN            NaN   \n",
       "11     False              False    Male  31-35         NaN            NaN   \n",
       "\n",
       "    south_sea  disability  nesb  \n",
       "3         NaN         NaN   NaN  \n",
       "5         NaN         NaN   NaN  \n",
       "8         NaN         NaN   NaN  \n",
       "9         NaN         NaN   NaN  \n",
       "11        NaN         NaN   NaN  \n",
       "\n",
       "[5 rows x 35 columns]"
      ]
     },
     "execution_count": 19,
     "metadata": {},
     "output_type": "execute_result"
    }
   ],
   "source": [
    "# Let's create a dataframe only for 'resignation' in dete_survey_upated:\n",
    "pattern = r\"[Rr]esignation\"\n",
    "dete_resignations = dete_survey_updated[dete_survey_updated['separationtype'].str.contains(pattern)].copy()\n",
    "dete_resignations.head()"
   ]
  },
  {
   "cell_type": "code",
   "execution_count": 20,
   "metadata": {},
   "outputs": [
    {
     "data": {
      "text/plain": [
       "Resignation                 340\n",
       "Contract Expired            127\n",
       "Retrenchment/ Redundancy    104\n",
       "Retirement                   82\n",
       "Transfer                     25\n",
       "Termination                  23\n",
       "Name: separationtype, dtype: int64"
      ]
     },
     "execution_count": 20,
     "metadata": {},
     "output_type": "execute_result"
    }
   ],
   "source": [
    "# for tafe_survey:\n",
    "tafe_survey_updated['separationtype'].value_counts()"
   ]
  },
  {
   "cell_type": "code",
   "execution_count": 21,
   "metadata": {},
   "outputs": [
    {
     "data": {
      "text/html": [
       "<div>\n",
       "<style scoped>\n",
       "    .dataframe tbody tr th:only-of-type {\n",
       "        vertical-align: middle;\n",
       "    }\n",
       "\n",
       "    .dataframe tbody tr th {\n",
       "        vertical-align: top;\n",
       "    }\n",
       "\n",
       "    .dataframe thead th {\n",
       "        text-align: right;\n",
       "    }\n",
       "</style>\n",
       "<table border=\"1\" class=\"dataframe\">\n",
       "  <thead>\n",
       "    <tr style=\"text-align: right;\">\n",
       "      <th></th>\n",
       "      <th>id</th>\n",
       "      <th>Institute</th>\n",
       "      <th>WorkArea</th>\n",
       "      <th>cease_date</th>\n",
       "      <th>separationtype</th>\n",
       "      <th>Contributing Factors. Career Move - Public Sector</th>\n",
       "      <th>Contributing Factors. Career Move - Private Sector</th>\n",
       "      <th>Contributing Factors. Career Move - Self-employment</th>\n",
       "      <th>Contributing Factors. Ill Health</th>\n",
       "      <th>Contributing Factors. Maternity/Family</th>\n",
       "      <th>...</th>\n",
       "      <th>Contributing Factors. Study</th>\n",
       "      <th>Contributing Factors. Travel</th>\n",
       "      <th>Contributing Factors. Other</th>\n",
       "      <th>Contributing Factors. NONE</th>\n",
       "      <th>gender</th>\n",
       "      <th>age</th>\n",
       "      <th>employment_status</th>\n",
       "      <th>position</th>\n",
       "      <th>institute_service</th>\n",
       "      <th>role_service</th>\n",
       "    </tr>\n",
       "  </thead>\n",
       "  <tbody>\n",
       "    <tr>\n",
       "      <th>3</th>\n",
       "      <td>6.341399e+17</td>\n",
       "      <td>Mount Isa Institute of TAFE</td>\n",
       "      <td>Non-Delivery (corporate)</td>\n",
       "      <td>2010.0</td>\n",
       "      <td>Resignation</td>\n",
       "      <td>-</td>\n",
       "      <td>-</td>\n",
       "      <td>-</td>\n",
       "      <td>-</td>\n",
       "      <td>-</td>\n",
       "      <td>...</td>\n",
       "      <td>-</td>\n",
       "      <td>Travel</td>\n",
       "      <td>-</td>\n",
       "      <td>-</td>\n",
       "      <td>NaN</td>\n",
       "      <td>NaN</td>\n",
       "      <td>NaN</td>\n",
       "      <td>NaN</td>\n",
       "      <td>NaN</td>\n",
       "      <td>NaN</td>\n",
       "    </tr>\n",
       "    <tr>\n",
       "      <th>4</th>\n",
       "      <td>6.341466e+17</td>\n",
       "      <td>Southern Queensland Institute of TAFE</td>\n",
       "      <td>Delivery (teaching)</td>\n",
       "      <td>2010.0</td>\n",
       "      <td>Resignation</td>\n",
       "      <td>-</td>\n",
       "      <td>Career Move - Private Sector</td>\n",
       "      <td>-</td>\n",
       "      <td>-</td>\n",
       "      <td>-</td>\n",
       "      <td>...</td>\n",
       "      <td>-</td>\n",
       "      <td>-</td>\n",
       "      <td>-</td>\n",
       "      <td>-</td>\n",
       "      <td>Male</td>\n",
       "      <td>41  45</td>\n",
       "      <td>Permanent Full-time</td>\n",
       "      <td>Teacher (including LVT)</td>\n",
       "      <td>3-4</td>\n",
       "      <td>3-4</td>\n",
       "    </tr>\n",
       "    <tr>\n",
       "      <th>5</th>\n",
       "      <td>6.341475e+17</td>\n",
       "      <td>Southern Queensland Institute of TAFE</td>\n",
       "      <td>Delivery (teaching)</td>\n",
       "      <td>2010.0</td>\n",
       "      <td>Resignation</td>\n",
       "      <td>-</td>\n",
       "      <td>-</td>\n",
       "      <td>-</td>\n",
       "      <td>-</td>\n",
       "      <td>-</td>\n",
       "      <td>...</td>\n",
       "      <td>-</td>\n",
       "      <td>-</td>\n",
       "      <td>Other</td>\n",
       "      <td>-</td>\n",
       "      <td>Female</td>\n",
       "      <td>56 or older</td>\n",
       "      <td>Contract/casual</td>\n",
       "      <td>Teacher (including LVT)</td>\n",
       "      <td>7-10</td>\n",
       "      <td>7-10</td>\n",
       "    </tr>\n",
       "    <tr>\n",
       "      <th>6</th>\n",
       "      <td>6.341520e+17</td>\n",
       "      <td>Barrier Reef Institute of TAFE</td>\n",
       "      <td>Non-Delivery (corporate)</td>\n",
       "      <td>2010.0</td>\n",
       "      <td>Resignation</td>\n",
       "      <td>-</td>\n",
       "      <td>Career Move - Private Sector</td>\n",
       "      <td>-</td>\n",
       "      <td>-</td>\n",
       "      <td>Maternity/Family</td>\n",
       "      <td>...</td>\n",
       "      <td>-</td>\n",
       "      <td>-</td>\n",
       "      <td>Other</td>\n",
       "      <td>-</td>\n",
       "      <td>Male</td>\n",
       "      <td>20 or younger</td>\n",
       "      <td>Temporary Full-time</td>\n",
       "      <td>Administration (AO)</td>\n",
       "      <td>3-4</td>\n",
       "      <td>3-4</td>\n",
       "    </tr>\n",
       "    <tr>\n",
       "      <th>7</th>\n",
       "      <td>6.341537e+17</td>\n",
       "      <td>Southern Queensland Institute of TAFE</td>\n",
       "      <td>Delivery (teaching)</td>\n",
       "      <td>2010.0</td>\n",
       "      <td>Resignation</td>\n",
       "      <td>-</td>\n",
       "      <td>-</td>\n",
       "      <td>-</td>\n",
       "      <td>-</td>\n",
       "      <td>-</td>\n",
       "      <td>...</td>\n",
       "      <td>-</td>\n",
       "      <td>-</td>\n",
       "      <td>Other</td>\n",
       "      <td>-</td>\n",
       "      <td>Male</td>\n",
       "      <td>46  50</td>\n",
       "      <td>Permanent Full-time</td>\n",
       "      <td>Teacher (including LVT)</td>\n",
       "      <td>3-4</td>\n",
       "      <td>3-4</td>\n",
       "    </tr>\n",
       "  </tbody>\n",
       "</table>\n",
       "<p>5 rows × 23 columns</p>\n",
       "</div>"
      ],
      "text/plain": [
       "             id                              Institute  \\\n",
       "3  6.341399e+17            Mount Isa Institute of TAFE   \n",
       "4  6.341466e+17  Southern Queensland Institute of TAFE   \n",
       "5  6.341475e+17  Southern Queensland Institute of TAFE   \n",
       "6  6.341520e+17         Barrier Reef Institute of TAFE   \n",
       "7  6.341537e+17  Southern Queensland Institute of TAFE   \n",
       "\n",
       "                   WorkArea  cease_date separationtype  \\\n",
       "3  Non-Delivery (corporate)      2010.0    Resignation   \n",
       "4       Delivery (teaching)      2010.0    Resignation   \n",
       "5       Delivery (teaching)      2010.0    Resignation   \n",
       "6  Non-Delivery (corporate)      2010.0    Resignation   \n",
       "7       Delivery (teaching)      2010.0    Resignation   \n",
       "\n",
       "  Contributing Factors. Career Move - Public Sector   \\\n",
       "3                                                  -   \n",
       "4                                                  -   \n",
       "5                                                  -   \n",
       "6                                                  -   \n",
       "7                                                  -   \n",
       "\n",
       "  Contributing Factors. Career Move - Private Sector   \\\n",
       "3                                                  -    \n",
       "4                       Career Move - Private Sector    \n",
       "5                                                  -    \n",
       "6                       Career Move - Private Sector    \n",
       "7                                                  -    \n",
       "\n",
       "  Contributing Factors. Career Move - Self-employment  \\\n",
       "3                                                  -    \n",
       "4                                                  -    \n",
       "5                                                  -    \n",
       "6                                                  -    \n",
       "7                                                  -    \n",
       "\n",
       "  Contributing Factors. Ill Health Contributing Factors. Maternity/Family  \\\n",
       "3                                -                                      -   \n",
       "4                                -                                      -   \n",
       "5                                -                                      -   \n",
       "6                                -                       Maternity/Family   \n",
       "7                                -                                      -   \n",
       "\n",
       "   ... Contributing Factors. Study Contributing Factors. Travel  \\\n",
       "3  ...                           -                       Travel   \n",
       "4  ...                           -                            -   \n",
       "5  ...                           -                            -   \n",
       "6  ...                           -                            -   \n",
       "7  ...                           -                            -   \n",
       "\n",
       "  Contributing Factors. Other Contributing Factors. NONE  gender  \\\n",
       "3                           -                          -     NaN   \n",
       "4                           -                          -    Male   \n",
       "5                       Other                          -  Female   \n",
       "6                       Other                          -    Male   \n",
       "7                       Other                          -    Male   \n",
       "\n",
       "             age    employment_status                 position  \\\n",
       "3            NaN                  NaN                      NaN   \n",
       "4         41  45  Permanent Full-time  Teacher (including LVT)   \n",
       "5    56 or older      Contract/casual  Teacher (including LVT)   \n",
       "6  20 or younger  Temporary Full-time      Administration (AO)   \n",
       "7         46  50  Permanent Full-time  Teacher (including LVT)   \n",
       "\n",
       "  institute_service role_service  \n",
       "3               NaN          NaN  \n",
       "4               3-4          3-4  \n",
       "5              7-10         7-10  \n",
       "6               3-4          3-4  \n",
       "7               3-4          3-4  \n",
       "\n",
       "[5 rows x 23 columns]"
      ]
     },
     "execution_count": 21,
     "metadata": {},
     "output_type": "execute_result"
    }
   ],
   "source": [
    "## let's create a dataframe only for resignation in tafe_survey_updated:\n",
    "tafe_resignations = tafe_survey_updated[tafe_survey_updated['separationtype']== 'Resignation']\n",
    "tafe_resignations.head()"
   ]
  },
  {
   "cell_type": "markdown",
   "metadata": {},
   "source": [
    "**Now that we have seperated the data for resignantion values from both the dataframes, let's check for inconsistencies in our data that can potentially throw off our inferences.**"
   ]
  },
  {
   "cell_type": "code",
   "execution_count": 22,
   "metadata": {},
   "outputs": [
    {
     "data": {
      "text/plain": [
       "2012       126\n",
       "2013        74\n",
       "01/2014     22\n",
       "12/2013     17\n",
       "06/2013     14\n",
       "09/2013     11\n",
       "07/2013      9\n",
       "11/2013      9\n",
       "10/2013      6\n",
       "08/2013      4\n",
       "05/2012      2\n",
       "05/2013      2\n",
       "07/2012      1\n",
       "09/2010      1\n",
       "07/2006      1\n",
       "2010         1\n",
       "Name: cease_date, dtype: int64"
      ]
     },
     "execution_count": 22,
     "metadata": {},
     "output_type": "execute_result"
    }
   ],
   "source": [
    "# logical inconsistencies in 'cease_date' in 'dete_resignantions':\n",
    "dete_resignations['cease_date'].value_counts() # to get all the unique values in the column "
   ]
  },
  {
   "cell_type": "markdown",
   "metadata": {},
   "source": [
    "Since we see that the `cease_date` column has inconsistent data entries, let's extract all the years from the column:"
   ]
  },
  {
   "cell_type": "code",
   "execution_count": 23,
   "metadata": {},
   "outputs": [],
   "source": [
    "# we need to extract the 'yyyy' pattern from the column values:\n",
    "pattern = r\"(?P<Year>[0-9]{4})\"\n",
    "\n",
    "# extracting the pattern from the column values:\n",
    "dete_resignations['cease_date'] = dete_resignations['cease_date'].str.extract(pattern).astype(float)"
   ]
  },
  {
   "cell_type": "code",
   "execution_count": 24,
   "metadata": {},
   "outputs": [
    {
     "data": {
      "text/plain": [
       "2006.0      1\n",
       "2010.0      2\n",
       "2012.0    129\n",
       "2013.0    146\n",
       "2014.0     22\n",
       "Name: cease_date, dtype: int64"
      ]
     },
     "execution_count": 24,
     "metadata": {},
     "output_type": "execute_result"
    }
   ],
   "source": [
    "# checking our corrections:\n",
    "dete_resignations['cease_date'].value_counts().sort_index(ascending=True)"
   ]
  },
  {
   "cell_type": "code",
   "execution_count": 25,
   "metadata": {},
   "outputs": [
    {
     "data": {
      "text/plain": [
       "2009.0      2\n",
       "2010.0     68\n",
       "2011.0    116\n",
       "2012.0     94\n",
       "2013.0     55\n",
       "Name: cease_date, dtype: int64"
      ]
     },
     "execution_count": 25,
     "metadata": {},
     "output_type": "execute_result"
    }
   ],
   "source": [
    "## checking for logical inconsistencies in the cease_date column in 'tafe_survey':\n",
    "tafe_resignations['cease_date'].value_counts().sort_index(ascending=True)"
   ]
  },
  {
   "cell_type": "code",
   "execution_count": 26,
   "metadata": {},
   "outputs": [
    {
     "data": {
      "text/plain": [
       "1963.0     1\n",
       "1971.0     1\n",
       "1972.0     1\n",
       "1973.0     1\n",
       "1974.0     2\n",
       "1975.0     1\n",
       "1976.0     2\n",
       "1977.0     1\n",
       "1980.0     5\n",
       "1982.0     1\n",
       "1983.0     2\n",
       "1984.0     1\n",
       "1985.0     3\n",
       "1986.0     3\n",
       "1987.0     1\n",
       "1988.0     4\n",
       "1989.0     4\n",
       "1990.0     5\n",
       "1991.0     4\n",
       "1992.0     6\n",
       "1993.0     5\n",
       "1994.0     6\n",
       "1995.0     4\n",
       "1996.0     6\n",
       "1997.0     5\n",
       "1998.0     6\n",
       "1999.0     8\n",
       "2000.0     9\n",
       "2001.0     3\n",
       "2002.0     6\n",
       "2003.0     6\n",
       "2004.0    14\n",
       "2005.0    15\n",
       "2006.0    13\n",
       "2007.0    21\n",
       "2008.0    22\n",
       "2009.0    13\n",
       "2010.0    17\n",
       "2011.0    24\n",
       "2012.0    21\n",
       "2013.0    10\n",
       "Name: dete_start_date, dtype: int64"
      ]
     },
     "execution_count": 26,
     "metadata": {},
     "output_type": "execute_result"
    }
   ],
   "source": [
    "# Let's now check the start date in the columns:\n",
    "dete_resignations['dete_start_date'].value_counts().sort_index(ascending=True)"
   ]
  },
  {
   "cell_type": "markdown",
   "metadata": {},
   "source": [
    "### Once all the values have been cleansed and sorted, we see that:\n",
    "- The earliest start date for employment in the *`dete`* dataset is from *'1963'*.\n",
    "- The earliest resignation dates start from the year *'2006'* in the *`dete`* dataset and *'2009'* in the *`tafe`* dataset, hence both the datasets don't span through the same number of years.\n",
    "- Since there are no start start dates before *'1940'* and end dates after *'2006-09'* we can logically validate that **the dataset is viable for our current analysis.**"
   ]
  },
  {
   "cell_type": "markdown",
   "metadata": {},
   "source": [
    "Since our question mainly concerns about the years of service that the employee provided, we should look for attributes that can aid our analysis.\n",
    "- *`tafe_resignations`* dataframe already contains a `service` column, which we renamed to `institute_service`. In order to analyze both surveys together, we'll have to create a corresponding `institute_service` column in *`dete_resignations`*."
   ]
  },
  {
   "cell_type": "code",
   "execution_count": 27,
   "metadata": {},
   "outputs": [
    {
     "data": {
      "text/plain": [
       "5.0     23\n",
       "1.0     22\n",
       "3.0     20\n",
       "0.0     20\n",
       "6.0     17\n",
       "4.0     16\n",
       "9.0     14\n",
       "2.0     14\n",
       "7.0     13\n",
       "13.0     8\n",
       "8.0      8\n",
       "20.0     7\n",
       "15.0     7\n",
       "10.0     6\n",
       "22.0     6\n",
       "14.0     6\n",
       "17.0     6\n",
       "12.0     6\n",
       "16.0     5\n",
       "18.0     5\n",
       "23.0     4\n",
       "11.0     4\n",
       "24.0     4\n",
       "39.0     3\n",
       "19.0     3\n",
       "21.0     3\n",
       "32.0     3\n",
       "28.0     2\n",
       "26.0     2\n",
       "25.0     2\n",
       "30.0     2\n",
       "36.0     2\n",
       "29.0     1\n",
       "33.0     1\n",
       "42.0     1\n",
       "27.0     1\n",
       "41.0     1\n",
       "35.0     1\n",
       "38.0     1\n",
       "34.0     1\n",
       "49.0     1\n",
       "31.0     1\n",
       "Name: institute_service, dtype: int64"
      ]
     },
     "execution_count": 27,
     "metadata": {},
     "output_type": "execute_result"
    }
   ],
   "source": [
    "# let's create a 'institute_service' column in 'dete_resignation':\n",
    "dete_resignations['institute_service'] = dete_resignations['cease_date']- dete_resignations['dete_start_date']\n",
    "dete_resignations['institute_service'].value_counts()"
   ]
  },
  {
   "cell_type": "markdown",
   "metadata": {},
   "source": [
    "Now that we have the 'numerical' values of the length of the employment for the employees that resigned, we need to relate those values to 'Dissatisfaction' factors for quitting the job.\n",
    "\n",
    "\n",
    "Let's identify all the factors in the two datasets that portay **'dissatisfaction'** with the jobs.\n",
    "\n",
    "- For **'tafe_survey_updated'** :\n",
    "    - `Contributing Factors. Dissatisfaction`\n",
    "    - `Contributing Factors. Job Dissatisfaction`\n",
    "    \n",
    "- For **'dete_survey_updated'**:\n",
    "    - `job_dissatisfaction`\n",
    "    - `dissatisfaction_with_the_department`\n",
    "    - `physical_work_environment`\n",
    "    - `lack_of_recognition`\n",
    "    - `lack_of_job_security`\n",
    "    - `work_location`\n",
    "    - `employment_conditions`\n",
    "    - `work_life_balance`\n",
    "    - `workload`\n",
    "    \n",
    "If the employee indicated any of the factors above caused them to resign, we'll mark them as `dissatisfied` in a new column."
   ]
  },
  {
   "cell_type": "code",
   "execution_count": 28,
   "metadata": {},
   "outputs": [
    {
     "data": {
      "text/plain": [
       "-                                         277\n",
       "Contributing Factors. Dissatisfaction      55\n",
       "NaN                                         8\n",
       "Name: Contributing Factors. Dissatisfaction, dtype: int64"
      ]
     },
     "execution_count": 28,
     "metadata": {},
     "output_type": "execute_result"
    }
   ],
   "source": [
    "# First, let's tackle the 'tafe_survey' dataset:\n",
    "tafe_resignations['Contributing Factors. Dissatisfaction'].value_counts(dropna=False)"
   ]
  },
  {
   "cell_type": "code",
   "execution_count": 29,
   "metadata": {},
   "outputs": [
    {
     "data": {
      "text/plain": [
       "-                      270\n",
       "Job Dissatisfaction     62\n",
       "NaN                      8\n",
       "Name: Contributing Factors. Job Dissatisfaction, dtype: int64"
      ]
     },
     "execution_count": 29,
     "metadata": {},
     "output_type": "execute_result"
    }
   ],
   "source": [
    "tafe_resignations['Contributing Factors. Job Dissatisfaction'].value_counts(dropna=False)"
   ]
  },
  {
   "cell_type": "markdown",
   "metadata": {},
   "source": [
    "Both the columns contain:\n",
    "- ' - ' values that indicate **'False'**\n",
    "- *'Contributing Factors. Dissatisfaction'* or *'Contributing Factors. Job Dissatisfaction'* that indicate **'True'**\n",
    "- Empty values indicating **'NaN'**\n",
    "\n",
    "We need to actually convert these values into ***True, False, or NaN values.***"
   ]
  },
  {
   "cell_type": "code",
   "execution_count": 30,
   "metadata": {},
   "outputs": [
    {
     "name": "stdout",
     "output_type": "stream",
     "text": [
      "True\n"
     ]
    }
   ],
   "source": [
    "# creating a function that converts the values in the columns:\n",
    "def update_vals(value):\n",
    "    return_val = 0;\n",
    "    if pd.isnull(value):\n",
    "        return_val = np.nan;\n",
    "    elif (value == '-'):\n",
    "        return_val = False;\n",
    "    else:\n",
    "        return_val = True;\n",
    "    return return_val\n",
    "\n",
    "## checking the function:\n",
    "\n",
    "print(update_vals('NaN'))\n",
    "        "
   ]
  },
  {
   "cell_type": "code",
   "execution_count": 31,
   "metadata": {},
   "outputs": [],
   "source": [
    "# creating a new column to store our required values after applying the function in the dataframe:\n",
    "req_cols = ['Contributing Factors. Dissatisfaction', 'Contributing Factors. Job Dissatisfaction']"
   ]
  },
  {
   "cell_type": "code",
   "execution_count": 32,
   "metadata": {},
   "outputs": [
    {
     "data": {
      "text/plain": [
       "False    241\n",
       "True      91\n",
       "NaN        8\n",
       "Name: dissatisfied, dtype: int64"
      ]
     },
     "execution_count": 32,
     "metadata": {},
     "output_type": "execute_result"
    }
   ],
   "source": [
    "tafe_resignations_up = tafe_resignations.copy() #to avoid'settingwithcopy' error\n",
    "\n",
    "tafe_resignations_up['dissatisfied'] = tafe_resignations[req_cols].applymap(update_vals).any(axis=1, skipna=False)\n",
    "tafe_resignations_up['dissatisfied'].value_counts(dropna=False)"
   ]
  },
  {
   "cell_type": "code",
   "execution_count": 33,
   "metadata": {},
   "outputs": [
    {
     "data": {
      "text/plain": [
       "False    270\n",
       "True      41\n",
       "Name: job_dissatisfaction, dtype: int64"
      ]
     },
     "execution_count": 33,
     "metadata": {},
     "output_type": "execute_result"
    }
   ],
   "source": [
    "# Let's now check the 'dete_survey' dataset:\n",
    "dete_resignations['job_dissatisfaction'].value_counts(dropna=False)"
   ]
  },
  {
   "cell_type": "code",
   "execution_count": 34,
   "metadata": {},
   "outputs": [
    {
     "data": {
      "text/plain": [
       "<matplotlib.axes._subplots.AxesSubplot at 0x7fcce2d32b50>"
      ]
     },
     "execution_count": 34,
     "metadata": {},
     "output_type": "execute_result"
    },
    {
     "data": {
      "image/png": "[encoded data removed]",
      "text/plain": [
       "<Figure size 1300x600 with 1 Axes>"
      ]
     },
     "metadata": {},
     "output_type": "display_data"
    }
   ],
   "source": [
    "# creating a new column to store our required values in the dataframe:\n",
    "req_cols = ['job_dissatisfaction','dissatisfaction_with_the_department','physical_work_environment','lack_of_recognition'\n",
    "            ,'lack_of_job_security','work_location','employment_conditions','work_life_balance','workload']\n",
    "\n",
    "# Let's see if we can identify the most popular reason for quitting:\n",
    "pv_req = pd.pivot_table(dete_resignations, index='age', values=req_cols)\n",
    "pv_req.plot(kind='bar', title= 'resignation by age', figsize=(13,6))"
   ]
  },
  {
   "cell_type": "code",
   "execution_count": 35,
   "metadata": {},
   "outputs": [
    {
     "data": {
      "text/plain": [
       "False    162\n",
       "True     149\n",
       "Name: dissatisfied, dtype: int64"
      ]
     },
     "execution_count": 35,
     "metadata": {},
     "output_type": "execute_result"
    }
   ],
   "source": [
    "dete_resignations_up = dete_resignations.copy() # to avoid 'settingwithcopy' error\n",
    "\n",
    "dete_resignations_up['dissatisfied'] = dete_resignations_up[req_cols].any(axis=1, skipna=False)\n",
    "dete_resignations_up['dissatisfied'].value_counts(dropna=False)"
   ]
  },
  {
   "cell_type": "markdown",
   "metadata": {},
   "source": [
    "We have now assimilated the ' dissatisfaction ' values for all the employees who resigned from both the datasets. Since we have all the required values, we can now combine the datasets for final dataset manipulation which will help us answer our required questions.\n",
    "\n",
    "**Our end goal is to aggregate the data according to the `institute_service` column to correlate with the `dissatisfied` column.**"
   ]
  },
  {
   "cell_type": "code",
   "execution_count": 36,
   "metadata": {},
   "outputs": [],
   "source": [
    "# For better identification of our datasets let's add an identity column `institute`:\n",
    "dete_resignations_up['institute'] = 'DETE'\n",
    "tafe_resignations_up['institute'] = 'TAFE'"
   ]
  },
  {
   "cell_type": "markdown",
   "metadata": {},
   "source": [
    "---"
   ]
  },
  {
   "cell_type": "markdown",
   "metadata": {},
   "source": [
    "## Final Dataset Analysis:"
   ]
  },
  {
   "cell_type": "markdown",
   "metadata": {},
   "source": [
    "Now that we have cleaned the datasets, we can combine them, which will make our final analysis procedure concise and easier."
   ]
  },
  {
   "cell_type": "code",
   "execution_count": 37,
   "metadata": {},
   "outputs": [
    {
     "data": {
      "text/html": [
       "<div>\n",
       "<style scoped>\n",
       "    .dataframe tbody tr th:only-of-type {\n",
       "        vertical-align: middle;\n",
       "    }\n",
       "\n",
       "    .dataframe tbody tr th {\n",
       "        vertical-align: top;\n",
       "    }\n",
       "\n",
       "    .dataframe thead th {\n",
       "        text-align: right;\n",
       "    }\n",
       "</style>\n",
       "<table border=\"1\" class=\"dataframe\">\n",
       "  <thead>\n",
       "    <tr style=\"text-align: right;\">\n",
       "      <th></th>\n",
       "      <th>id</th>\n",
       "      <th>separationtype</th>\n",
       "      <th>cease_date</th>\n",
       "      <th>dete_start_date</th>\n",
       "      <th>role_start_date</th>\n",
       "      <th>position</th>\n",
       "      <th>classification</th>\n",
       "      <th>region</th>\n",
       "      <th>business_unit</th>\n",
       "      <th>employment_status</th>\n",
       "      <th>...</th>\n",
       "      <th>Contributing Factors. Ill Health</th>\n",
       "      <th>Contributing Factors. Maternity/Family</th>\n",
       "      <th>Contributing Factors. Dissatisfaction</th>\n",
       "      <th>Contributing Factors. Job Dissatisfaction</th>\n",
       "      <th>Contributing Factors. Interpersonal Conflict</th>\n",
       "      <th>Contributing Factors. Study</th>\n",
       "      <th>Contributing Factors. Travel</th>\n",
       "      <th>Contributing Factors. Other</th>\n",
       "      <th>Contributing Factors. NONE</th>\n",
       "      <th>role_service</th>\n",
       "    </tr>\n",
       "  </thead>\n",
       "  <tbody>\n",
       "    <tr>\n",
       "      <th>0</th>\n",
       "      <td>4.0</td>\n",
       "      <td>Resignation-Other reasons</td>\n",
       "      <td>2012.0</td>\n",
       "      <td>2005.0</td>\n",
       "      <td>2006.0</td>\n",
       "      <td>Teacher</td>\n",
       "      <td>Primary</td>\n",
       "      <td>Central Queensland</td>\n",
       "      <td>NaN</td>\n",
       "      <td>Permanent Full-time</td>\n",
       "      <td>...</td>\n",
       "      <td>NaN</td>\n",
       "      <td>NaN</td>\n",
       "      <td>NaN</td>\n",
       "      <td>NaN</td>\n",
       "      <td>NaN</td>\n",
       "      <td>NaN</td>\n",
       "      <td>NaN</td>\n",
       "      <td>NaN</td>\n",
       "      <td>NaN</td>\n",
       "      <td>NaN</td>\n",
       "    </tr>\n",
       "    <tr>\n",
       "      <th>1</th>\n",
       "      <td>6.0</td>\n",
       "      <td>Resignation-Other reasons</td>\n",
       "      <td>2012.0</td>\n",
       "      <td>1994.0</td>\n",
       "      <td>1997.0</td>\n",
       "      <td>Guidance Officer</td>\n",
       "      <td>NaN</td>\n",
       "      <td>Central Office</td>\n",
       "      <td>Education Queensland</td>\n",
       "      <td>Permanent Full-time</td>\n",
       "      <td>...</td>\n",
       "      <td>NaN</td>\n",
       "      <td>NaN</td>\n",
       "      <td>NaN</td>\n",
       "      <td>NaN</td>\n",
       "      <td>NaN</td>\n",
       "      <td>NaN</td>\n",
       "      <td>NaN</td>\n",
       "      <td>NaN</td>\n",
       "      <td>NaN</td>\n",
       "      <td>NaN</td>\n",
       "    </tr>\n",
       "    <tr>\n",
       "      <th>2</th>\n",
       "      <td>9.0</td>\n",
       "      <td>Resignation-Other reasons</td>\n",
       "      <td>2012.0</td>\n",
       "      <td>2009.0</td>\n",
       "      <td>2009.0</td>\n",
       "      <td>Teacher</td>\n",
       "      <td>Secondary</td>\n",
       "      <td>North Queensland</td>\n",
       "      <td>NaN</td>\n",
       "      <td>Permanent Full-time</td>\n",
       "      <td>...</td>\n",
       "      <td>NaN</td>\n",
       "      <td>NaN</td>\n",
       "      <td>NaN</td>\n",
       "      <td>NaN</td>\n",
       "      <td>NaN</td>\n",
       "      <td>NaN</td>\n",
       "      <td>NaN</td>\n",
       "      <td>NaN</td>\n",
       "      <td>NaN</td>\n",
       "      <td>NaN</td>\n",
       "    </tr>\n",
       "    <tr>\n",
       "      <th>3</th>\n",
       "      <td>10.0</td>\n",
       "      <td>Resignation-Other employer</td>\n",
       "      <td>2012.0</td>\n",
       "      <td>1997.0</td>\n",
       "      <td>2008.0</td>\n",
       "      <td>Teacher Aide</td>\n",
       "      <td>NaN</td>\n",
       "      <td>NaN</td>\n",
       "      <td>NaN</td>\n",
       "      <td>Permanent Part-time</td>\n",
       "      <td>...</td>\n",
       "      <td>NaN</td>\n",
       "      <td>NaN</td>\n",
       "      <td>NaN</td>\n",
       "      <td>NaN</td>\n",
       "      <td>NaN</td>\n",
       "      <td>NaN</td>\n",
       "      <td>NaN</td>\n",
       "      <td>NaN</td>\n",
       "      <td>NaN</td>\n",
       "      <td>NaN</td>\n",
       "    </tr>\n",
       "    <tr>\n",
       "      <th>4</th>\n",
       "      <td>12.0</td>\n",
       "      <td>Resignation-Move overseas/interstate</td>\n",
       "      <td>2012.0</td>\n",
       "      <td>2009.0</td>\n",
       "      <td>2009.0</td>\n",
       "      <td>Teacher</td>\n",
       "      <td>Secondary</td>\n",
       "      <td>Far North Queensland</td>\n",
       "      <td>NaN</td>\n",
       "      <td>Permanent Full-time</td>\n",
       "      <td>...</td>\n",
       "      <td>NaN</td>\n",
       "      <td>NaN</td>\n",
       "      <td>NaN</td>\n",
       "      <td>NaN</td>\n",
       "      <td>NaN</td>\n",
       "      <td>NaN</td>\n",
       "      <td>NaN</td>\n",
       "      <td>NaN</td>\n",
       "      <td>NaN</td>\n",
       "      <td>NaN</td>\n",
       "    </tr>\n",
       "  </tbody>\n",
       "</table>\n",
       "<p>5 rows × 53 columns</p>\n",
       "</div>"
      ],
      "text/plain": [
       "     id                        separationtype  cease_date  dete_start_date  \\\n",
       "0   4.0             Resignation-Other reasons      2012.0           2005.0   \n",
       "1   6.0             Resignation-Other reasons      2012.0           1994.0   \n",
       "2   9.0             Resignation-Other reasons      2012.0           2009.0   \n",
       "3  10.0            Resignation-Other employer      2012.0           1997.0   \n",
       "4  12.0  Resignation-Move overseas/interstate      2012.0           2009.0   \n",
       "\n",
       "   role_start_date          position classification                region  \\\n",
       "0           2006.0           Teacher        Primary    Central Queensland   \n",
       "1           1997.0  Guidance Officer            NaN        Central Office   \n",
       "2           2009.0           Teacher      Secondary      North Queensland   \n",
       "3           2008.0      Teacher Aide            NaN                   NaN   \n",
       "4           2009.0           Teacher      Secondary  Far North Queensland   \n",
       "\n",
       "          business_unit    employment_status  ...  \\\n",
       "0                   NaN  Permanent Full-time  ...   \n",
       "1  Education Queensland  Permanent Full-time  ...   \n",
       "2                   NaN  Permanent Full-time  ...   \n",
       "3                   NaN  Permanent Part-time  ...   \n",
       "4                   NaN  Permanent Full-time  ...   \n",
       "\n",
       "  Contributing Factors. Ill Health Contributing Factors. Maternity/Family  \\\n",
       "0                              NaN                                    NaN   \n",
       "1                              NaN                                    NaN   \n",
       "2                              NaN                                    NaN   \n",
       "3                              NaN                                    NaN   \n",
       "4                              NaN                                    NaN   \n",
       "\n",
       "  Contributing Factors. Dissatisfaction  \\\n",
       "0                                   NaN   \n",
       "1                                   NaN   \n",
       "2                                   NaN   \n",
       "3                                   NaN   \n",
       "4                                   NaN   \n",
       "\n",
       "  Contributing Factors. Job Dissatisfaction  \\\n",
       "0                                       NaN   \n",
       "1                                       NaN   \n",
       "2                                       NaN   \n",
       "3                                       NaN   \n",
       "4                                       NaN   \n",
       "\n",
       "  Contributing Factors. Interpersonal Conflict Contributing Factors. Study  \\\n",
       "0                                          NaN                         NaN   \n",
       "1                                          NaN                         NaN   \n",
       "2                                          NaN                         NaN   \n",
       "3                                          NaN                         NaN   \n",
       "4                                          NaN                         NaN   \n",
       "\n",
       "  Contributing Factors. Travel Contributing Factors. Other  \\\n",
       "0                          NaN                         NaN   \n",
       "1                          NaN                         NaN   \n",
       "2                          NaN                         NaN   \n",
       "3                          NaN                         NaN   \n",
       "4                          NaN                         NaN   \n",
       "\n",
       "  Contributing Factors. NONE role_service  \n",
       "0                        NaN          NaN  \n",
       "1                        NaN          NaN  \n",
       "2                        NaN          NaN  \n",
       "3                        NaN          NaN  \n",
       "4                        NaN          NaN  \n",
       "\n",
       "[5 rows x 53 columns]"
      ]
     },
     "execution_count": 37,
     "metadata": {},
     "output_type": "execute_result"
    }
   ],
   "source": [
    "combined = pd.concat([dete_resignations_up, tafe_resignations_up], ignore_index=True)\n",
    "combined.head()"
   ]
  },
  {
   "cell_type": "code",
   "execution_count": 38,
   "metadata": {},
   "outputs": [
    {
     "name": "stdout",
     "output_type": "stream",
     "text": [
      "<class 'pandas.core.frame.DataFrame'>\n",
      "RangeIndex: 651 entries, 0 to 650\n",
      "Data columns (total 53 columns):\n",
      " #   Column                                               Non-Null Count  Dtype  \n",
      "---  ------                                               --------------  -----  \n",
      " 0   id                                                   651 non-null    float64\n",
      " 1   separationtype                                       651 non-null    object \n",
      " 2   cease_date                                           635 non-null    float64\n",
      " 3   dete_start_date                                      283 non-null    float64\n",
      " 4   role_start_date                                      271 non-null    float64\n",
      " 5   position                                             598 non-null    object \n",
      " 6   classification                                       161 non-null    object \n",
      " 7   region                                               265 non-null    object \n",
      " 8   business_unit                                        32 non-null     object \n",
      " 9   employment_status                                    597 non-null    object \n",
      " 10  career_move_to_public_sector                         311 non-null    object \n",
      " 11  career_move_to_private_sector                        311 non-null    object \n",
      " 12  interpersonal_conflicts                              311 non-null    object \n",
      " 13  job_dissatisfaction                                  311 non-null    object \n",
      " 14  dissatisfaction_with_the_department                  311 non-null    object \n",
      " 15  physical_work_environment                            311 non-null    object \n",
      " 16  lack_of_recognition                                  311 non-null    object \n",
      " 17  lack_of_job_security                                 311 non-null    object \n",
      " 18  work_location                                        311 non-null    object \n",
      " 19  employment_conditions                                311 non-null    object \n",
      " 20  maternity/family                                     311 non-null    object \n",
      " 21  relocation                                           311 non-null    object \n",
      " 22  study/travel                                         311 non-null    object \n",
      " 23  ill_health                                           311 non-null    object \n",
      " 24  traumatic_incident                                   311 non-null    object \n",
      " 25  work_life_balance                                    311 non-null    object \n",
      " 26  workload                                             311 non-null    object \n",
      " 27  none_of_the_above                                    311 non-null    object \n",
      " 28  gender                                               592 non-null    object \n",
      " 29  age                                                  596 non-null    object \n",
      " 30  aboriginal                                           7 non-null      object \n",
      " 31  torres_strait                                        0 non-null      object \n",
      " 32  south_sea                                            3 non-null      object \n",
      " 33  disability                                           8 non-null      object \n",
      " 34  nesb                                                 9 non-null      object \n",
      " 35  institute_service                                    563 non-null    object \n",
      " 36  dissatisfied                                         643 non-null    object \n",
      " 37  institute                                            651 non-null    object \n",
      " 38  Institute                                            340 non-null    object \n",
      " 39  WorkArea                                             340 non-null    object \n",
      " 40  Contributing Factors. Career Move - Public Sector    332 non-null    object \n",
      " 41  Contributing Factors. Career Move - Private Sector   332 non-null    object \n",
      " 42  Contributing Factors. Career Move - Self-employment  332 non-null    object \n",
      " 43  Contributing Factors. Ill Health                     332 non-null    object \n",
      " 44  Contributing Factors. Maternity/Family               332 non-null    object \n",
      " 45  Contributing Factors. Dissatisfaction                332 non-null    object \n",
      " 46  Contributing Factors. Job Dissatisfaction            332 non-null    object \n",
      " 47  Contributing Factors. Interpersonal Conflict         332 non-null    object \n",
      " 48  Contributing Factors. Study                          332 non-null    object \n",
      " 49  Contributing Factors. Travel                         332 non-null    object \n",
      " 50  Contributing Factors. Other                          332 non-null    object \n",
      " 51  Contributing Factors. NONE                           332 non-null    object \n",
      " 52  role_service                                         290 non-null    object \n",
      "dtypes: float64(4), object(49)\n",
      "memory usage: 269.7+ KB\n"
     ]
    }
   ],
   "source": [
    "# let's get some info about our combined dataset:\n",
    "combined.info()"
   ]
  },
  {
   "cell_type": "code",
   "execution_count": 39,
   "metadata": {},
   "outputs": [
    {
     "data": {
      "text/plain": [
       "id                                                       0\n",
       "separationtype                                           0\n",
       "cease_date                                              16\n",
       "dete_start_date                                        368\n",
       "role_start_date                                        380\n",
       "position                                                53\n",
       "classification                                         490\n",
       "region                                                 386\n",
       "business_unit                                          619\n",
       "employment_status                                       54\n",
       "career_move_to_public_sector                           340\n",
       "career_move_to_private_sector                          340\n",
       "interpersonal_conflicts                                340\n",
       "job_dissatisfaction                                    340\n",
       "dissatisfaction_with_the_department                    340\n",
       "physical_work_environment                              340\n",
       "lack_of_recognition                                    340\n",
       "lack_of_job_security                                   340\n",
       "work_location                                          340\n",
       "employment_conditions                                  340\n",
       "maternity/family                                       340\n",
       "relocation                                             340\n",
       "study/travel                                           340\n",
       "ill_health                                             340\n",
       "traumatic_incident                                     340\n",
       "work_life_balance                                      340\n",
       "workload                                               340\n",
       "none_of_the_above                                      340\n",
       "gender                                                  59\n",
       "age                                                     55\n",
       "aboriginal                                             644\n",
       "torres_strait                                          651\n",
       "south_sea                                              648\n",
       "disability                                             643\n",
       "nesb                                                   642\n",
       "institute_service                                       88\n",
       "dissatisfied                                             8\n",
       "institute                                                0\n",
       "Institute                                              311\n",
       "WorkArea                                               311\n",
       "Contributing Factors. Career Move - Public Sector      319\n",
       "Contributing Factors. Career Move - Private Sector     319\n",
       "Contributing Factors. Career Move - Self-employment    319\n",
       "Contributing Factors. Ill Health                       319\n",
       "Contributing Factors. Maternity/Family                 319\n",
       "Contributing Factors. Dissatisfaction                  319\n",
       "Contributing Factors. Job Dissatisfaction              319\n",
       "Contributing Factors. Interpersonal Conflict           319\n",
       "Contributing Factors. Study                            319\n",
       "Contributing Factors. Travel                           319\n",
       "Contributing Factors. Other                            319\n",
       "Contributing Factors. NONE                             319\n",
       "role_service                                           361\n",
       "dtype: int64"
      ]
     },
     "execution_count": 39,
     "metadata": {},
     "output_type": "execute_result"
    }
   ],
   "source": [
    "# let's find all the null values:\n",
    "combined.isnull().sum()"
   ]
  },
  {
   "cell_type": "code",
   "execution_count": 40,
   "metadata": {},
   "outputs": [],
   "source": [
    "# let's drop columns with less than 500 non-null values:\n",
    "combined_updated = combined.dropna(thresh=500, axis=1).copy()"
   ]
  },
  {
   "cell_type": "code",
   "execution_count": 41,
   "metadata": {},
   "outputs": [
    {
     "data": {
      "text/plain": [
       "id                    0\n",
       "separationtype        0\n",
       "cease_date           16\n",
       "position             53\n",
       "employment_status    54\n",
       "gender               59\n",
       "age                  55\n",
       "institute_service    88\n",
       "dissatisfied          8\n",
       "institute             0\n",
       "dtype: int64"
      ]
     },
     "execution_count": 41,
     "metadata": {},
     "output_type": "execute_result"
    }
   ],
   "source": [
    "combined_updated.isnull().sum()"
   ]
  },
  {
   "cell_type": "code",
   "execution_count": 42,
   "metadata": {},
   "outputs": [
    {
     "data": {
      "text/html": [
       "<div>\n",
       "<style scoped>\n",
       "    .dataframe tbody tr th:only-of-type {\n",
       "        vertical-align: middle;\n",
       "    }\n",
       "\n",
       "    .dataframe tbody tr th {\n",
       "        vertical-align: top;\n",
       "    }\n",
       "\n",
       "    .dataframe thead th {\n",
       "        text-align: right;\n",
       "    }\n",
       "</style>\n",
       "<table border=\"1\" class=\"dataframe\">\n",
       "  <thead>\n",
       "    <tr style=\"text-align: right;\">\n",
       "      <th></th>\n",
       "      <th>id</th>\n",
       "      <th>separationtype</th>\n",
       "      <th>cease_date</th>\n",
       "      <th>position</th>\n",
       "      <th>employment_status</th>\n",
       "      <th>gender</th>\n",
       "      <th>age</th>\n",
       "      <th>institute_service</th>\n",
       "      <th>dissatisfied</th>\n",
       "      <th>institute</th>\n",
       "    </tr>\n",
       "  </thead>\n",
       "  <tbody>\n",
       "    <tr>\n",
       "      <th>0</th>\n",
       "      <td>4.0</td>\n",
       "      <td>Resignation-Other reasons</td>\n",
       "      <td>2012.0</td>\n",
       "      <td>Teacher</td>\n",
       "      <td>Permanent Full-time</td>\n",
       "      <td>Female</td>\n",
       "      <td>36-40</td>\n",
       "      <td>7</td>\n",
       "      <td>False</td>\n",
       "      <td>DETE</td>\n",
       "    </tr>\n",
       "    <tr>\n",
       "      <th>1</th>\n",
       "      <td>6.0</td>\n",
       "      <td>Resignation-Other reasons</td>\n",
       "      <td>2012.0</td>\n",
       "      <td>Guidance Officer</td>\n",
       "      <td>Permanent Full-time</td>\n",
       "      <td>Female</td>\n",
       "      <td>41-45</td>\n",
       "      <td>18</td>\n",
       "      <td>True</td>\n",
       "      <td>DETE</td>\n",
       "    </tr>\n",
       "    <tr>\n",
       "      <th>2</th>\n",
       "      <td>9.0</td>\n",
       "      <td>Resignation-Other reasons</td>\n",
       "      <td>2012.0</td>\n",
       "      <td>Teacher</td>\n",
       "      <td>Permanent Full-time</td>\n",
       "      <td>Female</td>\n",
       "      <td>31-35</td>\n",
       "      <td>3</td>\n",
       "      <td>False</td>\n",
       "      <td>DETE</td>\n",
       "    </tr>\n",
       "    <tr>\n",
       "      <th>3</th>\n",
       "      <td>10.0</td>\n",
       "      <td>Resignation-Other employer</td>\n",
       "      <td>2012.0</td>\n",
       "      <td>Teacher Aide</td>\n",
       "      <td>Permanent Part-time</td>\n",
       "      <td>Female</td>\n",
       "      <td>46-50</td>\n",
       "      <td>15</td>\n",
       "      <td>True</td>\n",
       "      <td>DETE</td>\n",
       "    </tr>\n",
       "    <tr>\n",
       "      <th>4</th>\n",
       "      <td>12.0</td>\n",
       "      <td>Resignation-Move overseas/interstate</td>\n",
       "      <td>2012.0</td>\n",
       "      <td>Teacher</td>\n",
       "      <td>Permanent Full-time</td>\n",
       "      <td>Male</td>\n",
       "      <td>31-35</td>\n",
       "      <td>3</td>\n",
       "      <td>False</td>\n",
       "      <td>DETE</td>\n",
       "    </tr>\n",
       "  </tbody>\n",
       "</table>\n",
       "</div>"
      ],
      "text/plain": [
       "     id                        separationtype  cease_date          position  \\\n",
       "0   4.0             Resignation-Other reasons      2012.0           Teacher   \n",
       "1   6.0             Resignation-Other reasons      2012.0  Guidance Officer   \n",
       "2   9.0             Resignation-Other reasons      2012.0           Teacher   \n",
       "3  10.0            Resignation-Other employer      2012.0      Teacher Aide   \n",
       "4  12.0  Resignation-Move overseas/interstate      2012.0           Teacher   \n",
       "\n",
       "     employment_status  gender    age institute_service dissatisfied institute  \n",
       "0  Permanent Full-time  Female  36-40                 7        False      DETE  \n",
       "1  Permanent Full-time  Female  41-45                18         True      DETE  \n",
       "2  Permanent Full-time  Female  31-35                 3        False      DETE  \n",
       "3  Permanent Part-time  Female  46-50                15         True      DETE  \n",
       "4  Permanent Full-time    Male  31-35                 3        False      DETE  "
      ]
     },
     "execution_count": 42,
     "metadata": {},
     "output_type": "execute_result"
    }
   ],
   "source": [
    "combined_updated.head()"
   ]
  },
  {
   "cell_type": "code",
   "execution_count": 43,
   "metadata": {},
   "outputs": [
    {
     "data": {
      "text/plain": [
       "NaN                   88\n",
       "Less than 1 year      73\n",
       "1-2                   64\n",
       "3-4                   63\n",
       "5-6                   33\n",
       "11-20                 26\n",
       "5.0                   23\n",
       "1.0                   22\n",
       "7-10                  21\n",
       "3.0                   20\n",
       "0.0                   20\n",
       "6.0                   17\n",
       "4.0                   16\n",
       "9.0                   14\n",
       "2.0                   14\n",
       "7.0                   13\n",
       "More than 20 years    10\n",
       "13.0                   8\n",
       "8.0                    8\n",
       "15.0                   7\n",
       "20.0                   7\n",
       "10.0                   6\n",
       "12.0                   6\n",
       "14.0                   6\n",
       "17.0                   6\n",
       "22.0                   6\n",
       "18.0                   5\n",
       "16.0                   5\n",
       "24.0                   4\n",
       "11.0                   4\n",
       "23.0                   4\n",
       "21.0                   3\n",
       "32.0                   3\n",
       "19.0                   3\n",
       "39.0                   3\n",
       "26.0                   2\n",
       "28.0                   2\n",
       "30.0                   2\n",
       "25.0                   2\n",
       "36.0                   2\n",
       "38.0                   1\n",
       "49.0                   1\n",
       "42.0                   1\n",
       "41.0                   1\n",
       "33.0                   1\n",
       "35.0                   1\n",
       "34.0                   1\n",
       "29.0                   1\n",
       "27.0                   1\n",
       "31.0                   1\n",
       "Name: institute_service, dtype: int64"
      ]
     },
     "execution_count": 43,
     "metadata": {},
     "output_type": "execute_result"
    }
   ],
   "source": [
    "# let's inspect the `institute_service` column:\n",
    "combined_updated['institute_service'].value_counts(dropna=False)"
   ]
  },
  {
   "cell_type": "markdown",
   "metadata": {},
   "source": [
    "We see that this column contains values in different forms. In order to sort this column, we should convert the values in categories as **[this article](https://www.businesswire.com/news/home/20171108006002/en/Age-Number-Engage-Employees-Career-Stage)** states ***understanding employee's needs according to career stage instead of age is more effective.***"
   ]
  },
  {
   "cell_type": "markdown",
   "metadata": {},
   "source": [
    "Let's categorize the values in the `institute_service` column using :\n",
    "- **New:** Less than 3 years at a company\n",
    "- **Experienced:** 3-6 years at a company\n",
    "- **Established:**7-10 years at a company\n",
    "- **Veteran:** 11 or more years at a company"
   ]
  },
  {
   "cell_type": "code",
   "execution_count": 44,
   "metadata": {},
   "outputs": [
    {
     "data": {
      "text/plain": [
       "0       7.0\n",
       "1      18.0\n",
       "2       3.0\n",
       "3      15.0\n",
       "4       3.0\n",
       "       ... \n",
       "646     5-6\n",
       "647     1-2\n",
       "648     nan\n",
       "649     5-6\n",
       "650     3-4\n",
       "Name: institute_service, Length: 651, dtype: object"
      ]
     },
     "execution_count": 44,
     "metadata": {},
     "output_type": "execute_result"
    }
   ],
   "source": [
    "combined_updated['institute_service'].astype(str)"
   ]
  },
  {
   "cell_type": "markdown",
   "metadata": {},
   "source": [
    "Since our first category includes 'Less than 3 years at a company' we can convert 'Less than 1 year' to 'New' and 'More than 20 years' to 'Veteran' which includes '11 or more years at a company'."
   ]
  },
  {
   "cell_type": "code",
   "execution_count": 45,
   "metadata": {},
   "outputs": [
    {
     "data": {
      "text/plain": [
       "'20.0'"
      ]
     },
     "execution_count": 45,
     "metadata": {},
     "output_type": "execute_result"
    }
   ],
   "source": [
    "# let's create a function to sort range values:\n",
    "def range_value(value):\n",
    "    values = str(value)\n",
    "    if '-' in values:\n",
    "        values = values.split('-')\n",
    "        values = (float(values[1]) + float(values[0])) / 2\n",
    "        return str(values)\n",
    "    elif (value == 'Less than 1 year'):\n",
    "        return ('1.0')\n",
    "    elif (value == 'More than 20 years'):\n",
    "        return ('20.0')\n",
    "    else:\n",
    "        return str(value)\n",
    "\n",
    "# checking the function:\n",
    "range_value('20.0')"
   ]
  },
  {
   "cell_type": "code",
   "execution_count": 46,
   "metadata": {},
   "outputs": [],
   "source": [
    "# applying the funtion to our required column:\n",
    "combined_updated['institute_service']= combined_updated[['institute_service']].applymap(range_value)\n",
    "combined_updated['institute_service'] = combined_updated['institute_service'].astype(float)"
   ]
  },
  {
   "cell_type": "code",
   "execution_count": 47,
   "metadata": {},
   "outputs": [
    {
     "data": {
      "text/plain": [
       "'Veteran'"
      ]
     },
     "execution_count": 47,
     "metadata": {},
     "output_type": "execute_result"
    }
   ],
   "source": [
    "# let's create a function to sort the values in the selected ranges:\n",
    "def convert_range(val):\n",
    "    if pd.isnull(val):\n",
    "        return 'Unknown'\n",
    "    elif (val < 3.0):\n",
    "        return 'New';\n",
    "    elif (val > 3.0) and (val < 6.0):\n",
    "        return 'Experienced';\n",
    "    elif (val > 6.0) and (val < 10.0): \n",
    "        return 'Established';\n",
    "    elif (val > 10.0):\n",
    "        return 'Veteran';\n",
    "    else :\n",
    "        return 'Unknown'  # to cover for unknown cases\n",
    "\n",
    "# checking the function:\n",
    "convert_range(20.0)"
   ]
  },
  {
   "cell_type": "code",
   "execution_count": 48,
   "metadata": {},
   "outputs": [
    {
     "data": {
      "text/plain": [
       "New            193\n",
       "Veteran        136\n",
       "Experienced    135\n",
       "Unknown        131\n",
       "Established     56\n",
       "Name: service_cat, dtype: int64"
      ]
     },
     "execution_count": 48,
     "metadata": {},
     "output_type": "execute_result"
    }
   ],
   "source": [
    "# applying the function to our column :\n",
    "combined_updated['service_cat'] = combined_updated[['institute_service']].applymap(convert_range)\n",
    "combined_updated['service_cat'].value_counts(dropna=False)"
   ]
  },
  {
   "cell_type": "markdown",
   "metadata": {},
   "source": [
    "Finally, let's start with the aggregation process which would lead us to the answer of our questions."
   ]
  },
  {
   "cell_type": "code",
   "execution_count": 49,
   "metadata": {},
   "outputs": [
    {
     "data": {
      "text/plain": [
       "False    403\n",
       "True     240\n",
       "NaN        8\n",
       "Name: dissatisfied, dtype: int64"
      ]
     },
     "execution_count": 49,
     "metadata": {},
     "output_type": "execute_result"
    }
   ],
   "source": [
    "# Let's check the dissatisfied column:\n",
    "combined_updated['dissatisfied'].value_counts(dropna=False)"
   ]
  },
  {
   "cell_type": "code",
   "execution_count": 50,
   "metadata": {},
   "outputs": [],
   "source": [
    "# Let's fill the 'NaN' values with the most occuring values in the group:\n",
    "combined_updated['dissatisfied'] = combined_updated['dissatisfied'].fillna(False)"
   ]
  },
  {
   "cell_type": "code",
   "execution_count": 51,
   "metadata": {},
   "outputs": [
    {
     "data": {
      "text/plain": [
       "False    411\n",
       "True     240\n",
       "Name: dissatisfied, dtype: int64"
      ]
     },
     "execution_count": 51,
     "metadata": {},
     "output_type": "execute_result"
    }
   ],
   "source": [
    "combined_updated['dissatisfied'].value_counts(dropna=False)"
   ]
  },
  {
   "cell_type": "code",
   "execution_count": 52,
   "metadata": {},
   "outputs": [
    {
     "data": {
      "text/plain": [
       "service_cat\n",
       "Established    0.553571\n",
       "Veteran        0.485294\n",
       "Unknown        0.343511\n",
       "Experienced    0.303704\n",
       "New            0.295337\n",
       "Name: dissatisfied, dtype: float64"
      ]
     },
     "execution_count": 52,
     "metadata": {},
     "output_type": "execute_result"
    }
   ],
   "source": [
    "# let's create a pivot table to aggregate the 'service_cat' column:\n",
    "pv_combined_updated = pd.pivot_table(combined_updated, index='service_cat', values='dissatisfied')\n",
    "pv_combined_updated['dissatisfied'].sort_values(ascending=False)"
   ]
  },
  {
   "cell_type": "code",
   "execution_count": 53,
   "metadata": {},
   "outputs": [
    {
     "data": {
      "text/plain": [
       "<matplotlib.axes._subplots.AxesSubplot at 0x7fcce46bb040>"
      ]
     },
     "execution_count": 53,
     "metadata": {},
     "output_type": "execute_result"
    },
    {
     "data": {
      "image/png": "[encoded data removed]",
      "text/plain": [
       "<Figure size 600x400 with 1 Axes>"
      ]
     },
     "metadata": {},
     "output_type": "display_data"
    }
   ],
   "source": [
    "# plotting the pivot table:\n",
    "pv_combined_updated.plot(kind ='bar', ylim=(0,1), title = '% of Dissatisfied Employees', legend=False, rot=30)"
   ]
  },
  {
   "cell_type": "markdown",
   "metadata": {},
   "source": [
    "## Observations :\n",
    "- The **Established** *(7-10 years at a company)* category has the highest number of resignantions, closely followed by the **Veteran** *( 11 or more years at a company)* category.\n",
    "- We see that the **employees are higly dissatisfied**, especially as their years of employment increase."
   ]
  },
  {
   "cell_type": "markdown",
   "metadata": {},
   "source": [
    "---"
   ]
  },
  {
   "cell_type": "markdown",
   "metadata": {},
   "source": [
    "Let's try to correlate our findings with the different age groups in the dataset:"
   ]
  },
  {
   "cell_type": "code",
   "execution_count": 54,
   "metadata": {},
   "outputs": [
    {
     "data": {
      "text/plain": [
       "51-55            71\n",
       "NaN              55\n",
       "41-45            48\n",
       "41  45           45\n",
       "46-50            42\n",
       "36-40            41\n",
       "46  50           39\n",
       "26-30            35\n",
       "21  25           33\n",
       "31  35           32\n",
       "36  40           32\n",
       "26  30           32\n",
       "56 or older      29\n",
       "31-35            29\n",
       "21-25            29\n",
       "56-60            26\n",
       "61 or older      23\n",
       "20 or younger    10\n",
       "Name: age, dtype: int64"
      ]
     },
     "execution_count": 54,
     "metadata": {},
     "output_type": "execute_result"
    }
   ],
   "source": [
    "combined_updated['age'].value_counts(dropna=False)"
   ]
  },
  {
   "cell_type": "code",
   "execution_count": 55,
   "metadata": {},
   "outputs": [
    {
     "data": {
      "text/plain": [
       "'Unknown'"
      ]
     },
     "execution_count": 55,
     "metadata": {},
     "output_type": "execute_result"
    }
   ],
   "source": [
    "## Let's clean the column:\n",
    "def clean_up(value):\n",
    "    if value== 'nan':\n",
    "        return 'Unknown'\n",
    "    elif value == '20 or younger':\n",
    "        return value\n",
    "    elif value == '61 or older':\n",
    "        return value\n",
    "    return (value[:2] + '-' + value[-2:])\n",
    "\n",
    "clean_up('nan')"
   ]
  },
  {
   "cell_type": "code",
   "execution_count": 56,
   "metadata": {},
   "outputs": [
    {
     "data": {
      "text/plain": [
       "20 or younger    10\n",
       "21-25            62\n",
       "26-30            67\n",
       "31-35            61\n",
       "36-40            73\n",
       "41-45            93\n",
       "46-50            81\n",
       "51-55            71\n",
       "56-60            55\n",
       "61 or older      23\n",
       "Unknown          55\n",
       "Name: age, dtype: int64"
      ]
     },
     "execution_count": 56,
     "metadata": {},
     "output_type": "execute_result"
    }
   ],
   "source": [
    "combined_updated['age'] = combined_updated['age'].astype(str).str.replace('56 or older', '56-60').apply(clean_up)\n",
    "\n",
    "combined_updated['age'].value_counts().sort_index()"
   ]
  },
  {
   "cell_type": "code",
   "execution_count": 57,
   "metadata": {},
   "outputs": [
    {
     "data": {
      "text/html": [
       "<div>\n",
       "<style scoped>\n",
       "    .dataframe tbody tr th:only-of-type {\n",
       "        vertical-align: middle;\n",
       "    }\n",
       "\n",
       "    .dataframe tbody tr th {\n",
       "        vertical-align: top;\n",
       "    }\n",
       "\n",
       "    .dataframe thead th {\n",
       "        text-align: right;\n",
       "    }\n",
       "</style>\n",
       "<table border=\"1\" class=\"dataframe\">\n",
       "  <thead>\n",
       "    <tr style=\"text-align: right;\">\n",
       "      <th></th>\n",
       "      <th>dissatisfied</th>\n",
       "    </tr>\n",
       "    <tr>\n",
       "      <th>age</th>\n",
       "      <th></th>\n",
       "    </tr>\n",
       "  </thead>\n",
       "  <tbody>\n",
       "    <tr>\n",
       "      <th>20 or younger</th>\n",
       "      <td>0.200000</td>\n",
       "    </tr>\n",
       "    <tr>\n",
       "      <th>21-25</th>\n",
       "      <td>0.306452</td>\n",
       "    </tr>\n",
       "    <tr>\n",
       "      <th>26-30</th>\n",
       "      <td>0.417910</td>\n",
       "    </tr>\n",
       "    <tr>\n",
       "      <th>31-35</th>\n",
       "      <td>0.377049</td>\n",
       "    </tr>\n",
       "    <tr>\n",
       "      <th>36-40</th>\n",
       "      <td>0.342466</td>\n",
       "    </tr>\n",
       "    <tr>\n",
       "      <th>41-45</th>\n",
       "      <td>0.376344</td>\n",
       "    </tr>\n",
       "    <tr>\n",
       "      <th>46-50</th>\n",
       "      <td>0.382716</td>\n",
       "    </tr>\n",
       "    <tr>\n",
       "      <th>51-55</th>\n",
       "      <td>0.422535</td>\n",
       "    </tr>\n",
       "    <tr>\n",
       "      <th>56-60</th>\n",
       "      <td>0.381818</td>\n",
       "    </tr>\n",
       "    <tr>\n",
       "      <th>61 or older</th>\n",
       "      <td>0.521739</td>\n",
       "    </tr>\n",
       "    <tr>\n",
       "      <th>Unknown</th>\n",
       "      <td>0.254545</td>\n",
       "    </tr>\n",
       "  </tbody>\n",
       "</table>\n",
       "</div>"
      ],
      "text/plain": [
       "               dissatisfied\n",
       "age                        \n",
       "20 or younger      0.200000\n",
       "21-25              0.306452\n",
       "26-30              0.417910\n",
       "31-35              0.377049\n",
       "36-40              0.342466\n",
       "41-45              0.376344\n",
       "46-50              0.382716\n",
       "51-55              0.422535\n",
       "56-60              0.381818\n",
       "61 or older        0.521739\n",
       "Unknown            0.254545"
      ]
     },
     "execution_count": 57,
     "metadata": {},
     "output_type": "execute_result"
    }
   ],
   "source": [
    "# let's create a pivot table to plot the dissatisfaction values:\n",
    "pv_age = pd.pivot_table(combined_updated, index='age', values='dissatisfied')\n",
    "\n",
    "pv_age"
   ]
  },
  {
   "cell_type": "code",
   "execution_count": 58,
   "metadata": {},
   "outputs": [
    {
     "data": {
      "text/plain": [
       "<matplotlib.axes._subplots.AxesSubplot at 0x7fcce32b4d00>"
      ]
     },
     "execution_count": 58,
     "metadata": {},
     "output_type": "execute_result"
    },
    {
     "data": {
      "image/png": "[encoded data removed]",
      "text/plain": [
       "<Figure size 600x400 with 1 Axes>"
      ]
     },
     "metadata": {},
     "output_type": "display_data"
    }
   ],
   "source": [
    "# let's plot the age values:\n",
    "pv_age.plot(kind ='bar', ylim = (0,1), title = '% Dissatisfaction of Employees by Age')"
   ]
  },
  {
   "cell_type": "markdown",
   "metadata": {},
   "source": [
    "## Observation : \n",
    "\n",
    "- People over the age of 61 have the highest dissatisfaction amongst the employees (over 52.1%).\n",
    "- Middle age groups have dissatisfaction values (~ 40%).\n",
    "- Younger age groups (<25) have very low dissatisfaction values."
   ]
  },
  {
   "cell_type": "markdown",
   "metadata": {},
   "source": [
    "---"
   ]
  },
  {
   "cell_type": "markdown",
   "metadata": {},
   "source": [
    "Let's compare the dissatisfaction values accross the datasets:"
   ]
  },
  {
   "cell_type": "code",
   "execution_count": 59,
   "metadata": {},
   "outputs": [
    {
     "data": {
      "text/html": [
       "<div>\n",
       "<style scoped>\n",
       "    .dataframe tbody tr th:only-of-type {\n",
       "        vertical-align: middle;\n",
       "    }\n",
       "\n",
       "    .dataframe tbody tr th {\n",
       "        vertical-align: top;\n",
       "    }\n",
       "\n",
       "    .dataframe thead th {\n",
       "        text-align: right;\n",
       "    }\n",
       "</style>\n",
       "<table border=\"1\" class=\"dataframe\">\n",
       "  <thead>\n",
       "    <tr style=\"text-align: right;\">\n",
       "      <th>institute</th>\n",
       "      <th>DETE</th>\n",
       "      <th>TAFE</th>\n",
       "      <th>All</th>\n",
       "    </tr>\n",
       "    <tr>\n",
       "      <th>service_cat</th>\n",
       "      <th></th>\n",
       "      <th></th>\n",
       "      <th></th>\n",
       "    </tr>\n",
       "  </thead>\n",
       "  <tbody>\n",
       "    <tr>\n",
       "      <th>Established</th>\n",
       "      <td>0.685714</td>\n",
       "      <td>0.333333</td>\n",
       "      <td>0.553571</td>\n",
       "    </tr>\n",
       "    <tr>\n",
       "      <th>Experienced</th>\n",
       "      <td>0.435897</td>\n",
       "      <td>0.250000</td>\n",
       "      <td>0.303704</td>\n",
       "    </tr>\n",
       "    <tr>\n",
       "      <th>New</th>\n",
       "      <td>0.375000</td>\n",
       "      <td>0.262774</td>\n",
       "      <td>0.295337</td>\n",
       "    </tr>\n",
       "    <tr>\n",
       "      <th>Unknown</th>\n",
       "      <td>0.382716</td>\n",
       "      <td>0.280000</td>\n",
       "      <td>0.343511</td>\n",
       "    </tr>\n",
       "    <tr>\n",
       "      <th>Veteran</th>\n",
       "      <td>0.560000</td>\n",
       "      <td>0.277778</td>\n",
       "      <td>0.485294</td>\n",
       "    </tr>\n",
       "    <tr>\n",
       "      <th>All</th>\n",
       "      <td>0.479100</td>\n",
       "      <td>0.267647</td>\n",
       "      <td>0.368664</td>\n",
       "    </tr>\n",
       "  </tbody>\n",
       "</table>\n",
       "</div>"
      ],
      "text/plain": [
       "institute        DETE      TAFE       All\n",
       "service_cat                              \n",
       "Established  0.685714  0.333333  0.553571\n",
       "Experienced  0.435897  0.250000  0.303704\n",
       "New          0.375000  0.262774  0.295337\n",
       "Unknown      0.382716  0.280000  0.343511\n",
       "Veteran      0.560000  0.277778  0.485294\n",
       "All          0.479100  0.267647  0.368664"
      ]
     },
     "execution_count": 59,
     "metadata": {},
     "output_type": "execute_result"
    }
   ],
   "source": [
    "## creating a pivot table to aggregate the values by service category (i.e years of service):\n",
    "pv_dete_tafe_service = pd.pivot_table(combined_updated, index='service_cat', columns='institute', values='dissatisfied', margins=True)\n",
    "pv_dete_tafe_service"
   ]
  },
  {
   "cell_type": "code",
   "execution_count": 60,
   "metadata": {},
   "outputs": [
    {
     "data": {
      "text/plain": [
       "<matplotlib.axes._subplots.AxesSubplot at 0x7fcce32b4160>"
      ]
     },
     "execution_count": 60,
     "metadata": {},
     "output_type": "execute_result"
    },
    {
     "data": {
      "image/png": "[encoded data removed]",
      "text/plain": [
       "<Figure size 600x400 with 1 Axes>"
      ]
     },
     "metadata": {},
     "output_type": "display_data"
    }
   ],
   "source": [
    "# plotting the pivot table:\n",
    "pv_dete_tafe_service.plot(kind ='bar', ylim = (0,1), title = ' % Dissatisfaction of Employees by Institute')"
   ]
  },
  {
   "cell_type": "code",
   "execution_count": 61,
   "metadata": {},
   "outputs": [
    {
     "data": {
      "text/html": [
       "<div>\n",
       "<style scoped>\n",
       "    .dataframe tbody tr th:only-of-type {\n",
       "        vertical-align: middle;\n",
       "    }\n",
       "\n",
       "    .dataframe tbody tr th {\n",
       "        vertical-align: top;\n",
       "    }\n",
       "\n",
       "    .dataframe thead th {\n",
       "        text-align: right;\n",
       "    }\n",
       "</style>\n",
       "<table border=\"1\" class=\"dataframe\">\n",
       "  <thead>\n",
       "    <tr style=\"text-align: right;\">\n",
       "      <th>institute</th>\n",
       "      <th>DETE</th>\n",
       "      <th>TAFE</th>\n",
       "      <th>All</th>\n",
       "      <th>Difference</th>\n",
       "    </tr>\n",
       "    <tr>\n",
       "      <th>age</th>\n",
       "      <th></th>\n",
       "      <th></th>\n",
       "      <th></th>\n",
       "      <th></th>\n",
       "    </tr>\n",
       "  </thead>\n",
       "  <tbody>\n",
       "    <tr>\n",
       "      <th>20 or younger</th>\n",
       "      <td>0.000000</td>\n",
       "      <td>0.222222</td>\n",
       "      <td>0.200000</td>\n",
       "      <td>-0.222222</td>\n",
       "    </tr>\n",
       "    <tr>\n",
       "      <th>21-25</th>\n",
       "      <td>0.310345</td>\n",
       "      <td>0.303030</td>\n",
       "      <td>0.306452</td>\n",
       "      <td>0.007315</td>\n",
       "    </tr>\n",
       "    <tr>\n",
       "      <th>26-30</th>\n",
       "      <td>0.571429</td>\n",
       "      <td>0.250000</td>\n",
       "      <td>0.417910</td>\n",
       "      <td>0.321429</td>\n",
       "    </tr>\n",
       "    <tr>\n",
       "      <th>31-35</th>\n",
       "      <td>0.551724</td>\n",
       "      <td>0.218750</td>\n",
       "      <td>0.377049</td>\n",
       "      <td>0.332974</td>\n",
       "    </tr>\n",
       "    <tr>\n",
       "      <th>36-40</th>\n",
       "      <td>0.390244</td>\n",
       "      <td>0.281250</td>\n",
       "      <td>0.342466</td>\n",
       "      <td>0.108994</td>\n",
       "    </tr>\n",
       "    <tr>\n",
       "      <th>41-45</th>\n",
       "      <td>0.479167</td>\n",
       "      <td>0.266667</td>\n",
       "      <td>0.376344</td>\n",
       "      <td>0.212500</td>\n",
       "    </tr>\n",
       "    <tr>\n",
       "      <th>46-50</th>\n",
       "      <td>0.452381</td>\n",
       "      <td>0.307692</td>\n",
       "      <td>0.382716</td>\n",
       "      <td>0.144689</td>\n",
       "    </tr>\n",
       "    <tr>\n",
       "      <th>51-55</th>\n",
       "      <td>0.593750</td>\n",
       "      <td>0.282051</td>\n",
       "      <td>0.422535</td>\n",
       "      <td>0.311699</td>\n",
       "    </tr>\n",
       "    <tr>\n",
       "      <th>56-60</th>\n",
       "      <td>0.576923</td>\n",
       "      <td>0.206897</td>\n",
       "      <td>0.381818</td>\n",
       "      <td>0.370027</td>\n",
       "    </tr>\n",
       "    <tr>\n",
       "      <th>61 or older</th>\n",
       "      <td>0.521739</td>\n",
       "      <td>NaN</td>\n",
       "      <td>0.521739</td>\n",
       "      <td>NaN</td>\n",
       "    </tr>\n",
       "    <tr>\n",
       "      <th>Unknown</th>\n",
       "      <td>0.000000</td>\n",
       "      <td>0.280000</td>\n",
       "      <td>0.254545</td>\n",
       "      <td>-0.280000</td>\n",
       "    </tr>\n",
       "    <tr>\n",
       "      <th>All</th>\n",
       "      <td>0.479100</td>\n",
       "      <td>0.267647</td>\n",
       "      <td>0.368664</td>\n",
       "      <td>0.211453</td>\n",
       "    </tr>\n",
       "  </tbody>\n",
       "</table>\n",
       "</div>"
      ],
      "text/plain": [
       "institute          DETE      TAFE       All  Difference\n",
       "age                                                    \n",
       "20 or younger  0.000000  0.222222  0.200000   -0.222222\n",
       "21-25          0.310345  0.303030  0.306452    0.007315\n",
       "26-30          0.571429  0.250000  0.417910    0.321429\n",
       "31-35          0.551724  0.218750  0.377049    0.332974\n",
       "36-40          0.390244  0.281250  0.342466    0.108994\n",
       "41-45          0.479167  0.266667  0.376344    0.212500\n",
       "46-50          0.452381  0.307692  0.382716    0.144689\n",
       "51-55          0.593750  0.282051  0.422535    0.311699\n",
       "56-60          0.576923  0.206897  0.381818    0.370027\n",
       "61 or older    0.521739       NaN  0.521739         NaN\n",
       "Unknown        0.000000  0.280000  0.254545   -0.280000\n",
       "All            0.479100  0.267647  0.368664    0.211453"
      ]
     },
     "execution_count": 61,
     "metadata": {},
     "output_type": "execute_result"
    }
   ],
   "source": [
    "## creating a pivot table to aggregate the values by age (i.e years of service):\n",
    "pv_dete_tafe_age = pd.pivot_table(combined_updated, index='age', columns='institute', values='dissatisfied', margins=True)\n",
    "pv_dete_tafe_age['Difference'] = pv_dete_tafe_age['DETE'] - pv_dete_tafe_age['TAFE']\n",
    "pv_dete_tafe_age"
   ]
  },
  {
   "cell_type": "code",
   "execution_count": 62,
   "metadata": {},
   "outputs": [
    {
     "data": {
      "text/plain": [
       "<matplotlib.axes._subplots.AxesSubplot at 0x7fcce2cce160>"
      ]
     },
     "execution_count": 62,
     "metadata": {},
     "output_type": "execute_result"
    },
    {
     "data": {
      "image/png": "[encoded data removed]",
      "text/plain": [
       "<Figure size 600x400 with 1 Axes>"
      ]
     },
     "metadata": {},
     "output_type": "display_data"
    }
   ],
   "source": [
    "## let's plot the pivot table:\n",
    "pv_dete_tafe_age.plot(kind ='bar', ylim = (0,1), title = ' % Dissatisfaction of Employees by Age in Institute')"
   ]
  },
  {
   "cell_type": "markdown",
   "metadata": {},
   "source": [
    "---"
   ]
  },
  {
   "cell_type": "markdown",
   "metadata": {},
   "source": [
    "# Conclusion:\n",
    "\n",
    "Let's now try to answer the questions that we asked before our analysis:\n",
    "\n",
    "1. **Are employees who only worked for the institutes for a short period of time resigning due to some kind of dissatisfaction? What about employees who have been there longer?**\n",
    "    - On average, about 30% employees who worked for shorter period of time (i.e `New` and `Experienced` categories) had less dissatisfaction.\n",
    "    - As the experience in the company increased, so did the number of dissatisfied employees (~51% of the employees in `Established` and `Veteran`categories were dissatisfied.)\n",
    "    - Institute wise, **`TAFE`** has lesser dissatified employees ( ~26% ) when compared to **`DETE`**, which has over ( ~48% ) dissatisfied employees.\n",
    "\n",
    "    \n",
    "2. **Are younger employees resigning due to some kind of dissatisfaction? What about older employees?**\n",
    "    - On average less `younger` employees (age < 25) resign due to dissatisfaction ( ~25% ).\n",
    "    - As the age of the employee increases, so does the chance of him resigning due to dissatisfaction, especially for the eldest age group (i.e  `51 and older`) which have over ( ~45% ) resignings due to dissatisfaction.\n",
    "    - Institute wise, **`TAFE`** has lesser dissatified employees in every age group when compared to **`DETE`**, with an average difference of ( ~21% ).\n",
    "    - **`TAFE`** has almost no dissatifed employees belonging to the `younger` age group."
   ]
  }
 ],
 "metadata": {
  "kernelspec": {
   "display_name": "Python 3",
   "language": "python",
   "name": "python3"
  },
  "language_info": {
   "codemirror_mode": {
    "name": "ipython",
    "version": 3
   },
   "file_extension": ".py",
   "mimetype": "text/x-python",
   "name": "python",
   "nbconvert_exporter": "python",
   "pygments_lexer": "ipython3",
   "version": "3.8.2"
  }
 },
 "nbformat": 4,
 "nbformat_minor": 2
}
