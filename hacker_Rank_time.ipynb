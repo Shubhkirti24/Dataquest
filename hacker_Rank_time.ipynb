{
 "cells": [
  {
   "cell_type": "markdown",
   "metadata": {
    "collapsed": true
   },
   "source": [
    "# Hacker News \n",
    "#### Objecives:\n",
    "- Do Ask HN or Show HN receive more comments on average?\n",
    "- Do posts created at a certain time receive more comments on average?"
   ]
  },
  {
   "cell_type": "markdown",
   "metadata": {},
   "source": [
    "**What is Hacker News?**\n",
    "Hacker News is a site started by the startup incubator Y Combinator, where user-submitted stories (known as \"posts\") are voted and commented upon, similar to reddit. Hacker News is extremely popular in technology and startup circles, and posts that make it to the top of Hacker News' listings can get hundreds of thousands of visitors as a result."
   ]
  },
  {
   "cell_type": "markdown",
   "metadata": {},
   "source": [
    "**Dataset column description :**\n",
    "\n",
    "- id: The unique identifier from Hacker News for the post\n",
    "- title: The title of the post\n",
    "- url: The URL that the posts links to, if the post has a URL\n",
    "- num_points: The number of points the post acquired, calculated as the total number of upvotes minus - the total number of downvotes\n",
    "- num_comments: The number of comments that were made on the post\n",
    "- author: The username of the person who submitted the post\n",
    "- created_at: The date and time at which the post was submitted\n"
   ]
  },
  {
   "cell_type": "code",
   "execution_count": 44,
   "metadata": {},
   "outputs": [
    {
     "name": "stdout",
     "output_type": "stream",
     "text": [
      "[['id', 'title', 'url', 'num_points', 'num_comments', 'author', 'created_at']]\n",
      "\n",
      "\n",
      "[['12224879', 'Interactive Dynamic Video', 'http://www.interactivedynamicvideo.com/', '386', '52', 'ne0phyte', '8/4/2016 11:52'], ['10975351', 'How to Use Open Source and Shut the Fuck Up at the Same Time', 'http://hueniverse.com/2016/01/26/how-to-use-open-source-and-shut-the-fuck-up-at-the-same-time/', '39', '10', 'josep2', '1/26/2016 19:30'], ['11964716', \"Florida DJs May Face Felony for April Fools' Water Joke\", 'http://www.thewire.com/entertainment/2013/04/florida-djs-april-fools-water-joke/63798/', '2', '1', 'vezycash', '6/23/2016 22:20'], ['11919867', 'Technology ventures: From Idea to Enterprise', 'https://www.amazon.com/Technology-Ventures-Enterprise-Thomas-Byers/dp/0073523429', '3', '1', 'hswarna', '6/17/2016 0:01'], ['10301696', 'Note by Note: The Making of Steinway L1037 (2007)', 'http://www.nytimes.com/2007/11/07/movies/07stein.html?_r=0', '8', '2', 'walterbell', '9/30/2015 4:12']]\n"
     ]
    }
   ],
   "source": [
    "# importing the required libraries:\n",
    "\n",
    "from csv import reader\n",
    "\n",
    "opened = open('hacker_news.csv')\n",
    "read = reader(opened)\n",
    "hn = list(read)\n",
    "\n",
    "# quick glance at the data:\n",
    "\n",
    "header = hn[:1]\n",
    "print(header)\n",
    "print('\\n')\n",
    "\n",
    "## removing the header:\n",
    "\n",
    "hn = hn[1:]\n",
    "print(hn[:5])"
   ]
  },
  {
   "cell_type": "markdown",
   "metadata": {},
   "source": [
    "**We're only concerned with post titles beginning with Ask HN or Show HN, so we'll create new lists of lists containing just the data for those titles.**"
   ]
  },
  {
   "cell_type": "code",
   "execution_count": 45,
   "metadata": {},
   "outputs": [
    {
     "name": "stdout",
     "output_type": "stream",
     "text": [
      "The number of posts in ask_posts is 1744.\n",
      "\n",
      "The number of posts in show_posts is 1162.\n",
      "\n",
      "The number of posts in other_posts is 17194.\n",
      "\n"
     ]
    }
   ],
   "source": [
    "# to separate posts beginning with Ask HN and Show HN (and case variations) into two different lists:\n",
    "\n",
    "ask_posts = []\n",
    "show_posts = []\n",
    "other_posts = []\n",
    "\n",
    "for row in hn:\n",
    "    title = row[1]\n",
    "    title = title.lower()\n",
    "    \n",
    "    if title.startswith('show hn'):\n",
    "        show_posts.append(row)\n",
    "    elif title.startswith('ask hn'):\n",
    "        ask_posts.append(row)\n",
    "    else:\n",
    "        other_posts.append(row)\n",
    "\n",
    "## to check the number of posts in each category:\n",
    "\n",
    "template =\"The number of posts in {} is {}.\"\n",
    "\n",
    "print(template.format('ask_posts',len(ask_posts)) + '\\n')\n",
    "print(template.format('show_posts',len(show_posts)) + '\\n')\n",
    "print(template.format('other_posts',len(other_posts)) + '\\n')"
   ]
  },
  {
   "cell_type": "markdown",
   "metadata": {},
   "source": [
    "##  Which kind of posts receive more comments on an average"
   ]
  },
  {
   "cell_type": "code",
   "execution_count": 46,
   "metadata": {},
   "outputs": [
    {
     "name": "stdout",
     "output_type": "stream",
     "text": [
      "[['id', 'title', 'url', 'num_points', 'num_comments', 'author', 'created_at']]\n",
      "\n",
      "\n",
      "[['12296411', 'Ask HN: How to improve my personal website?', '', '2', '6', 'ahmedbaracat', '8/16/2016 9:55'], ['10610020', 'Ask HN: Am I the only one outraged by Twitter shutting down share counts?', '', '28', '29', 'tkfx', '11/22/2015 13:43'], ['11610310', 'Ask HN: Aby recent changes to CSS that broke mobile?', '', '1', '1', 'polskibus', '5/2/2016 10:14'], ['12210105', 'Ask HN: Looking for Employee #3 How do I do it?', '', '1', '3', 'sph130', '8/2/2016 14:20'], ['10394168', 'Ask HN: Someone offered to buy my browser extension from me. What now?', '', '28', '17', 'roykolak', '10/15/2015 16:38']]\n",
      "\n",
      "\n",
      "[['10627194', 'Show HN: Wio Link  ESP8266 Based Web of Things Hardware Development Platform', 'https://iot.seeed.cc', '26', '22', 'kfihihc', '11/25/2015 14:03'], ['10646440', 'Show HN: Something pointless I made', 'http://dn.ht/picklecat/', '747', '102', 'dhotson', '11/29/2015 22:46'], ['11590768', 'Show HN: Shanhu.io, a programming playground powered by e8vm', 'https://shanhu.io', '1', '1', 'h8liu', '4/28/2016 18:05'], ['12178806', 'Show HN: Webscope  Easy way for web developers to communicate with Clients', 'http://webscopeapp.com', '3', '3', 'fastbrick', '7/28/2016 7:11'], ['10872799', 'Show HN: GeoScreenshot  Easily test Geo-IP based web pages', 'https://www.geoscreenshot.com/', '1', '9', 'kpsychwave', '1/9/2016 20:45']]\n"
     ]
    }
   ],
   "source": [
    "# glancing at the post's data :\n",
    "print(header)\n",
    "print('\\n')\n",
    "print(ask_posts[:5])\n",
    "print('\\n')\n",
    "print(show_posts[:5])"
   ]
  },
  {
   "cell_type": "code",
   "execution_count": 47,
   "metadata": {},
   "outputs": [
    {
     "name": "stdout",
     "output_type": "stream",
     "text": [
      "The average number of comments per 'Ask HN' post is 14.04. \n",
      "\n",
      "The average number of comments per 'Show HN' post is 10.32. \n",
      "\n"
     ]
    }
   ],
   "source": [
    "# calculating the average comments per post for ask_hn and show_hn :\n",
    "\n",
    "## for ask_hn :\n",
    "total_ask_comments = 0\n",
    "\n",
    "for row in ask_posts:\n",
    "    num_com = row[4]\n",
    "    num_com = int(num_com)\n",
    "    \n",
    "    total_ask_comments = total_ask_comments + num_com\n",
    "\n",
    "## for show hn:\n",
    "total_show_comments = 0\n",
    "\n",
    "for row in show_posts:\n",
    "    num_com = row[4]\n",
    "    num_com = int(num_com)\n",
    "    \n",
    "    total_show_comments = total_show_comments + num_com\n",
    "\n",
    "\n",
    "## computing the average comments per category:\n",
    "avg_ask_com = (total_ask_comments / len(ask_posts))\n",
    "\n",
    "avg_show_com = (total_show_comments / len(show_posts))\n",
    "\n",
    "## results :\n",
    "print(\"The average number of comments per 'Ask HN' post is {}. \".format(round(avg_ask_com,2)) + '\\n')\n",
    "print(\"The average number of comments per 'Show HN' post is {}. \".format(round(avg_show_com,2)) + '\\n')\n"
   ]
  },
  {
   "cell_type": "markdown",
   "metadata": {},
   "source": [
    "**From the above analysis we determined that on average, Ask HN posts receive morre number of comments.**\n",
    "\n",
    "As 'Ask HN' demand more user involvement by directly targeting the reader of the posts. It also shows that the readers of such posts are  more involved in direct interaction.Since ask posts are more likely to receive comments, we'll focus our remaining analysis just on these posts."
   ]
  },
  {
   "cell_type": "markdown",
   "metadata": {},
   "source": [
    "## Are posts 'time-dependant' :\n",
    "**i.e posts created at a certain time are more likely to attract comments.**"
   ]
  },
  {
   "cell_type": "markdown",
   "metadata": {},
   "source": [
    "For our analysis we need to :\n",
    "- Calculate the amount of ask posts created in each hour of the day, along with the number of comments received.\n",
    "- Calculate the average number of comments ask posts receive by hour created."
   ]
  },
  {
   "cell_type": "code",
   "execution_count": 48,
   "metadata": {},
   "outputs": [],
   "source": [
    "## importing the required library:\n",
    "import datetime as dt"
   ]
  },
  {
   "cell_type": "code",
   "execution_count": 52,
   "metadata": {},
   "outputs": [
    {
     "name": "stdout",
     "output_type": "stream",
     "text": [
      "[['8/16/2016 9:55', 6], ['11/22/2015 13:43', 29], ['5/2/2016 10:14', 1], ['8/2/2016 14:20', 3], ['10/15/2015 16:38', 17]]\n"
     ]
    }
   ],
   "source": [
    "# posting time of each post :\n",
    "result_list = []\n",
    "\n",
    "for row in ask_posts:\n",
    "    created = row[6]\n",
    "    num_cm = int(row[4])\n",
    "    \n",
    "    result_list.append([created,num_cm])\n",
    "    \n",
    "print(result_list[:5])\n",
    "    "
   ]
  },
  {
   "cell_type": "markdown",
   "metadata": {},
   "source": [
    "Using two dictionaries we will  calculate the average number of comments for posts created during each hour of the day.\n",
    "- *counts_by_hour* : contains the number of ask posts created during each hour of the day.\n",
    "- *comments_by_hour* : contains the corresponding number of comments ask posts created at each hour received."
   ]
  },
  {
   "cell_type": "code",
   "execution_count": 58,
   "metadata": {},
   "outputs": [],
   "source": [
    "counts_by_hour = {}\n",
    "comments_by_hour = {}\n",
    "\n",
    "for row in result_list:\n",
    "    dt_str = dt.datetime.strptime(row[0], \"%m/%d/%Y %H:%M\")\n",
    "    day_time = dt_str.strftime(\"%H\")\n",
    "    \n",
    "    if day_time not in counts_by_hour:\n",
    "        counts_by_hour[day_time] = 1\n",
    "        comments_by_hour[day_time] = row[1]\n",
    "        \n",
    "    elif day_time in counts_by_hour:\n",
    "        counts_by_hour[day_time] += 1\n",
    "        comments_by_hour[day_time] += int(row[1])\n"
   ]
  },
  {
   "cell_type": "code",
   "execution_count": 60,
   "metadata": {},
   "outputs": [
    {
     "name": "stdout",
     "output_type": "stream",
     "text": [
      "{'09': 45, '13': 85, '10': 59, '14': 107, '16': 108, '23': 68, '12': 73, '17': 100, '15': 116, '21': 109, '20': 80, '02': 58, '18': 109, '03': 54, '05': 46, '19': 110, '01': 60, '22': 71, '08': 48, '04': 47, '00': 55, '06': 44, '07': 34, '11': 58}\n",
      "\n",
      "\n",
      "{'09': 251, '13': 1253, '10': 793, '14': 1416, '16': 1814, '23': 543, '12': 687, '17': 1146, '15': 4477, '21': 1745, '20': 1722, '02': 1381, '18': 1439, '03': 421, '05': 464, '19': 1188, '01': 683, '22': 479, '08': 492, '04': 337, '00': 447, '06': 397, '07': 267, '11': 641}\n"
     ]
    }
   ],
   "source": [
    "print (counts_by_hour)\n",
    "print('\\n')\n",
    "print (comments_by_hour)"
   ]
  },
  {
   "cell_type": "code",
   "execution_count": 73,
   "metadata": {},
   "outputs": [
    {
     "name": "stdout",
     "output_type": "stream",
     "text": [
      "[['09', 5.58], ['13', 14.74], ['10', 13.44], ['14', 13.23], ['16', 16.8]]\n"
     ]
    }
   ],
   "source": [
    "# To calculate the average number of comments for posts created during each hour of the day:\n",
    "avg_by_hour = []\n",
    "\n",
    "for hour in counts_by_hour and comments_by_hour:\n",
    "    avg_by_hour.append([hour, round((comments_by_hour[hour] / counts_by_hour[hour]),2)])\n",
    "\n",
    "print(avg_by_hour[:5])\n"
   ]
  },
  {
   "cell_type": "markdown",
   "metadata": {},
   "source": [
    "Although we now have the results we need, this format makes it hard to identify the hours with the highest values. Let's finish by sorting the list of lists and printing the five highest values in a format that's easier to read."
   ]
  },
  {
   "cell_type": "code",
   "execution_count": 74,
   "metadata": {},
   "outputs": [
    {
     "name": "stdout",
     "output_type": "stream",
     "text": [
      "[[5.58, '09'], [14.74, '13'], [13.44, '10'], [13.23, '14'], [16.8, '16']]\n"
     ]
    }
   ],
   "source": [
    "swap_avg_by_hr = []\n",
    "\n",
    "for row in avg_by_hour:\n",
    "    swap_avg_by_hr.append([row[1],row[0]])\n",
    "\n",
    "print(swap_avg_by_hr[:5])"
   ]
  },
  {
   "cell_type": "code",
   "execution_count": 75,
   "metadata": {},
   "outputs": [
    {
     "name": "stdout",
     "output_type": "stream",
     "text": [
      "[[38.59, '15'], [23.81, '02'], [21.52, '20'], [16.8, '16'], [16.01, '21']]\n"
     ]
    }
   ],
   "source": [
    "## to sort the swap_avg_by_hr in descending order:\n",
    "sorted_swap = sorted(swap_avg_by_hr , reverse = True)\n",
    "\n",
    "print(sorted_swap[:5])"
   ]
  },
  {
   "cell_type": "code",
   "execution_count": 78,
   "metadata": {},
   "outputs": [
    {
     "name": "stdout",
     "output_type": "stream",
     "text": [
      "Top 5 Hours for Ask Posts Comments : \n",
      "\n",
      "15:00 - 38.59 average comments per post. \n",
      "\n",
      "02:00 - 23.81 average comments per post. \n",
      "\n",
      "20:00 - 21.52 average comments per post. \n",
      "\n",
      "16:00 - 16.8 average comments per post. \n",
      "\n",
      "21:00 - 16.01 average comments per post. \n",
      "\n"
     ]
    }
   ],
   "source": [
    "## final values :\n",
    "\n",
    "print( \"Top 5 Hours for Ask Posts Comments : \\n\")\n",
    "\n",
    "for average, hour in sorted_swap[:5]:\n",
    "    dt_hour = dt.datetime.strptime(str(hour), '%H')\n",
    "    hour = dt_hour.strftime('%H:%M')\n",
    "    print('{} - {} average comments per post. \\n'.format(hour, average))"
   ]
  },
  {
   "cell_type": "markdown",
   "metadata": {},
   "source": [
    "# Conclusion :\n",
    "In the project we analysed the dataset from Hacker Rank News posts to determine the optimal time of posting on the forum durng the day to receive the maximum number of comments from the users.**i.e post at 15:00 to receive an avg of 38 comments on the post.**"
   ]
  },
  {
   "cell_type": "code",
   "execution_count": null,
   "metadata": {},
   "outputs": [],
   "source": []
  }
 ],
 "metadata": {
  "kernelspec": {
   "display_name": "Python 3",
   "language": "python",
   "name": "python3"
  },
  "language_info": {
   "codemirror_mode": {
    "name": "ipython",
    "version": 3
   },
   "file_extension": ".py",
   "mimetype": "text/x-python",
   "name": "python",
   "nbconvert_exporter": "python",
   "pygments_lexer": "ipython3",
   "version": "3.8.2"
  }
 },
 "nbformat": 4,
 "nbformat_minor": 2
}
