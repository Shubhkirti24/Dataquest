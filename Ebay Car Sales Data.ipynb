{
 "cells": [
  {
   "cell_type": "markdown",
   "metadata": {
    "collapsed": true
   },
   "source": [
    "# Exploring Ebay Car Sales Data\n",
    "\n",
    "- This car sales dataset has been extracted from 'eBay Kleinanzeigen', a classifieds section of the German eBay website.\n",
    "- The dataset can be found here: [https://data.world/data-society/used-cars-data](https://data.world/data-society/used-cars-data)"
   ]
  },
  {
   "cell_type": "markdown",
   "metadata": {},
   "source": [
    "**Column attributes : **\n",
    "- *`dateCrawled`* - When this ad was first crawled. All field-values are taken from this date.\n",
    "- *`name`* - Name of the car.\n",
    "- *`seller`* - Whether the seller is private or a dealer.\n",
    "- *`offerType`* - The type of listing\n",
    "- *`price`* - The price on the ad to sell the car.\n",
    "- *`abtest`* - Whether the listing is included in an A/B test.\n",
    "- *`vehicleType`* - The vehicle Type.\n",
    "- *`yearOfRegistration`* - The year in which the car was first\n",
    "registered.\n",
    "- *`gearbox`* - The transmission type.\n",
    "- *`powerPS`* - The power of the car in PS.\n",
    "- *`model`* - The car model name.\n",
    "- *`kilometer`* - How many kilometers the car has driven.\n",
    "- *`monthOfRegistration`* - The month in which the car was first  registered.\n",
    "- *`fuelType`* - What type of fuel the car uses.\n",
    "- *`brand`* - The brand of the car.\n",
    "- *`notRepairedDamage`* - If the car has a damage which is not yet repaired.\n",
    "- *`dateCreated`* - The date on which the eBay listing was created.\n",
    "- *`nrOfPictures`* - The number of pictures in the ad.\n",
    "- *`postalCode`* - The postal code for the location of the vehicle.\n",
    "- *`lastSeenOnline`* - When the crawler saw this ad last online."
   ]
  },
  {
   "cell_type": "markdown",
   "metadata": {},
   "source": [
    "**AIM :** To use pandas library to clean and analyze the dataset."
   ]
  },
  {
   "cell_type": "code",
   "execution_count": 1,
   "metadata": {
    "collapsed": true
   },
   "outputs": [],
   "source": [
    "# importing the required libraries:\n",
    "import numpy as np\n",
    "import pandas as pd"
   ]
  },
  {
   "cell_type": "code",
   "execution_count": 2,
   "metadata": {
    "collapsed": false
   },
   "outputs": [],
   "source": [
    "# reading the file into a dataframe using pandas:\n",
    "autos = pd.read_csv(\"autos.csv\", encoding= 'Latin-1')"
   ]
  },
  {
   "cell_type": "code",
   "execution_count": 3,
   "metadata": {
    "collapsed": false
   },
   "outputs": [
    {
     "data": {
      "text/html": [
       "<div>\n",
       "<style scoped>\n",
       "    .dataframe tbody tr th:only-of-type {\n",
       "        vertical-align: middle;\n",
       "    }\n",
       "\n",
       "    .dataframe tbody tr th {\n",
       "        vertical-align: top;\n",
       "    }\n",
       "\n",
       "    .dataframe thead th {\n",
       "        text-align: right;\n",
       "    }\n",
       "</style>\n",
       "<table border=\"1\" class=\"dataframe\">\n",
       "  <thead>\n",
       "    <tr style=\"text-align: right;\">\n",
       "      <th></th>\n",
       "      <th>dateCrawled</th>\n",
       "      <th>name</th>\n",
       "      <th>seller</th>\n",
       "      <th>offerType</th>\n",
       "      <th>price</th>\n",
       "      <th>abtest</th>\n",
       "      <th>vehicleType</th>\n",
       "      <th>yearOfRegistration</th>\n",
       "      <th>gearbox</th>\n",
       "      <th>powerPS</th>\n",
       "      <th>model</th>\n",
       "      <th>odometer</th>\n",
       "      <th>monthOfRegistration</th>\n",
       "      <th>fuelType</th>\n",
       "      <th>brand</th>\n",
       "      <th>notRepairedDamage</th>\n",
       "      <th>dateCreated</th>\n",
       "      <th>nrOfPictures</th>\n",
       "      <th>postalCode</th>\n",
       "      <th>lastSeen</th>\n",
       "    </tr>\n",
       "  </thead>\n",
       "  <tbody>\n",
       "    <tr>\n",
       "      <th>0</th>\n",
       "      <td>2016-03-26 17:47:46</td>\n",
       "      <td>Peugeot_807_160_NAVTECH_ON_BOARD</td>\n",
       "      <td>privat</td>\n",
       "      <td>Angebot</td>\n",
       "      <td>$5,000</td>\n",
       "      <td>control</td>\n",
       "      <td>bus</td>\n",
       "      <td>2004</td>\n",
       "      <td>manuell</td>\n",
       "      <td>158</td>\n",
       "      <td>andere</td>\n",
       "      <td>150,000km</td>\n",
       "      <td>3</td>\n",
       "      <td>lpg</td>\n",
       "      <td>peugeot</td>\n",
       "      <td>nein</td>\n",
       "      <td>2016-03-26 00:00:00</td>\n",
       "      <td>0</td>\n",
       "      <td>79588</td>\n",
       "      <td>2016-04-06 06:45:54</td>\n",
       "    </tr>\n",
       "    <tr>\n",
       "      <th>1</th>\n",
       "      <td>2016-04-04 13:38:56</td>\n",
       "      <td>BMW_740i_4_4_Liter_HAMANN_UMBAU_Mega_Optik</td>\n",
       "      <td>privat</td>\n",
       "      <td>Angebot</td>\n",
       "      <td>$8,500</td>\n",
       "      <td>control</td>\n",
       "      <td>limousine</td>\n",
       "      <td>1997</td>\n",
       "      <td>automatik</td>\n",
       "      <td>286</td>\n",
       "      <td>7er</td>\n",
       "      <td>150,000km</td>\n",
       "      <td>6</td>\n",
       "      <td>benzin</td>\n",
       "      <td>bmw</td>\n",
       "      <td>nein</td>\n",
       "      <td>2016-04-04 00:00:00</td>\n",
       "      <td>0</td>\n",
       "      <td>71034</td>\n",
       "      <td>2016-04-06 14:45:08</td>\n",
       "    </tr>\n",
       "    <tr>\n",
       "      <th>2</th>\n",
       "      <td>2016-03-26 18:57:24</td>\n",
       "      <td>Volkswagen_Golf_1.6_United</td>\n",
       "      <td>privat</td>\n",
       "      <td>Angebot</td>\n",
       "      <td>$8,990</td>\n",
       "      <td>test</td>\n",
       "      <td>limousine</td>\n",
       "      <td>2009</td>\n",
       "      <td>manuell</td>\n",
       "      <td>102</td>\n",
       "      <td>golf</td>\n",
       "      <td>70,000km</td>\n",
       "      <td>7</td>\n",
       "      <td>benzin</td>\n",
       "      <td>volkswagen</td>\n",
       "      <td>nein</td>\n",
       "      <td>2016-03-26 00:00:00</td>\n",
       "      <td>0</td>\n",
       "      <td>35394</td>\n",
       "      <td>2016-04-06 20:15:37</td>\n",
       "    </tr>\n",
       "    <tr>\n",
       "      <th>3</th>\n",
       "      <td>2016-03-12 16:58:10</td>\n",
       "      <td>Smart_smart_fortwo_coupe_softouch/F1/Klima/Pan...</td>\n",
       "      <td>privat</td>\n",
       "      <td>Angebot</td>\n",
       "      <td>$4,350</td>\n",
       "      <td>control</td>\n",
       "      <td>kleinwagen</td>\n",
       "      <td>2007</td>\n",
       "      <td>automatik</td>\n",
       "      <td>71</td>\n",
       "      <td>fortwo</td>\n",
       "      <td>70,000km</td>\n",
       "      <td>6</td>\n",
       "      <td>benzin</td>\n",
       "      <td>smart</td>\n",
       "      <td>nein</td>\n",
       "      <td>2016-03-12 00:00:00</td>\n",
       "      <td>0</td>\n",
       "      <td>33729</td>\n",
       "      <td>2016-03-15 03:16:28</td>\n",
       "    </tr>\n",
       "    <tr>\n",
       "      <th>4</th>\n",
       "      <td>2016-04-01 14:38:50</td>\n",
       "      <td>Ford_Focus_1_6_Benzin_TÜV_neu_ist_sehr_gepfleg...</td>\n",
       "      <td>privat</td>\n",
       "      <td>Angebot</td>\n",
       "      <td>$1,350</td>\n",
       "      <td>test</td>\n",
       "      <td>kombi</td>\n",
       "      <td>2003</td>\n",
       "      <td>manuell</td>\n",
       "      <td>0</td>\n",
       "      <td>focus</td>\n",
       "      <td>150,000km</td>\n",
       "      <td>7</td>\n",
       "      <td>benzin</td>\n",
       "      <td>ford</td>\n",
       "      <td>nein</td>\n",
       "      <td>2016-04-01 00:00:00</td>\n",
       "      <td>0</td>\n",
       "      <td>39218</td>\n",
       "      <td>2016-04-01 14:38:50</td>\n",
       "    </tr>\n",
       "  </tbody>\n",
       "</table>\n",
       "</div>"
      ],
      "text/plain": [
       "           dateCrawled                                               name  \\\n",
       "0  2016-03-26 17:47:46                   Peugeot_807_160_NAVTECH_ON_BOARD   \n",
       "1  2016-04-04 13:38:56         BMW_740i_4_4_Liter_HAMANN_UMBAU_Mega_Optik   \n",
       "2  2016-03-26 18:57:24                         Volkswagen_Golf_1.6_United   \n",
       "3  2016-03-12 16:58:10  Smart_smart_fortwo_coupe_softouch/F1/Klima/Pan...   \n",
       "4  2016-04-01 14:38:50  Ford_Focus_1_6_Benzin_TÜV_neu_ist_sehr_gepfleg...   \n",
       "\n",
       "   seller offerType   price   abtest vehicleType  yearOfRegistration  \\\n",
       "0  privat   Angebot  $5,000  control         bus                2004   \n",
       "1  privat   Angebot  $8,500  control   limousine                1997   \n",
       "2  privat   Angebot  $8,990     test   limousine                2009   \n",
       "3  privat   Angebot  $4,350  control  kleinwagen                2007   \n",
       "4  privat   Angebot  $1,350     test       kombi                2003   \n",
       "\n",
       "     gearbox  powerPS   model   odometer  monthOfRegistration fuelType  \\\n",
       "0    manuell      158  andere  150,000km                    3      lpg   \n",
       "1  automatik      286     7er  150,000km                    6   benzin   \n",
       "2    manuell      102    golf   70,000km                    7   benzin   \n",
       "3  automatik       71  fortwo   70,000km                    6   benzin   \n",
       "4    manuell        0   focus  150,000km                    7   benzin   \n",
       "\n",
       "        brand notRepairedDamage          dateCreated  nrOfPictures  \\\n",
       "0     peugeot              nein  2016-03-26 00:00:00             0   \n",
       "1         bmw              nein  2016-04-04 00:00:00             0   \n",
       "2  volkswagen              nein  2016-03-26 00:00:00             0   \n",
       "3       smart              nein  2016-03-12 00:00:00             0   \n",
       "4        ford              nein  2016-04-01 00:00:00             0   \n",
       "\n",
       "   postalCode             lastSeen  \n",
       "0       79588  2016-04-06 06:45:54  \n",
       "1       71034  2016-04-06 14:45:08  \n",
       "2       35394  2016-04-06 20:15:37  \n",
       "3       33729  2016-03-15 03:16:28  \n",
       "4       39218  2016-04-01 14:38:50  "
      ]
     },
     "execution_count": 3,
     "metadata": {},
     "output_type": "execute_result"
    }
   ],
   "source": [
    "# peeking at the data:\n",
    "autos.head()"
   ]
  },
  {
   "cell_type": "code",
   "execution_count": 4,
   "metadata": {
    "collapsed": false,
    "scrolled": true
   },
   "outputs": [
    {
     "name": "stdout",
     "output_type": "stream",
     "text": [
      "<class 'pandas.core.frame.DataFrame'>\n",
      "RangeIndex: 50000 entries, 0 to 49999\n",
      "Data columns (total 20 columns):\n",
      "dateCrawled            50000 non-null object\n",
      "name                   50000 non-null object\n",
      "seller                 50000 non-null object\n",
      "offerType              50000 non-null object\n",
      "price                  50000 non-null object\n",
      "abtest                 50000 non-null object\n",
      "vehicleType            44905 non-null object\n",
      "yearOfRegistration     50000 non-null int64\n",
      "gearbox                47320 non-null object\n",
      "powerPS                50000 non-null int64\n",
      "model                  47242 non-null object\n",
      "odometer               50000 non-null object\n",
      "monthOfRegistration    50000 non-null int64\n",
      "fuelType               45518 non-null object\n",
      "brand                  50000 non-null object\n",
      "notRepairedDamage      40171 non-null object\n",
      "dateCreated            50000 non-null object\n",
      "nrOfPictures           50000 non-null int64\n",
      "postalCode             50000 non-null int64\n",
      "lastSeen               50000 non-null object\n",
      "dtypes: int64(5), object(15)\n",
      "memory usage: 7.6+ MB\n"
     ]
    }
   ],
   "source": [
    "# preliminary analysis using pandas:\n",
    "autos.info()"
   ]
  },
  {
   "cell_type": "code",
   "execution_count": 5,
   "metadata": {
    "collapsed": false
   },
   "outputs": [
    {
     "data": {
      "text/html": [
       "<div>\n",
       "<style scoped>\n",
       "    .dataframe tbody tr th:only-of-type {\n",
       "        vertical-align: middle;\n",
       "    }\n",
       "\n",
       "    .dataframe tbody tr th {\n",
       "        vertical-align: top;\n",
       "    }\n",
       "\n",
       "    .dataframe thead th {\n",
       "        text-align: right;\n",
       "    }\n",
       "</style>\n",
       "<table border=\"1\" class=\"dataframe\">\n",
       "  <thead>\n",
       "    <tr style=\"text-align: right;\">\n",
       "      <th></th>\n",
       "      <th>dateCrawled</th>\n",
       "      <th>name</th>\n",
       "      <th>seller</th>\n",
       "      <th>offerType</th>\n",
       "      <th>price</th>\n",
       "      <th>abtest</th>\n",
       "      <th>vehicleType</th>\n",
       "      <th>yearOfRegistration</th>\n",
       "      <th>gearbox</th>\n",
       "      <th>powerPS</th>\n",
       "      <th>model</th>\n",
       "      <th>odometer</th>\n",
       "      <th>monthOfRegistration</th>\n",
       "      <th>fuelType</th>\n",
       "      <th>brand</th>\n",
       "      <th>notRepairedDamage</th>\n",
       "      <th>dateCreated</th>\n",
       "      <th>nrOfPictures</th>\n",
       "      <th>postalCode</th>\n",
       "      <th>lastSeen</th>\n",
       "    </tr>\n",
       "  </thead>\n",
       "  <tbody>\n",
       "    <tr>\n",
       "      <th>0</th>\n",
       "      <td>2016-03-26 17:47:46</td>\n",
       "      <td>Peugeot_807_160_NAVTECH_ON_BOARD</td>\n",
       "      <td>privat</td>\n",
       "      <td>Angebot</td>\n",
       "      <td>$5,000</td>\n",
       "      <td>control</td>\n",
       "      <td>bus</td>\n",
       "      <td>2004</td>\n",
       "      <td>manuell</td>\n",
       "      <td>158</td>\n",
       "      <td>andere</td>\n",
       "      <td>150,000km</td>\n",
       "      <td>3</td>\n",
       "      <td>lpg</td>\n",
       "      <td>peugeot</td>\n",
       "      <td>nein</td>\n",
       "      <td>2016-03-26 00:00:00</td>\n",
       "      <td>0</td>\n",
       "      <td>79588</td>\n",
       "      <td>2016-04-06 06:45:54</td>\n",
       "    </tr>\n",
       "    <tr>\n",
       "      <th>1</th>\n",
       "      <td>2016-04-04 13:38:56</td>\n",
       "      <td>BMW_740i_4_4_Liter_HAMANN_UMBAU_Mega_Optik</td>\n",
       "      <td>privat</td>\n",
       "      <td>Angebot</td>\n",
       "      <td>$8,500</td>\n",
       "      <td>control</td>\n",
       "      <td>limousine</td>\n",
       "      <td>1997</td>\n",
       "      <td>automatik</td>\n",
       "      <td>286</td>\n",
       "      <td>7er</td>\n",
       "      <td>150,000km</td>\n",
       "      <td>6</td>\n",
       "      <td>benzin</td>\n",
       "      <td>bmw</td>\n",
       "      <td>nein</td>\n",
       "      <td>2016-04-04 00:00:00</td>\n",
       "      <td>0</td>\n",
       "      <td>71034</td>\n",
       "      <td>2016-04-06 14:45:08</td>\n",
       "    </tr>\n",
       "    <tr>\n",
       "      <th>2</th>\n",
       "      <td>2016-03-26 18:57:24</td>\n",
       "      <td>Volkswagen_Golf_1.6_United</td>\n",
       "      <td>privat</td>\n",
       "      <td>Angebot</td>\n",
       "      <td>$8,990</td>\n",
       "      <td>test</td>\n",
       "      <td>limousine</td>\n",
       "      <td>2009</td>\n",
       "      <td>manuell</td>\n",
       "      <td>102</td>\n",
       "      <td>golf</td>\n",
       "      <td>70,000km</td>\n",
       "      <td>7</td>\n",
       "      <td>benzin</td>\n",
       "      <td>volkswagen</td>\n",
       "      <td>nein</td>\n",
       "      <td>2016-03-26 00:00:00</td>\n",
       "      <td>0</td>\n",
       "      <td>35394</td>\n",
       "      <td>2016-04-06 20:15:37</td>\n",
       "    </tr>\n",
       "    <tr>\n",
       "      <th>3</th>\n",
       "      <td>2016-03-12 16:58:10</td>\n",
       "      <td>Smart_smart_fortwo_coupe_softouch/F1/Klima/Pan...</td>\n",
       "      <td>privat</td>\n",
       "      <td>Angebot</td>\n",
       "      <td>$4,350</td>\n",
       "      <td>control</td>\n",
       "      <td>kleinwagen</td>\n",
       "      <td>2007</td>\n",
       "      <td>automatik</td>\n",
       "      <td>71</td>\n",
       "      <td>fortwo</td>\n",
       "      <td>70,000km</td>\n",
       "      <td>6</td>\n",
       "      <td>benzin</td>\n",
       "      <td>smart</td>\n",
       "      <td>nein</td>\n",
       "      <td>2016-03-12 00:00:00</td>\n",
       "      <td>0</td>\n",
       "      <td>33729</td>\n",
       "      <td>2016-03-15 03:16:28</td>\n",
       "    </tr>\n",
       "    <tr>\n",
       "      <th>4</th>\n",
       "      <td>2016-04-01 14:38:50</td>\n",
       "      <td>Ford_Focus_1_6_Benzin_TÜV_neu_ist_sehr_gepfleg...</td>\n",
       "      <td>privat</td>\n",
       "      <td>Angebot</td>\n",
       "      <td>$1,350</td>\n",
       "      <td>test</td>\n",
       "      <td>kombi</td>\n",
       "      <td>2003</td>\n",
       "      <td>manuell</td>\n",
       "      <td>0</td>\n",
       "      <td>focus</td>\n",
       "      <td>150,000km</td>\n",
       "      <td>7</td>\n",
       "      <td>benzin</td>\n",
       "      <td>ford</td>\n",
       "      <td>nein</td>\n",
       "      <td>2016-04-01 00:00:00</td>\n",
       "      <td>0</td>\n",
       "      <td>39218</td>\n",
       "      <td>2016-04-01 14:38:50</td>\n",
       "    </tr>\n",
       "  </tbody>\n",
       "</table>\n",
       "</div>"
      ],
      "text/plain": [
       "           dateCrawled                                               name  \\\n",
       "0  2016-03-26 17:47:46                   Peugeot_807_160_NAVTECH_ON_BOARD   \n",
       "1  2016-04-04 13:38:56         BMW_740i_4_4_Liter_HAMANN_UMBAU_Mega_Optik   \n",
       "2  2016-03-26 18:57:24                         Volkswagen_Golf_1.6_United   \n",
       "3  2016-03-12 16:58:10  Smart_smart_fortwo_coupe_softouch/F1/Klima/Pan...   \n",
       "4  2016-04-01 14:38:50  Ford_Focus_1_6_Benzin_TÜV_neu_ist_sehr_gepfleg...   \n",
       "\n",
       "   seller offerType   price   abtest vehicleType  yearOfRegistration  \\\n",
       "0  privat   Angebot  $5,000  control         bus                2004   \n",
       "1  privat   Angebot  $8,500  control   limousine                1997   \n",
       "2  privat   Angebot  $8,990     test   limousine                2009   \n",
       "3  privat   Angebot  $4,350  control  kleinwagen                2007   \n",
       "4  privat   Angebot  $1,350     test       kombi                2003   \n",
       "\n",
       "     gearbox  powerPS   model   odometer  monthOfRegistration fuelType  \\\n",
       "0    manuell      158  andere  150,000km                    3      lpg   \n",
       "1  automatik      286     7er  150,000km                    6   benzin   \n",
       "2    manuell      102    golf   70,000km                    7   benzin   \n",
       "3  automatik       71  fortwo   70,000km                    6   benzin   \n",
       "4    manuell        0   focus  150,000km                    7   benzin   \n",
       "\n",
       "        brand notRepairedDamage          dateCreated  nrOfPictures  \\\n",
       "0     peugeot              nein  2016-03-26 00:00:00             0   \n",
       "1         bmw              nein  2016-04-04 00:00:00             0   \n",
       "2  volkswagen              nein  2016-03-26 00:00:00             0   \n",
       "3       smart              nein  2016-03-12 00:00:00             0   \n",
       "4        ford              nein  2016-04-01 00:00:00             0   \n",
       "\n",
       "   postalCode             lastSeen  \n",
       "0       79588  2016-04-06 06:45:54  \n",
       "1       71034  2016-04-06 14:45:08  \n",
       "2       35394  2016-04-06 20:15:37  \n",
       "3       33729  2016-03-15 03:16:28  \n",
       "4       39218  2016-04-01 14:38:50  "
      ]
     },
     "execution_count": 5,
     "metadata": {},
     "output_type": "execute_result"
    }
   ],
   "source": [
    "autos.head()"
   ]
  },
  {
   "cell_type": "markdown",
   "metadata": {
    "collapsed": true
   },
   "source": [
    "**The column names use 'camelcase' instead of 'snakecase'. As snakecase is easier to understand and work with, let's convert the attribute names into snakecase.**"
   ]
  },
  {
   "cell_type": "code",
   "execution_count": 6,
   "metadata": {
    "collapsed": false
   },
   "outputs": [
    {
     "data": {
      "text/plain": [
       "Index(['dateCrawled', 'name', 'seller', 'offerType', 'price', 'abtest',\n",
       "       'vehicleType', 'yearOfRegistration', 'gearbox', 'powerPS', 'model',\n",
       "       'odometer', 'monthOfRegistration', 'fuelType', 'brand',\n",
       "       'notRepairedDamage', 'dateCreated', 'nrOfPictures', 'postalCode',\n",
       "       'lastSeen'],\n",
       "      dtype='object')"
      ]
     },
     "execution_count": 6,
     "metadata": {},
     "output_type": "execute_result"
    }
   ],
   "source": [
    "# analysing the columns:\n",
    "autos.columns"
   ]
  },
  {
   "cell_type": "code",
   "execution_count": 7,
   "metadata": {
    "collapsed": false
   },
   "outputs": [
    {
     "name": "stdout",
     "output_type": "stream",
     "text": [
      "fuel_type\n"
     ]
    }
   ],
   "source": [
    "# defining a function to change the column-names:\n",
    "\n",
    "def col_clean(col):\n",
    "    col = col.replace(\"yearOfRegistration\",\"registration_year\")\n",
    "    col = col.replace(\"monthOfRegistration\",\"registration_month\")\n",
    "    col = col.replace(\"notRepairedDamage\",\"unrepaired_damage\")\n",
    "    col = col.replace(\"dateCreated\",\"ad_created\")\n",
    "    \n",
    "    name = [col[0].lower()]\n",
    "    \n",
    "    for c in col[1:]:\n",
    "        if c in ('ABCDEFGHIJKLMNOPQRSTUVWXYZ'):\n",
    "            name.append(\"_\")\n",
    "            name.append(c.lower())\n",
    "        else:\n",
    "            name.append(c)\n",
    "            \n",
    "    return ''.join(name)\n",
    "\n",
    "## checking the function:\n",
    "\n",
    "print(col_clean('fuelType'))\n",
    "    \n",
    "    "
   ]
  },
  {
   "cell_type": "code",
   "execution_count": 8,
   "metadata": {
    "collapsed": false
   },
   "outputs": [
    {
     "name": "stdout",
     "output_type": "stream",
     "text": [
      "['date_crawled', 'name', 'seller', 'offer_type', 'price', 'abtest', 'vehicle_type', 'registration_year', 'gearbox', 'power_p_s', 'model', 'odometer', 'registration_month', 'fuel_type', 'brand', 'unrepaired_damage', 'ad_created', 'nr_of_pictures', 'postal_code', 'last_seen']\n"
     ]
    }
   ],
   "source": [
    "# changing the col names using our function:\n",
    "\n",
    "new_cols = []\n",
    "\n",
    "for c in autos.columns:\n",
    "    new_cols.append(col_clean(c))\n",
    "    \n",
    "# checking the new column names:\n",
    "print(new_cols)"
   ]
  },
  {
   "cell_type": "code",
   "execution_count": 9,
   "metadata": {
    "collapsed": false
   },
   "outputs": [
    {
     "name": "stdout",
     "output_type": "stream",
     "text": [
      "<class 'pandas.core.frame.DataFrame'>\n",
      "RangeIndex: 50000 entries, 0 to 49999\n",
      "Data columns (total 20 columns):\n",
      "date_crawled          50000 non-null object\n",
      "name                  50000 non-null object\n",
      "seller                50000 non-null object\n",
      "offer_type            50000 non-null object\n",
      "price                 50000 non-null object\n",
      "abtest                50000 non-null object\n",
      "vehicle_type          44905 non-null object\n",
      "registration_year     50000 non-null int64\n",
      "gearbox               47320 non-null object\n",
      "power_p_s             50000 non-null int64\n",
      "model                 47242 non-null object\n",
      "odometer              50000 non-null object\n",
      "registration_month    50000 non-null int64\n",
      "fuel_type             45518 non-null object\n",
      "brand                 50000 non-null object\n",
      "unrepaired_damage     40171 non-null object\n",
      "ad_created            50000 non-null object\n",
      "nr_of_pictures        50000 non-null int64\n",
      "postal_code           50000 non-null int64\n",
      "last_seen             50000 non-null object\n",
      "dtypes: int64(5), object(15)\n",
      "memory usage: 7.6+ MB\n"
     ]
    }
   ],
   "source": [
    "# reassigning the new col back to our dataset:\n",
    "autos.columns = new_cols\n",
    "\n",
    "autos.info()"
   ]
  },
  {
   "cell_type": "markdown",
   "metadata": {},
   "source": [
    "** Basic data exploration :**"
   ]
  },
  {
   "cell_type": "markdown",
   "metadata": {},
   "source": [
    "Now let's do some basic data exploration to determine what other cleaning tasks need to be done. Initially we will look for:\n",
    "\n",
    "- Text columns where all or almost all values are the same. These can often be dropped as they don't have useful information for analysis.\n",
    "- Examples of numeric data stored as text which can be cleaned and converted."
   ]
  },
  {
   "cell_type": "code",
   "execution_count": 10,
   "metadata": {
    "collapsed": false
   },
   "outputs": [
    {
     "data": {
      "text/html": [
       "<div>\n",
       "<style scoped>\n",
       "    .dataframe tbody tr th:only-of-type {\n",
       "        vertical-align: middle;\n",
       "    }\n",
       "\n",
       "    .dataframe tbody tr th {\n",
       "        vertical-align: top;\n",
       "    }\n",
       "\n",
       "    .dataframe thead th {\n",
       "        text-align: right;\n",
       "    }\n",
       "</style>\n",
       "<table border=\"1\" class=\"dataframe\">\n",
       "  <thead>\n",
       "    <tr style=\"text-align: right;\">\n",
       "      <th></th>\n",
       "      <th>date_crawled</th>\n",
       "      <th>name</th>\n",
       "      <th>seller</th>\n",
       "      <th>offer_type</th>\n",
       "      <th>price</th>\n",
       "      <th>abtest</th>\n",
       "      <th>vehicle_type</th>\n",
       "      <th>registration_year</th>\n",
       "      <th>gearbox</th>\n",
       "      <th>power_p_s</th>\n",
       "      <th>model</th>\n",
       "      <th>odometer</th>\n",
       "      <th>registration_month</th>\n",
       "      <th>fuel_type</th>\n",
       "      <th>brand</th>\n",
       "      <th>unrepaired_damage</th>\n",
       "      <th>ad_created</th>\n",
       "      <th>nr_of_pictures</th>\n",
       "      <th>postal_code</th>\n",
       "      <th>last_seen</th>\n",
       "    </tr>\n",
       "  </thead>\n",
       "  <tbody>\n",
       "    <tr>\n",
       "      <th>count</th>\n",
       "      <td>50000</td>\n",
       "      <td>50000</td>\n",
       "      <td>50000</td>\n",
       "      <td>50000</td>\n",
       "      <td>50000</td>\n",
       "      <td>50000</td>\n",
       "      <td>44905</td>\n",
       "      <td>50000.000000</td>\n",
       "      <td>47320</td>\n",
       "      <td>50000.000000</td>\n",
       "      <td>47242</td>\n",
       "      <td>50000</td>\n",
       "      <td>50000.000000</td>\n",
       "      <td>45518</td>\n",
       "      <td>50000</td>\n",
       "      <td>40171</td>\n",
       "      <td>50000</td>\n",
       "      <td>50000.0</td>\n",
       "      <td>50000.000000</td>\n",
       "      <td>50000</td>\n",
       "    </tr>\n",
       "    <tr>\n",
       "      <th>unique</th>\n",
       "      <td>48213</td>\n",
       "      <td>38754</td>\n",
       "      <td>2</td>\n",
       "      <td>2</td>\n",
       "      <td>2357</td>\n",
       "      <td>2</td>\n",
       "      <td>8</td>\n",
       "      <td>NaN</td>\n",
       "      <td>2</td>\n",
       "      <td>NaN</td>\n",
       "      <td>245</td>\n",
       "      <td>13</td>\n",
       "      <td>NaN</td>\n",
       "      <td>7</td>\n",
       "      <td>40</td>\n",
       "      <td>2</td>\n",
       "      <td>76</td>\n",
       "      <td>NaN</td>\n",
       "      <td>NaN</td>\n",
       "      <td>39481</td>\n",
       "    </tr>\n",
       "    <tr>\n",
       "      <th>top</th>\n",
       "      <td>2016-03-23 19:38:20</td>\n",
       "      <td>Ford_Fiesta</td>\n",
       "      <td>privat</td>\n",
       "      <td>Angebot</td>\n",
       "      <td>$0</td>\n",
       "      <td>test</td>\n",
       "      <td>limousine</td>\n",
       "      <td>NaN</td>\n",
       "      <td>manuell</td>\n",
       "      <td>NaN</td>\n",
       "      <td>golf</td>\n",
       "      <td>150,000km</td>\n",
       "      <td>NaN</td>\n",
       "      <td>benzin</td>\n",
       "      <td>volkswagen</td>\n",
       "      <td>nein</td>\n",
       "      <td>2016-04-03 00:00:00</td>\n",
       "      <td>NaN</td>\n",
       "      <td>NaN</td>\n",
       "      <td>2016-04-07 06:17:27</td>\n",
       "    </tr>\n",
       "    <tr>\n",
       "      <th>freq</th>\n",
       "      <td>3</td>\n",
       "      <td>78</td>\n",
       "      <td>49999</td>\n",
       "      <td>49999</td>\n",
       "      <td>1421</td>\n",
       "      <td>25756</td>\n",
       "      <td>12859</td>\n",
       "      <td>NaN</td>\n",
       "      <td>36993</td>\n",
       "      <td>NaN</td>\n",
       "      <td>4024</td>\n",
       "      <td>32424</td>\n",
       "      <td>NaN</td>\n",
       "      <td>30107</td>\n",
       "      <td>10687</td>\n",
       "      <td>35232</td>\n",
       "      <td>1946</td>\n",
       "      <td>NaN</td>\n",
       "      <td>NaN</td>\n",
       "      <td>8</td>\n",
       "    </tr>\n",
       "    <tr>\n",
       "      <th>mean</th>\n",
       "      <td>NaN</td>\n",
       "      <td>NaN</td>\n",
       "      <td>NaN</td>\n",
       "      <td>NaN</td>\n",
       "      <td>NaN</td>\n",
       "      <td>NaN</td>\n",
       "      <td>NaN</td>\n",
       "      <td>2005.073280</td>\n",
       "      <td>NaN</td>\n",
       "      <td>116.355920</td>\n",
       "      <td>NaN</td>\n",
       "      <td>NaN</td>\n",
       "      <td>5.723360</td>\n",
       "      <td>NaN</td>\n",
       "      <td>NaN</td>\n",
       "      <td>NaN</td>\n",
       "      <td>NaN</td>\n",
       "      <td>0.0</td>\n",
       "      <td>50813.627300</td>\n",
       "      <td>NaN</td>\n",
       "    </tr>\n",
       "    <tr>\n",
       "      <th>std</th>\n",
       "      <td>NaN</td>\n",
       "      <td>NaN</td>\n",
       "      <td>NaN</td>\n",
       "      <td>NaN</td>\n",
       "      <td>NaN</td>\n",
       "      <td>NaN</td>\n",
       "      <td>NaN</td>\n",
       "      <td>105.712813</td>\n",
       "      <td>NaN</td>\n",
       "      <td>209.216627</td>\n",
       "      <td>NaN</td>\n",
       "      <td>NaN</td>\n",
       "      <td>3.711984</td>\n",
       "      <td>NaN</td>\n",
       "      <td>NaN</td>\n",
       "      <td>NaN</td>\n",
       "      <td>NaN</td>\n",
       "      <td>0.0</td>\n",
       "      <td>25779.747957</td>\n",
       "      <td>NaN</td>\n",
       "    </tr>\n",
       "    <tr>\n",
       "      <th>min</th>\n",
       "      <td>NaN</td>\n",
       "      <td>NaN</td>\n",
       "      <td>NaN</td>\n",
       "      <td>NaN</td>\n",
       "      <td>NaN</td>\n",
       "      <td>NaN</td>\n",
       "      <td>NaN</td>\n",
       "      <td>1000.000000</td>\n",
       "      <td>NaN</td>\n",
       "      <td>0.000000</td>\n",
       "      <td>NaN</td>\n",
       "      <td>NaN</td>\n",
       "      <td>0.000000</td>\n",
       "      <td>NaN</td>\n",
       "      <td>NaN</td>\n",
       "      <td>NaN</td>\n",
       "      <td>NaN</td>\n",
       "      <td>0.0</td>\n",
       "      <td>1067.000000</td>\n",
       "      <td>NaN</td>\n",
       "    </tr>\n",
       "    <tr>\n",
       "      <th>25%</th>\n",
       "      <td>NaN</td>\n",
       "      <td>NaN</td>\n",
       "      <td>NaN</td>\n",
       "      <td>NaN</td>\n",
       "      <td>NaN</td>\n",
       "      <td>NaN</td>\n",
       "      <td>NaN</td>\n",
       "      <td>1999.000000</td>\n",
       "      <td>NaN</td>\n",
       "      <td>70.000000</td>\n",
       "      <td>NaN</td>\n",
       "      <td>NaN</td>\n",
       "      <td>3.000000</td>\n",
       "      <td>NaN</td>\n",
       "      <td>NaN</td>\n",
       "      <td>NaN</td>\n",
       "      <td>NaN</td>\n",
       "      <td>0.0</td>\n",
       "      <td>30451.000000</td>\n",
       "      <td>NaN</td>\n",
       "    </tr>\n",
       "    <tr>\n",
       "      <th>50%</th>\n",
       "      <td>NaN</td>\n",
       "      <td>NaN</td>\n",
       "      <td>NaN</td>\n",
       "      <td>NaN</td>\n",
       "      <td>NaN</td>\n",
       "      <td>NaN</td>\n",
       "      <td>NaN</td>\n",
       "      <td>2003.000000</td>\n",
       "      <td>NaN</td>\n",
       "      <td>105.000000</td>\n",
       "      <td>NaN</td>\n",
       "      <td>NaN</td>\n",
       "      <td>6.000000</td>\n",
       "      <td>NaN</td>\n",
       "      <td>NaN</td>\n",
       "      <td>NaN</td>\n",
       "      <td>NaN</td>\n",
       "      <td>0.0</td>\n",
       "      <td>49577.000000</td>\n",
       "      <td>NaN</td>\n",
       "    </tr>\n",
       "    <tr>\n",
       "      <th>75%</th>\n",
       "      <td>NaN</td>\n",
       "      <td>NaN</td>\n",
       "      <td>NaN</td>\n",
       "      <td>NaN</td>\n",
       "      <td>NaN</td>\n",
       "      <td>NaN</td>\n",
       "      <td>NaN</td>\n",
       "      <td>2008.000000</td>\n",
       "      <td>NaN</td>\n",
       "      <td>150.000000</td>\n",
       "      <td>NaN</td>\n",
       "      <td>NaN</td>\n",
       "      <td>9.000000</td>\n",
       "      <td>NaN</td>\n",
       "      <td>NaN</td>\n",
       "      <td>NaN</td>\n",
       "      <td>NaN</td>\n",
       "      <td>0.0</td>\n",
       "      <td>71540.000000</td>\n",
       "      <td>NaN</td>\n",
       "    </tr>\n",
       "    <tr>\n",
       "      <th>max</th>\n",
       "      <td>NaN</td>\n",
       "      <td>NaN</td>\n",
       "      <td>NaN</td>\n",
       "      <td>NaN</td>\n",
       "      <td>NaN</td>\n",
       "      <td>NaN</td>\n",
       "      <td>NaN</td>\n",
       "      <td>9999.000000</td>\n",
       "      <td>NaN</td>\n",
       "      <td>17700.000000</td>\n",
       "      <td>NaN</td>\n",
       "      <td>NaN</td>\n",
       "      <td>12.000000</td>\n",
       "      <td>NaN</td>\n",
       "      <td>NaN</td>\n",
       "      <td>NaN</td>\n",
       "      <td>NaN</td>\n",
       "      <td>0.0</td>\n",
       "      <td>99998.000000</td>\n",
       "      <td>NaN</td>\n",
       "    </tr>\n",
       "  </tbody>\n",
       "</table>\n",
       "</div>"
      ],
      "text/plain": [
       "               date_crawled         name  seller offer_type  price abtest  \\\n",
       "count                 50000        50000   50000      50000  50000  50000   \n",
       "unique                48213        38754       2          2   2357      2   \n",
       "top     2016-03-23 19:38:20  Ford_Fiesta  privat    Angebot     $0   test   \n",
       "freq                      3           78   49999      49999   1421  25756   \n",
       "mean                    NaN          NaN     NaN        NaN    NaN    NaN   \n",
       "std                     NaN          NaN     NaN        NaN    NaN    NaN   \n",
       "min                     NaN          NaN     NaN        NaN    NaN    NaN   \n",
       "25%                     NaN          NaN     NaN        NaN    NaN    NaN   \n",
       "50%                     NaN          NaN     NaN        NaN    NaN    NaN   \n",
       "75%                     NaN          NaN     NaN        NaN    NaN    NaN   \n",
       "max                     NaN          NaN     NaN        NaN    NaN    NaN   \n",
       "\n",
       "       vehicle_type  registration_year  gearbox     power_p_s  model  \\\n",
       "count         44905       50000.000000    47320  50000.000000  47242   \n",
       "unique            8                NaN        2           NaN    245   \n",
       "top       limousine                NaN  manuell           NaN   golf   \n",
       "freq          12859                NaN    36993           NaN   4024   \n",
       "mean            NaN        2005.073280      NaN    116.355920    NaN   \n",
       "std             NaN         105.712813      NaN    209.216627    NaN   \n",
       "min             NaN        1000.000000      NaN      0.000000    NaN   \n",
       "25%             NaN        1999.000000      NaN     70.000000    NaN   \n",
       "50%             NaN        2003.000000      NaN    105.000000    NaN   \n",
       "75%             NaN        2008.000000      NaN    150.000000    NaN   \n",
       "max             NaN        9999.000000      NaN  17700.000000    NaN   \n",
       "\n",
       "         odometer  registration_month fuel_type       brand unrepaired_damage  \\\n",
       "count       50000        50000.000000     45518       50000             40171   \n",
       "unique         13                 NaN         7          40                 2   \n",
       "top     150,000km                 NaN    benzin  volkswagen              nein   \n",
       "freq        32424                 NaN     30107       10687             35232   \n",
       "mean          NaN            5.723360       NaN         NaN               NaN   \n",
       "std           NaN            3.711984       NaN         NaN               NaN   \n",
       "min           NaN            0.000000       NaN         NaN               NaN   \n",
       "25%           NaN            3.000000       NaN         NaN               NaN   \n",
       "50%           NaN            6.000000       NaN         NaN               NaN   \n",
       "75%           NaN            9.000000       NaN         NaN               NaN   \n",
       "max           NaN           12.000000       NaN         NaN               NaN   \n",
       "\n",
       "                 ad_created  nr_of_pictures   postal_code            last_seen  \n",
       "count                 50000         50000.0  50000.000000                50000  \n",
       "unique                   76             NaN           NaN                39481  \n",
       "top     2016-04-03 00:00:00             NaN           NaN  2016-04-07 06:17:27  \n",
       "freq                   1946             NaN           NaN                    8  \n",
       "mean                    NaN             0.0  50813.627300                  NaN  \n",
       "std                     NaN             0.0  25779.747957                  NaN  \n",
       "min                     NaN             0.0   1067.000000                  NaN  \n",
       "25%                     NaN             0.0  30451.000000                  NaN  \n",
       "50%                     NaN             0.0  49577.000000                  NaN  \n",
       "75%                     NaN             0.0  71540.000000                  NaN  \n",
       "max                     NaN             0.0  99998.000000                  NaN  "
      ]
     },
     "execution_count": 10,
     "metadata": {},
     "output_type": "execute_result"
    }
   ],
   "source": [
    "# basic dataset analysis:\n",
    "autos.describe(include='all') # we use  (include = 'all') to get the numerical and non numerical columns"
   ]
  },
  {
   "cell_type": "markdown",
   "metadata": {
    "collapsed": true
   },
   "source": [
    " Let's further analyse the two numerical columns, namely 'price' and odometer readings:"
   ]
  },
  {
   "cell_type": "code",
   "execution_count": 11,
   "metadata": {
    "collapsed": false
   },
   "outputs": [
    {
     "data": {
      "text/plain": [
       "$0          1421\n",
       "$500         781\n",
       "$1,500       734\n",
       "$2,500       643\n",
       "$1,200       639\n",
       "$1,000       639\n",
       "$600         531\n",
       "$3,500       498\n",
       "$800         498\n",
       "$2,000       460\n",
       "$999         434\n",
       "$750         433\n",
       "$900         420\n",
       "$650         419\n",
       "$850         410\n",
       "$700         395\n",
       "$4,500       394\n",
       "$300         384\n",
       "$2,200       382\n",
       "$950         379\n",
       "$1,100       376\n",
       "$1,300       371\n",
       "$3,000       365\n",
       "$550         356\n",
       "$1,800       355\n",
       "$5,500       340\n",
       "$1,250       335\n",
       "$350         335\n",
       "$1,600       327\n",
       "$1,999       322\n",
       "            ... \n",
       "$9,577         1\n",
       "$5,685         1\n",
       "$19,970        1\n",
       "$26,150        1\n",
       "$10,498        1\n",
       "$2,989         1\n",
       "$7,825         1\n",
       "$9,725         1\n",
       "$554           1\n",
       "$8,875         1\n",
       "$20,799        1\n",
       "$11,140        1\n",
       "$295,000       1\n",
       "$185           1\n",
       "$33,777        1\n",
       "$12,395        1\n",
       "$6,155         1\n",
       "$20,985        1\n",
       "$12,898        1\n",
       "$219           1\n",
       "$251           1\n",
       "$410           1\n",
       "$2,004         1\n",
       "$18,890        1\n",
       "$25,850        1\n",
       "$11,360        1\n",
       "$2,986         1\n",
       "$24,444        1\n",
       "$3,620         1\n",
       "$6,202         1\n",
       "Name: price, Length: 2357, dtype: int64"
      ]
     },
     "execution_count": 11,
     "metadata": {},
     "output_type": "execute_result"
    }
   ],
   "source": [
    "## the price column :\n",
    "autos['price'].value_counts()"
   ]
  },
  {
   "cell_type": "code",
   "execution_count": 12,
   "metadata": {
    "collapsed": false
   },
   "outputs": [
    {
     "data": {
      "text/plain": [
       "150,000km    32424\n",
       "125,000km     5170\n",
       "100,000km     2169\n",
       "90,000km      1757\n",
       "80,000km      1436\n",
       "70,000km      1230\n",
       "60,000km      1164\n",
       "50,000km      1027\n",
       "5,000km        967\n",
       "40,000km       819\n",
       "30,000km       789\n",
       "20,000km       784\n",
       "10,000km       264\n",
       "Name: odometer, dtype: int64"
      ]
     },
     "execution_count": 12,
     "metadata": {},
     "output_type": "execute_result"
    }
   ],
   "source": [
    "## the odometer column: \n",
    "autos['odometer'].value_counts()"
   ]
  },
  {
   "cell_type": "code",
   "execution_count": 13,
   "metadata": {
    "collapsed": false
   },
   "outputs": [],
   "source": [
    "## removing the '$' from price values and 'km' from the odometer readings and converting them to numeric columns:\n",
    "autos['price'] = (autos['price']\n",
    "                  .str.replace(\"$\",\"\")\n",
    "                  .str.replace(\",\",\"\")\n",
    "                  .astype(int)\n",
    "                 )\n",
    "autos['odometer'] = (autos['odometer']\n",
    "                     .str.replace(\"km\",\"\")\n",
    "                     .str.replace(\",\",\"\")\n",
    "                     .astype(int)\n",
    "                    )\n",
    "\n",
    "## changing the column name to 'odometer_km':\n",
    "autos.rename(columns={\"odometer\":\"odometer_km\"},inplace = True)"
   ]
  },
  {
   "cell_type": "markdown",
   "metadata": {},
   "source": [
    "Analysing some of the text columns, namely (`seller`, `offer_type` and `nr_of_pictures`):"
   ]
  },
  {
   "cell_type": "code",
   "execution_count": 14,
   "metadata": {
    "collapsed": false
   },
   "outputs": [
    {
     "data": {
      "text/plain": [
       "privat        49999\n",
       "gewerblich        1\n",
       "Name: seller, dtype: int64"
      ]
     },
     "execution_count": 14,
     "metadata": {},
     "output_type": "execute_result"
    }
   ],
   "source": [
    "autos['seller'].value_counts(dropna=False)"
   ]
  },
  {
   "cell_type": "code",
   "execution_count": 15,
   "metadata": {
    "collapsed": false
   },
   "outputs": [
    {
     "data": {
      "text/plain": [
       "Angebot    49999\n",
       "Gesuch         1\n",
       "Name: offer_type, dtype: int64"
      ]
     },
     "execution_count": 15,
     "metadata": {},
     "output_type": "execute_result"
    }
   ],
   "source": [
    "autos['offer_type'].value_counts(dropna=False)"
   ]
  },
  {
   "cell_type": "code",
   "execution_count": 16,
   "metadata": {
    "collapsed": false
   },
   "outputs": [
    {
     "data": {
      "text/plain": [
       "0    50000\n",
       "Name: nr_of_pictures, dtype: int64"
      ]
     },
     "execution_count": 16,
     "metadata": {},
     "output_type": "execute_result"
    }
   ],
   "source": [
    "autos['nr_of_pictures'].value_counts(dropna=False)"
   ]
  },
  {
   "cell_type": "markdown",
   "metadata": {},
   "source": [
    "**We see that the columns above have mostly similar values, therefore we should drop these columns before further analysis:**"
   ]
  },
  {
   "cell_type": "code",
   "execution_count": 17,
   "metadata": {
    "collapsed": false
   },
   "outputs": [],
   "source": [
    "autos = autos.drop(['seller', 'offer_type','nr_of_pictures'], axis=1)"
   ]
  },
  {
   "cell_type": "markdown",
   "metadata": {},
   "source": [
    "## Exploring the `price` and `odometer_km` columns in the dataset to look for outliers:"
   ]
  },
  {
   "cell_type": "code",
   "execution_count": 18,
   "metadata": {
    "collapsed": false
   },
   "outputs": [
    {
     "data": {
      "text/plain": [
       "(2357,)"
      ]
     },
     "execution_count": 18,
     "metadata": {},
     "output_type": "execute_result"
    }
   ],
   "source": [
    "## exploring the price and odometer_km columns to futher look for ouliers in the data entries:\n",
    "autos['price'].unique().shape"
   ]
  },
  {
   "cell_type": "code",
   "execution_count": 19,
   "metadata": {
    "collapsed": false
   },
   "outputs": [
    {
     "data": {
      "text/plain": [
       "count    5.000000e+04\n",
       "mean     9.840044e+03\n",
       "std      4.811044e+05\n",
       "min      0.000000e+00\n",
       "25%      1.100000e+03\n",
       "50%      2.950000e+03\n",
       "75%      7.200000e+03\n",
       "max      1.000000e+08\n",
       "Name: price, dtype: float64"
      ]
     },
     "execution_count": 19,
     "metadata": {},
     "output_type": "execute_result"
    }
   ],
   "source": [
    "autos['price'].describe()"
   ]
  },
  {
   "cell_type": "code",
   "execution_count": 20,
   "metadata": {
    "collapsed": false
   },
   "outputs": [
    {
     "data": {
      "text/plain": [
       "0    1421\n",
       "1     156\n",
       "2       3\n",
       "3       1\n",
       "5       2\n",
       "Name: price, dtype: int64"
      ]
     },
     "execution_count": 20,
     "metadata": {},
     "output_type": "execute_result"
    }
   ],
   "source": [
    "autos['price'].value_counts().sort_index().head(5)"
   ]
  },
  {
   "cell_type": "code",
   "execution_count": 21,
   "metadata": {
    "collapsed": false
   },
   "outputs": [
    {
     "data": {
      "text/plain": [
       "999990      1\n",
       "999999      2\n",
       "1234566     1\n",
       "1300000     1\n",
       "3890000     1\n",
       "10000000    1\n",
       "11111111    2\n",
       "12345678    3\n",
       "27322222    1\n",
       "99999999    1\n",
       "Name: price, dtype: int64"
      ]
     },
     "execution_count": 21,
     "metadata": {},
     "output_type": "execute_result"
    }
   ],
   "source": [
    "autos['price'].value_counts().sort_index().tail(10)"
   ]
  },
  {
   "cell_type": "markdown",
   "metadata": {},
   "source": [
    "We see that some of these vehicles cost much more than the expected value and can be outliers in the data. We should, therefore further explore the column data.\n",
    "- A quick google search shows us that the costliest car (as of 2021) is 70 Million . However, since such cars are rarely sold in the open market, let's keep the range of price between (1-4,500,000)."
   ]
  },
  {
   "cell_type": "code",
   "execution_count": 22,
   "metadata": {
    "collapsed": true
   },
   "outputs": [],
   "source": [
    "## Removing the outliers in the price column of the dataset:\n",
    "autos = autos.loc[autos['price'].between(1,4500000),:]"
   ]
  },
  {
   "cell_type": "markdown",
   "metadata": {},
   "source": [
    "Let's check if the outliers in the 'price' column have been removed:"
   ]
  },
  {
   "cell_type": "code",
   "execution_count": 23,
   "metadata": {
    "collapsed": false
   },
   "outputs": [
    {
     "data": {
      "text/plain": [
       "265000     1\n",
       "295000     1\n",
       "299000     1\n",
       "345000     1\n",
       "350000     1\n",
       "999990     1\n",
       "999999     2\n",
       "1234566    1\n",
       "1300000    1\n",
       "3890000    1\n",
       "Name: price, dtype: int64"
      ]
     },
     "execution_count": 23,
     "metadata": {},
     "output_type": "execute_result"
    }
   ],
   "source": [
    "autos['price'].value_counts().sort_index().tail(10)"
   ]
  },
  {
   "cell_type": "markdown",
   "metadata": {},
   "source": [
    "We see that the maximum price of the vehicle in the dataset has nw been reduced to ~3.8 million, which is more realstic as it caters to the demands of the open market."
   ]
  },
  {
   "cell_type": "code",
   "execution_count": 24,
   "metadata": {
    "collapsed": false
   },
   "outputs": [
    {
     "data": {
      "text/plain": [
       "30000       780\n",
       "40000       815\n",
       "50000      1013\n",
       "60000      1155\n",
       "70000      1217\n",
       "80000      1415\n",
       "90000      1734\n",
       "100000     2115\n",
       "125000     5058\n",
       "150000    31417\n",
       "Name: odometer_km, dtype: int64"
      ]
     },
     "execution_count": 24,
     "metadata": {},
     "output_type": "execute_result"
    }
   ],
   "source": [
    "## exploring the odometer_km column for outliers:\n",
    "autos['odometer_km'].value_counts().sort_index().tail(10)"
   ]
  },
  {
   "cell_type": "markdown",
   "metadata": {},
   "source": [
    "We see that the odometer column has reasonable values."
   ]
  },
  {
   "cell_type": "markdown",
   "metadata": {},
   "source": [
    "## Exploring the columns containing 'date-time' data:"
   ]
  },
  {
   "cell_type": "code",
   "execution_count": 25,
   "metadata": {
    "collapsed": false
   },
   "outputs": [
    {
     "name": "stdout",
     "output_type": "stream",
     "text": [
      "<class 'pandas.core.frame.DataFrame'>\n",
      "Int64Index: 48571 entries, 0 to 49999\n",
      "Data columns (total 5 columns):\n",
      "date_crawled          48571 non-null object\n",
      "last_seen             48571 non-null object\n",
      "ad_created            48571 non-null object\n",
      "registration_month    48571 non-null int64\n",
      "registration_year     48571 non-null int64\n",
      "dtypes: int64(2), object(3)\n",
      "memory usage: 2.2+ MB\n"
     ]
    }
   ],
   "source": [
    "# basc information about the columns:\n",
    "autos[['date_crawled','last_seen', 'ad_created', 'registration_month' , 'registration_year']].info()"
   ]
  },
  {
   "cell_type": "markdown",
   "metadata": {},
   "source": [
    "We see that the 'date_crawled, last_seen, and ad_created columns' are all identified as string values by pandas. Because these three columns are represented as strings, we need to convert the data into a numerical representation so we can understand it quantitatively. The other two columns are represented as numeric values."
   ]
  },
  {
   "cell_type": "code",
   "execution_count": 26,
   "metadata": {
    "collapsed": false
   },
   "outputs": [
    {
     "data": {
      "text/html": [
       "<div>\n",
       "<style scoped>\n",
       "    .dataframe tbody tr th:only-of-type {\n",
       "        vertical-align: middle;\n",
       "    }\n",
       "\n",
       "    .dataframe tbody tr th {\n",
       "        vertical-align: top;\n",
       "    }\n",
       "\n",
       "    .dataframe thead th {\n",
       "        text-align: right;\n",
       "    }\n",
       "</style>\n",
       "<table border=\"1\" class=\"dataframe\">\n",
       "  <thead>\n",
       "    <tr style=\"text-align: right;\">\n",
       "      <th></th>\n",
       "      <th>date_crawled</th>\n",
       "      <th>last_seen</th>\n",
       "      <th>ad_created</th>\n",
       "      <th>registration_month</th>\n",
       "      <th>registration_year</th>\n",
       "    </tr>\n",
       "  </thead>\n",
       "  <tbody>\n",
       "    <tr>\n",
       "      <th>0</th>\n",
       "      <td>2016-03-26 17:47:46</td>\n",
       "      <td>2016-04-06 06:45:54</td>\n",
       "      <td>2016-03-26 00:00:00</td>\n",
       "      <td>3</td>\n",
       "      <td>2004</td>\n",
       "    </tr>\n",
       "    <tr>\n",
       "      <th>1</th>\n",
       "      <td>2016-04-04 13:38:56</td>\n",
       "      <td>2016-04-06 14:45:08</td>\n",
       "      <td>2016-04-04 00:00:00</td>\n",
       "      <td>6</td>\n",
       "      <td>1997</td>\n",
       "    </tr>\n",
       "    <tr>\n",
       "      <th>2</th>\n",
       "      <td>2016-03-26 18:57:24</td>\n",
       "      <td>2016-04-06 20:15:37</td>\n",
       "      <td>2016-03-26 00:00:00</td>\n",
       "      <td>7</td>\n",
       "      <td>2009</td>\n",
       "    </tr>\n",
       "    <tr>\n",
       "      <th>3</th>\n",
       "      <td>2016-03-12 16:58:10</td>\n",
       "      <td>2016-03-15 03:16:28</td>\n",
       "      <td>2016-03-12 00:00:00</td>\n",
       "      <td>6</td>\n",
       "      <td>2007</td>\n",
       "    </tr>\n",
       "    <tr>\n",
       "      <th>4</th>\n",
       "      <td>2016-04-01 14:38:50</td>\n",
       "      <td>2016-04-01 14:38:50</td>\n",
       "      <td>2016-04-01 00:00:00</td>\n",
       "      <td>7</td>\n",
       "      <td>2003</td>\n",
       "    </tr>\n",
       "  </tbody>\n",
       "</table>\n",
       "</div>"
      ],
      "text/plain": [
       "          date_crawled            last_seen           ad_created  \\\n",
       "0  2016-03-26 17:47:46  2016-04-06 06:45:54  2016-03-26 00:00:00   \n",
       "1  2016-04-04 13:38:56  2016-04-06 14:45:08  2016-04-04 00:00:00   \n",
       "2  2016-03-26 18:57:24  2016-04-06 20:15:37  2016-03-26 00:00:00   \n",
       "3  2016-03-12 16:58:10  2016-03-15 03:16:28  2016-03-12 00:00:00   \n",
       "4  2016-04-01 14:38:50  2016-04-01 14:38:50  2016-04-01 00:00:00   \n",
       "\n",
       "   registration_month  registration_year  \n",
       "0                   3               2004  \n",
       "1                   6               1997  \n",
       "2                   7               2009  \n",
       "3                   6               2007  \n",
       "4                   7               2003  "
      ]
     },
     "execution_count": 26,
     "metadata": {},
     "output_type": "execute_result"
    }
   ],
   "source": [
    "autos[['date_crawled','last_seen', 'ad_created', 'registration_month' , 'registration_year']].head(5)"
   ]
  },
  {
   "cell_type": "markdown",
   "metadata": {},
   "source": [
    "The 'date_crawled, last_seen and ad_created columns contain time-stamps in the end which should be removed before further analysis:"
   ]
  },
  {
   "cell_type": "code",
   "execution_count": 27,
   "metadata": {
    "collapsed": true
   },
   "outputs": [],
   "source": [
    "## selecting only the first 10 characters from the str-time columns:\n",
    "autos['date_crawled'] = autos['date_crawled'].str[:10]\n",
    "autos['last_seen'] = autos['last_seen'].str[:10]\n",
    "autos['ad_created'] = autos['ad_created'].str[:10]"
   ]
  },
  {
   "cell_type": "code",
   "execution_count": 28,
   "metadata": {
    "collapsed": false
   },
   "outputs": [
    {
     "data": {
      "text/html": [
       "<div>\n",
       "<style scoped>\n",
       "    .dataframe tbody tr th:only-of-type {\n",
       "        vertical-align: middle;\n",
       "    }\n",
       "\n",
       "    .dataframe tbody tr th {\n",
       "        vertical-align: top;\n",
       "    }\n",
       "\n",
       "    .dataframe thead th {\n",
       "        text-align: right;\n",
       "    }\n",
       "</style>\n",
       "<table border=\"1\" class=\"dataframe\">\n",
       "  <thead>\n",
       "    <tr style=\"text-align: right;\">\n",
       "      <th></th>\n",
       "      <th>date_crawled</th>\n",
       "      <th>last_seen</th>\n",
       "      <th>ad_created</th>\n",
       "      <th>registration_month</th>\n",
       "      <th>registration_year</th>\n",
       "    </tr>\n",
       "  </thead>\n",
       "  <tbody>\n",
       "    <tr>\n",
       "      <th>0</th>\n",
       "      <td>2016-03-26</td>\n",
       "      <td>2016-04-06</td>\n",
       "      <td>2016-03-26</td>\n",
       "      <td>3</td>\n",
       "      <td>2004</td>\n",
       "    </tr>\n",
       "    <tr>\n",
       "      <th>1</th>\n",
       "      <td>2016-04-04</td>\n",
       "      <td>2016-04-06</td>\n",
       "      <td>2016-04-04</td>\n",
       "      <td>6</td>\n",
       "      <td>1997</td>\n",
       "    </tr>\n",
       "    <tr>\n",
       "      <th>2</th>\n",
       "      <td>2016-03-26</td>\n",
       "      <td>2016-04-06</td>\n",
       "      <td>2016-03-26</td>\n",
       "      <td>7</td>\n",
       "      <td>2009</td>\n",
       "    </tr>\n",
       "    <tr>\n",
       "      <th>3</th>\n",
       "      <td>2016-03-12</td>\n",
       "      <td>2016-03-15</td>\n",
       "      <td>2016-03-12</td>\n",
       "      <td>6</td>\n",
       "      <td>2007</td>\n",
       "    </tr>\n",
       "    <tr>\n",
       "      <th>4</th>\n",
       "      <td>2016-04-01</td>\n",
       "      <td>2016-04-01</td>\n",
       "      <td>2016-04-01</td>\n",
       "      <td>7</td>\n",
       "      <td>2003</td>\n",
       "    </tr>\n",
       "  </tbody>\n",
       "</table>\n",
       "</div>"
      ],
      "text/plain": [
       "  date_crawled   last_seen  ad_created  registration_month  registration_year\n",
       "0   2016-03-26  2016-04-06  2016-03-26                   3               2004\n",
       "1   2016-04-04  2016-04-06  2016-04-04                   6               1997\n",
       "2   2016-03-26  2016-04-06  2016-03-26                   7               2009\n",
       "3   2016-03-12  2016-03-15  2016-03-12                   6               2007\n",
       "4   2016-04-01  2016-04-01  2016-04-01                   7               2003"
      ]
     },
     "execution_count": 28,
     "metadata": {},
     "output_type": "execute_result"
    }
   ],
   "source": [
    "autos[['date_crawled','last_seen', 'ad_created', 'registration_month' , 'registration_year']].head(5)"
   ]
  },
  {
   "cell_type": "code",
   "execution_count": 29,
   "metadata": {
    "collapsed": false
   },
   "outputs": [
    {
     "data": {
      "text/plain": [
       "2016-04-03    0.038603\n",
       "2016-03-20    0.037883\n",
       "2016-03-21    0.037389\n",
       "2016-03-12    0.036915\n",
       "2016-03-14    0.036544\n",
       "2016-04-04    0.036524\n",
       "2016-03-07    0.036009\n",
       "2016-04-02    0.035474\n",
       "2016-03-28    0.034856\n",
       "2016-03-19    0.034774\n",
       "2016-03-15    0.034280\n",
       "2016-03-29    0.034115\n",
       "2016-04-01    0.033683\n",
       "2016-03-30    0.033683\n",
       "2016-03-08    0.033291\n",
       "2016-03-09    0.033086\n",
       "2016-03-22    0.033003\n",
       "2016-03-11    0.032571\n",
       "2016-03-23    0.032221\n",
       "2016-03-26    0.032200\n",
       "2016-03-10    0.032180\n",
       "2016-03-31    0.031830\n",
       "2016-03-17    0.031644\n",
       "2016-03-25    0.031603\n",
       "2016-03-27    0.031089\n",
       "2016-03-16    0.029606\n",
       "2016-03-24    0.029338\n",
       "2016-03-05    0.025324\n",
       "2016-03-13    0.015668\n",
       "2016-03-06    0.014041\n",
       "2016-04-05    0.013094\n",
       "2016-03-18    0.012909\n",
       "2016-04-06    0.003171\n",
       "2016-04-07    0.001400\n",
       "Name: date_crawled, dtype: float64"
      ]
     },
     "execution_count": 29,
     "metadata": {},
     "output_type": "execute_result"
    }
   ],
   "source": [
    "# for 'date_crawled' column:\n",
    "\n",
    "autos['date_crawled'].value_counts(normalize =True, dropna = False)\n",
    "## To include missing values in the distribution and to use percentages instead of counts"
   ]
  },
  {
   "cell_type": "markdown",
   "metadata": {},
   "source": [
    "- **`date_crawled`** refers to the number of times the website has been visited by the user. It is an important metric for site owners to understand how often they are being revisited. We see that the `date_crawled` column represents the percentage number of visits per day on the website."
   ]
  },
  {
   "cell_type": "code",
   "execution_count": 30,
   "metadata": {
    "collapsed": false
   },
   "outputs": [
    {
     "data": {
      "text/plain": [
       "2016-04-03    0.038850\n",
       "2016-03-20    0.037944\n",
       "2016-03-21    0.037594\n",
       "2016-04-04    0.036894\n",
       "2016-03-12    0.036750\n",
       "2016-03-14    0.035186\n",
       "2016-04-02    0.035144\n",
       "2016-03-28    0.034980\n",
       "2016-03-07    0.034733\n",
       "2016-03-29    0.034053\n",
       "2016-03-15    0.034012\n",
       "2016-03-19    0.033683\n",
       "2016-04-01    0.033683\n",
       "2016-03-30    0.033497\n",
       "2016-03-08    0.033312\n",
       "2016-03-09    0.033147\n",
       "2016-03-11    0.032900\n",
       "2016-03-22    0.032818\n",
       "2016-03-26    0.032262\n",
       "2016-03-23    0.032056\n",
       "2016-03-10    0.031891\n",
       "2016-03-31    0.031871\n",
       "2016-03-25    0.031747\n",
       "2016-03-17    0.031294\n",
       "2016-03-27    0.030986\n",
       "2016-03-16    0.030121\n",
       "2016-03-24    0.029277\n",
       "2016-03-05    0.022894\n",
       "2016-03-13    0.017006\n",
       "2016-03-06    0.015318\n",
       "                ...   \n",
       "2016-02-14    0.000041\n",
       "2016-02-05    0.000041\n",
       "2016-02-20    0.000041\n",
       "2016-02-12    0.000041\n",
       "2016-01-10    0.000041\n",
       "2016-02-24    0.000041\n",
       "2016-02-02    0.000041\n",
       "2016-02-18    0.000041\n",
       "2016-02-26    0.000041\n",
       "2016-01-13    0.000021\n",
       "2016-02-16    0.000021\n",
       "2015-12-30    0.000021\n",
       "2016-02-08    0.000021\n",
       "2016-01-29    0.000021\n",
       "2016-02-11    0.000021\n",
       "2016-02-09    0.000021\n",
       "2016-01-07    0.000021\n",
       "2016-02-22    0.000021\n",
       "2016-01-22    0.000021\n",
       "2015-06-11    0.000021\n",
       "2016-02-17    0.000021\n",
       "2015-09-09    0.000021\n",
       "2016-01-16    0.000021\n",
       "2016-01-03    0.000021\n",
       "2015-12-05    0.000021\n",
       "2016-01-14    0.000021\n",
       "2015-08-10    0.000021\n",
       "2016-02-01    0.000021\n",
       "2016-02-07    0.000021\n",
       "2015-11-10    0.000021\n",
       "Name: ad_created, Length: 76, dtype: float64"
      ]
     },
     "execution_count": 30,
     "metadata": {},
     "output_type": "execute_result"
    }
   ],
   "source": [
    "# for the 'ad_created' column:\n",
    "\n",
    "autos['ad_created'].value_counts(normalize =True, dropna = False)"
   ]
  },
  {
   "cell_type": "markdown",
   "metadata": {},
   "source": [
    "- It is very evident from the analysis that most of the ads have been created in the period of *'March - April'* every year, making it the most favorable period for car sales."
   ]
  },
  {
   "cell_type": "code",
   "execution_count": 31,
   "metadata": {
    "collapsed": false
   },
   "outputs": [
    {
     "data": {
      "text/plain": [
       "2016-04-06    0.221799\n",
       "2016-04-07    0.131931\n",
       "2016-04-05    0.124786\n",
       "2016-03-17    0.028083\n",
       "2016-04-03    0.025200\n",
       "2016-04-02    0.024933\n",
       "2016-03-30    0.024768\n",
       "2016-04-04    0.024480\n",
       "2016-03-12    0.023780\n",
       "2016-03-31    0.023780\n",
       "2016-04-01    0.022791\n",
       "2016-03-29    0.022359\n",
       "2016-03-22    0.021371\n",
       "2016-03-28    0.020877\n",
       "2016-03-20    0.020650\n",
       "2016-03-21    0.020630\n",
       "2016-03-24    0.019765\n",
       "2016-03-25    0.019209\n",
       "2016-03-23    0.018530\n",
       "2016-03-26    0.016800\n",
       "2016-03-16    0.016450\n",
       "2016-03-15    0.015874\n",
       "2016-03-19    0.015832\n",
       "2016-03-27    0.015647\n",
       "2016-03-14    0.012600\n",
       "2016-03-11    0.012374\n",
       "2016-03-10    0.010665\n",
       "2016-03-09    0.009594\n",
       "2016-03-13    0.008894\n",
       "2016-03-08    0.007412\n",
       "2016-03-18    0.007350\n",
       "2016-03-07    0.005394\n",
       "2016-03-06    0.004324\n",
       "2016-03-05    0.001071\n",
       "Name: last_seen, dtype: float64"
      ]
     },
     "execution_count": 31,
     "metadata": {},
     "output_type": "execute_result"
    }
   ],
   "source": [
    "# for the 'last_seen' column:\n",
    "\n",
    "autos['last_seen'].value_counts(normalize =True, dropna = False)"
   ]
  },
  {
   "cell_type": "markdown",
   "metadata": {},
   "source": [
    "- **`last_seen`** represents the percentage of users that last logged on the given page. We again see that the *`ad_created`*,*`last_seen`* and the *`date_crawled`* columns have the highest metrics during **'March - April'** every year, hence that period seems to be popular for car sales."
   ]
  },
  {
   "cell_type": "code",
   "execution_count": 32,
   "metadata": {
    "collapsed": false
   },
   "outputs": [
    {
     "data": {
      "text/html": [
       "<div>\n",
       "<style scoped>\n",
       "    .dataframe tbody tr th:only-of-type {\n",
       "        vertical-align: middle;\n",
       "    }\n",
       "\n",
       "    .dataframe tbody tr th {\n",
       "        vertical-align: top;\n",
       "    }\n",
       "\n",
       "    .dataframe thead th {\n",
       "        text-align: right;\n",
       "    }\n",
       "</style>\n",
       "<table border=\"1\" class=\"dataframe\">\n",
       "  <thead>\n",
       "    <tr style=\"text-align: right;\">\n",
       "      <th></th>\n",
       "      <th>registration_month</th>\n",
       "      <th>registration_year</th>\n",
       "    </tr>\n",
       "  </thead>\n",
       "  <tbody>\n",
       "    <tr>\n",
       "      <th>count</th>\n",
       "      <td>48571.000000</td>\n",
       "      <td>48571.000000</td>\n",
       "    </tr>\n",
       "    <tr>\n",
       "      <th>mean</th>\n",
       "      <td>5.782319</td>\n",
       "      <td>2004.754257</td>\n",
       "    </tr>\n",
       "    <tr>\n",
       "      <th>std</th>\n",
       "      <td>3.685700</td>\n",
       "      <td>88.638548</td>\n",
       "    </tr>\n",
       "    <tr>\n",
       "      <th>min</th>\n",
       "      <td>0.000000</td>\n",
       "      <td>1000.000000</td>\n",
       "    </tr>\n",
       "    <tr>\n",
       "      <th>25%</th>\n",
       "      <td>3.000000</td>\n",
       "      <td>1999.000000</td>\n",
       "    </tr>\n",
       "    <tr>\n",
       "      <th>50%</th>\n",
       "      <td>6.000000</td>\n",
       "      <td>2004.000000</td>\n",
       "    </tr>\n",
       "    <tr>\n",
       "      <th>75%</th>\n",
       "      <td>9.000000</td>\n",
       "      <td>2008.000000</td>\n",
       "    </tr>\n",
       "    <tr>\n",
       "      <th>max</th>\n",
       "      <td>12.000000</td>\n",
       "      <td>9999.000000</td>\n",
       "    </tr>\n",
       "  </tbody>\n",
       "</table>\n",
       "</div>"
      ],
      "text/plain": [
       "       registration_month  registration_year\n",
       "count        48571.000000       48571.000000\n",
       "mean             5.782319        2004.754257\n",
       "std              3.685700          88.638548\n",
       "min              0.000000        1000.000000\n",
       "25%              3.000000        1999.000000\n",
       "50%              6.000000        2004.000000\n",
       "75%              9.000000        2008.000000\n",
       "max             12.000000        9999.000000"
      ]
     },
     "execution_count": 32,
     "metadata": {},
     "output_type": "execute_result"
    }
   ],
   "source": [
    "# exploring the registration month and year columns:\n",
    "\n",
    "autos[['registration_month', 'registration_year']].describe()"
   ]
  },
  {
   "cell_type": "markdown",
   "metadata": {},
   "source": [
    "We need to limit the registration year period from (1900-2016). Here we also see that '1000' and '9999' are the potential outliers in the data which need to removed."
   ]
  },
  {
   "cell_type": "code",
   "execution_count": 33,
   "metadata": {
    "collapsed": true
   },
   "outputs": [],
   "source": [
    "# limiting the registeration year in our data:\n",
    "autos = autos.loc[autos['registration_year'].between(1900,2016),:]"
   ]
  },
  {
   "cell_type": "code",
   "execution_count": 34,
   "metadata": {
    "collapsed": false,
    "scrolled": true
   },
   "outputs": [
    {
     "data": {
      "text/plain": [
       "[2000     True\n",
       " 2005     True\n",
       " 1999     True\n",
       " 2004     True\n",
       " 2003     True\n",
       " 2006     True\n",
       " 2001     True\n",
       " 2002     True\n",
       " 1998     True\n",
       " 2007     True\n",
       " 2008     True\n",
       " 2009     True\n",
       " 1997     True\n",
       " 2011    False\n",
       " 2010    False\n",
       " 1996    False\n",
       " 2012    False\n",
       " 1995    False\n",
       " 2016    False\n",
       " 2013    False\n",
       " 2014    False\n",
       " 1994    False\n",
       " 1993    False\n",
       " 2015    False\n",
       " 1992    False\n",
       " 1990    False\n",
       " 1991    False\n",
       " 1989    False\n",
       " 1988    False\n",
       " 1985    False\n",
       "         ...  \n",
       " 1966    False\n",
       " 1976    False\n",
       " 1969    False\n",
       " 1975    False\n",
       " 1965    False\n",
       " 1964    False\n",
       " 1963    False\n",
       " 1959    False\n",
       " 1961    False\n",
       " 1910    False\n",
       " 1956    False\n",
       " 1958    False\n",
       " 1937    False\n",
       " 1962    False\n",
       " 1950    False\n",
       " 1954    False\n",
       " 1941    False\n",
       " 1951    False\n",
       " 1934    False\n",
       " 1957    False\n",
       " 1955    False\n",
       " 1953    False\n",
       " 1943    False\n",
       " 1929    False\n",
       " 1939    False\n",
       " 1938    False\n",
       " 1948    False\n",
       " 1927    False\n",
       " 1931    False\n",
       " 1952    False\n",
       " Name: registration_year, Length: 78, dtype: bool]"
      ]
     },
     "execution_count": 34,
     "metadata": {},
     "output_type": "execute_result"
    }
   ],
   "source": [
    "[autos['registration_year'].value_counts(dropna = False) > 1900]"
   ]
  },
  {
   "cell_type": "markdown",
   "metadata": {},
   "source": [
    "**The period between [1997-2009] seems to be the period of boom for the used car sales industry with more than 1900 cars registered per year during the timespan.**"
   ]
  },
  {
   "cell_type": "markdown",
   "metadata": {},
   "source": [
    "Registration month cannot have a minimum value of 0.0, as the minimum value is assigned to the month of january as 1."
   ]
  },
  {
   "cell_type": "code",
   "execution_count": 35,
   "metadata": {
    "collapsed": false
   },
   "outputs": [],
   "source": [
    "## dropping the columns which do not come under registeration month period of (1-12):\n",
    "\n",
    "autos = autos.loc[autos['registration_month'].between(1,12),:]"
   ]
  },
  {
   "cell_type": "code",
   "execution_count": 36,
   "metadata": {
    "collapsed": false
   },
   "outputs": [
    {
     "data": {
      "text/html": [
       "<div>\n",
       "<style scoped>\n",
       "    .dataframe tbody tr th:only-of-type {\n",
       "        vertical-align: middle;\n",
       "    }\n",
       "\n",
       "    .dataframe tbody tr th {\n",
       "        vertical-align: top;\n",
       "    }\n",
       "\n",
       "    .dataframe thead th {\n",
       "        text-align: right;\n",
       "    }\n",
       "</style>\n",
       "<table border=\"1\" class=\"dataframe\">\n",
       "  <thead>\n",
       "    <tr style=\"text-align: right;\">\n",
       "      <th></th>\n",
       "      <th>registration_month</th>\n",
       "      <th>registration_year</th>\n",
       "    </tr>\n",
       "  </thead>\n",
       "  <tbody>\n",
       "    <tr>\n",
       "      <th>count</th>\n",
       "      <td>42661.000000</td>\n",
       "      <td>42661.000000</td>\n",
       "    </tr>\n",
       "    <tr>\n",
       "      <th>mean</th>\n",
       "      <td>6.377113</td>\n",
       "      <td>2003.194815</td>\n",
       "    </tr>\n",
       "    <tr>\n",
       "      <th>std</th>\n",
       "      <td>3.352061</td>\n",
       "      <td>6.941008</td>\n",
       "    </tr>\n",
       "    <tr>\n",
       "      <th>min</th>\n",
       "      <td>1.000000</td>\n",
       "      <td>1927.000000</td>\n",
       "    </tr>\n",
       "    <tr>\n",
       "      <th>25%</th>\n",
       "      <td>3.000000</td>\n",
       "      <td>1999.000000</td>\n",
       "    </tr>\n",
       "    <tr>\n",
       "      <th>50%</th>\n",
       "      <td>6.000000</td>\n",
       "      <td>2004.000000</td>\n",
       "    </tr>\n",
       "    <tr>\n",
       "      <th>75%</th>\n",
       "      <td>9.000000</td>\n",
       "      <td>2008.000000</td>\n",
       "    </tr>\n",
       "    <tr>\n",
       "      <th>max</th>\n",
       "      <td>12.000000</td>\n",
       "      <td>2016.000000</td>\n",
       "    </tr>\n",
       "  </tbody>\n",
       "</table>\n",
       "</div>"
      ],
      "text/plain": [
       "       registration_month  registration_year\n",
       "count        42661.000000       42661.000000\n",
       "mean             6.377113        2003.194815\n",
       "std              3.352061           6.941008\n",
       "min              1.000000        1927.000000\n",
       "25%              3.000000        1999.000000\n",
       "50%              6.000000        2004.000000\n",
       "75%              9.000000        2008.000000\n",
       "max             12.000000        2016.000000"
      ]
     },
     "execution_count": 36,
     "metadata": {},
     "output_type": "execute_result"
    }
   ],
   "source": [
    "## final exploration of the columns:\n",
    "\n",
    "autos[['registration_month', 'registration_year']].describe()"
   ]
  },
  {
   "cell_type": "code",
   "execution_count": 37,
   "metadata": {
    "collapsed": false
   },
   "outputs": [
    {
     "data": {
      "text/html": [
       "<div>\n",
       "<style scoped>\n",
       "    .dataframe tbody tr th:only-of-type {\n",
       "        vertical-align: middle;\n",
       "    }\n",
       "\n",
       "    .dataframe tbody tr th {\n",
       "        vertical-align: top;\n",
       "    }\n",
       "\n",
       "    .dataframe thead th {\n",
       "        text-align: right;\n",
       "    }\n",
       "</style>\n",
       "<table border=\"1\" class=\"dataframe\">\n",
       "  <thead>\n",
       "    <tr style=\"text-align: right;\">\n",
       "      <th></th>\n",
       "      <th>date_crawled</th>\n",
       "      <th>name</th>\n",
       "      <th>price</th>\n",
       "      <th>abtest</th>\n",
       "      <th>vehicle_type</th>\n",
       "      <th>registration_year</th>\n",
       "      <th>gearbox</th>\n",
       "      <th>power_p_s</th>\n",
       "      <th>model</th>\n",
       "      <th>odometer_km</th>\n",
       "      <th>registration_month</th>\n",
       "      <th>fuel_type</th>\n",
       "      <th>brand</th>\n",
       "      <th>unrepaired_damage</th>\n",
       "      <th>ad_created</th>\n",
       "      <th>postal_code</th>\n",
       "      <th>last_seen</th>\n",
       "    </tr>\n",
       "  </thead>\n",
       "  <tbody>\n",
       "    <tr>\n",
       "      <th>0</th>\n",
       "      <td>2016-03-26</td>\n",
       "      <td>Peugeot_807_160_NAVTECH_ON_BOARD</td>\n",
       "      <td>5000</td>\n",
       "      <td>control</td>\n",
       "      <td>bus</td>\n",
       "      <td>2004</td>\n",
       "      <td>manuell</td>\n",
       "      <td>158</td>\n",
       "      <td>andere</td>\n",
       "      <td>150000</td>\n",
       "      <td>3</td>\n",
       "      <td>lpg</td>\n",
       "      <td>peugeot</td>\n",
       "      <td>nein</td>\n",
       "      <td>2016-03-26</td>\n",
       "      <td>79588</td>\n",
       "      <td>2016-04-06</td>\n",
       "    </tr>\n",
       "    <tr>\n",
       "      <th>1</th>\n",
       "      <td>2016-04-04</td>\n",
       "      <td>BMW_740i_4_4_Liter_HAMANN_UMBAU_Mega_Optik</td>\n",
       "      <td>8500</td>\n",
       "      <td>control</td>\n",
       "      <td>limousine</td>\n",
       "      <td>1997</td>\n",
       "      <td>automatik</td>\n",
       "      <td>286</td>\n",
       "      <td>7er</td>\n",
       "      <td>150000</td>\n",
       "      <td>6</td>\n",
       "      <td>benzin</td>\n",
       "      <td>bmw</td>\n",
       "      <td>nein</td>\n",
       "      <td>2016-04-04</td>\n",
       "      <td>71034</td>\n",
       "      <td>2016-04-06</td>\n",
       "    </tr>\n",
       "    <tr>\n",
       "      <th>2</th>\n",
       "      <td>2016-03-26</td>\n",
       "      <td>Volkswagen_Golf_1.6_United</td>\n",
       "      <td>8990</td>\n",
       "      <td>test</td>\n",
       "      <td>limousine</td>\n",
       "      <td>2009</td>\n",
       "      <td>manuell</td>\n",
       "      <td>102</td>\n",
       "      <td>golf</td>\n",
       "      <td>70000</td>\n",
       "      <td>7</td>\n",
       "      <td>benzin</td>\n",
       "      <td>volkswagen</td>\n",
       "      <td>nein</td>\n",
       "      <td>2016-03-26</td>\n",
       "      <td>35394</td>\n",
       "      <td>2016-04-06</td>\n",
       "    </tr>\n",
       "    <tr>\n",
       "      <th>3</th>\n",
       "      <td>2016-03-12</td>\n",
       "      <td>Smart_smart_fortwo_coupe_softouch/F1/Klima/Pan...</td>\n",
       "      <td>4350</td>\n",
       "      <td>control</td>\n",
       "      <td>kleinwagen</td>\n",
       "      <td>2007</td>\n",
       "      <td>automatik</td>\n",
       "      <td>71</td>\n",
       "      <td>fortwo</td>\n",
       "      <td>70000</td>\n",
       "      <td>6</td>\n",
       "      <td>benzin</td>\n",
       "      <td>smart</td>\n",
       "      <td>nein</td>\n",
       "      <td>2016-03-12</td>\n",
       "      <td>33729</td>\n",
       "      <td>2016-03-15</td>\n",
       "    </tr>\n",
       "    <tr>\n",
       "      <th>4</th>\n",
       "      <td>2016-04-01</td>\n",
       "      <td>Ford_Focus_1_6_Benzin_TÜV_neu_ist_sehr_gepfleg...</td>\n",
       "      <td>1350</td>\n",
       "      <td>test</td>\n",
       "      <td>kombi</td>\n",
       "      <td>2003</td>\n",
       "      <td>manuell</td>\n",
       "      <td>0</td>\n",
       "      <td>focus</td>\n",
       "      <td>150000</td>\n",
       "      <td>7</td>\n",
       "      <td>benzin</td>\n",
       "      <td>ford</td>\n",
       "      <td>nein</td>\n",
       "      <td>2016-04-01</td>\n",
       "      <td>39218</td>\n",
       "      <td>2016-04-01</td>\n",
       "    </tr>\n",
       "    <tr>\n",
       "      <th>5</th>\n",
       "      <td>2016-03-21</td>\n",
       "      <td>Chrysler_Grand_Voyager_2.8_CRD_Aut.Limited_Sto...</td>\n",
       "      <td>7900</td>\n",
       "      <td>test</td>\n",
       "      <td>bus</td>\n",
       "      <td>2006</td>\n",
       "      <td>automatik</td>\n",
       "      <td>150</td>\n",
       "      <td>voyager</td>\n",
       "      <td>150000</td>\n",
       "      <td>4</td>\n",
       "      <td>diesel</td>\n",
       "      <td>chrysler</td>\n",
       "      <td>NaN</td>\n",
       "      <td>2016-03-21</td>\n",
       "      <td>22962</td>\n",
       "      <td>2016-04-06</td>\n",
       "    </tr>\n",
       "    <tr>\n",
       "      <th>6</th>\n",
       "      <td>2016-03-20</td>\n",
       "      <td>VW_Golf_III_GT_Special_Electronic_Green_Metall...</td>\n",
       "      <td>300</td>\n",
       "      <td>test</td>\n",
       "      <td>limousine</td>\n",
       "      <td>1995</td>\n",
       "      <td>manuell</td>\n",
       "      <td>90</td>\n",
       "      <td>golf</td>\n",
       "      <td>150000</td>\n",
       "      <td>8</td>\n",
       "      <td>benzin</td>\n",
       "      <td>volkswagen</td>\n",
       "      <td>NaN</td>\n",
       "      <td>2016-03-20</td>\n",
       "      <td>31535</td>\n",
       "      <td>2016-03-23</td>\n",
       "    </tr>\n",
       "    <tr>\n",
       "      <th>7</th>\n",
       "      <td>2016-03-16</td>\n",
       "      <td>Golf_IV_1.9_TDI_90PS</td>\n",
       "      <td>1990</td>\n",
       "      <td>control</td>\n",
       "      <td>limousine</td>\n",
       "      <td>1998</td>\n",
       "      <td>manuell</td>\n",
       "      <td>90</td>\n",
       "      <td>golf</td>\n",
       "      <td>150000</td>\n",
       "      <td>12</td>\n",
       "      <td>diesel</td>\n",
       "      <td>volkswagen</td>\n",
       "      <td>nein</td>\n",
       "      <td>2016-03-16</td>\n",
       "      <td>53474</td>\n",
       "      <td>2016-04-07</td>\n",
       "    </tr>\n",
       "    <tr>\n",
       "      <th>8</th>\n",
       "      <td>2016-03-22</td>\n",
       "      <td>Seat_Arosa</td>\n",
       "      <td>250</td>\n",
       "      <td>test</td>\n",
       "      <td>NaN</td>\n",
       "      <td>2000</td>\n",
       "      <td>manuell</td>\n",
       "      <td>0</td>\n",
       "      <td>arosa</td>\n",
       "      <td>150000</td>\n",
       "      <td>10</td>\n",
       "      <td>NaN</td>\n",
       "      <td>seat</td>\n",
       "      <td>nein</td>\n",
       "      <td>2016-03-22</td>\n",
       "      <td>7426</td>\n",
       "      <td>2016-03-26</td>\n",
       "    </tr>\n",
       "    <tr>\n",
       "      <th>9</th>\n",
       "      <td>2016-03-16</td>\n",
       "      <td>Renault_Megane_Scenic_1.6e_RT_Klimaanlage</td>\n",
       "      <td>590</td>\n",
       "      <td>control</td>\n",
       "      <td>bus</td>\n",
       "      <td>1997</td>\n",
       "      <td>manuell</td>\n",
       "      <td>90</td>\n",
       "      <td>megane</td>\n",
       "      <td>150000</td>\n",
       "      <td>7</td>\n",
       "      <td>benzin</td>\n",
       "      <td>renault</td>\n",
       "      <td>nein</td>\n",
       "      <td>2016-03-16</td>\n",
       "      <td>15749</td>\n",
       "      <td>2016-04-06</td>\n",
       "    </tr>\n",
       "  </tbody>\n",
       "</table>\n",
       "</div>"
      ],
      "text/plain": [
       "  date_crawled                                               name  price  \\\n",
       "0   2016-03-26                   Peugeot_807_160_NAVTECH_ON_BOARD   5000   \n",
       "1   2016-04-04         BMW_740i_4_4_Liter_HAMANN_UMBAU_Mega_Optik   8500   \n",
       "2   2016-03-26                         Volkswagen_Golf_1.6_United   8990   \n",
       "3   2016-03-12  Smart_smart_fortwo_coupe_softouch/F1/Klima/Pan...   4350   \n",
       "4   2016-04-01  Ford_Focus_1_6_Benzin_TÜV_neu_ist_sehr_gepfleg...   1350   \n",
       "5   2016-03-21  Chrysler_Grand_Voyager_2.8_CRD_Aut.Limited_Sto...   7900   \n",
       "6   2016-03-20  VW_Golf_III_GT_Special_Electronic_Green_Metall...    300   \n",
       "7   2016-03-16                               Golf_IV_1.9_TDI_90PS   1990   \n",
       "8   2016-03-22                                         Seat_Arosa    250   \n",
       "9   2016-03-16          Renault_Megane_Scenic_1.6e_RT_Klimaanlage    590   \n",
       "\n",
       "    abtest vehicle_type  registration_year    gearbox  power_p_s    model  \\\n",
       "0  control          bus               2004    manuell        158   andere   \n",
       "1  control    limousine               1997  automatik        286      7er   \n",
       "2     test    limousine               2009    manuell        102     golf   \n",
       "3  control   kleinwagen               2007  automatik         71   fortwo   \n",
       "4     test        kombi               2003    manuell          0    focus   \n",
       "5     test          bus               2006  automatik        150  voyager   \n",
       "6     test    limousine               1995    manuell         90     golf   \n",
       "7  control    limousine               1998    manuell         90     golf   \n",
       "8     test          NaN               2000    manuell          0    arosa   \n",
       "9  control          bus               1997    manuell         90   megane   \n",
       "\n",
       "   odometer_km  registration_month fuel_type       brand unrepaired_damage  \\\n",
       "0       150000                   3       lpg     peugeot              nein   \n",
       "1       150000                   6    benzin         bmw              nein   \n",
       "2        70000                   7    benzin  volkswagen              nein   \n",
       "3        70000                   6    benzin       smart              nein   \n",
       "4       150000                   7    benzin        ford              nein   \n",
       "5       150000                   4    diesel    chrysler               NaN   \n",
       "6       150000                   8    benzin  volkswagen               NaN   \n",
       "7       150000                  12    diesel  volkswagen              nein   \n",
       "8       150000                  10       NaN        seat              nein   \n",
       "9       150000                   7    benzin     renault              nein   \n",
       "\n",
       "   ad_created  postal_code   last_seen  \n",
       "0  2016-03-26        79588  2016-04-06  \n",
       "1  2016-04-04        71034  2016-04-06  \n",
       "2  2016-03-26        35394  2016-04-06  \n",
       "3  2016-03-12        33729  2016-03-15  \n",
       "4  2016-04-01        39218  2016-04-01  \n",
       "5  2016-03-21        22962  2016-04-06  \n",
       "6  2016-03-20        31535  2016-03-23  \n",
       "7  2016-03-16        53474  2016-04-07  \n",
       "8  2016-03-22         7426  2016-03-26  \n",
       "9  2016-03-16        15749  2016-04-06  "
      ]
     },
     "execution_count": 37,
     "metadata": {},
     "output_type": "execute_result"
    }
   ],
   "source": [
    "## Exploring the changes in the dataset that we made already:\n",
    "\n",
    "autos.head(10)"
   ]
  },
  {
   "cell_type": "code",
   "execution_count": 38,
   "metadata": {
    "collapsed": false,
    "scrolled": true
   },
   "outputs": [
    {
     "data": {
      "text/plain": [
       "limousine     11886\n",
       "kleinwagen     9695\n",
       "kombi          8340\n",
       "bus            3838\n",
       "cabrio         2849\n",
       "coupe          2289\n",
       "suv            1894\n",
       "NaN            1538\n",
       "andere          332\n",
       "Name: vehicle_type, dtype: int64"
      ]
     },
     "execution_count": 38,
     "metadata": {},
     "output_type": "execute_result"
    }
   ],
   "source": [
    "autos['vehicle_type'].value_counts(dropna =False)"
   ]
  },
  {
   "cell_type": "markdown",
   "metadata": {},
   "source": [
    "We see that some of the listings in the `vehicle_type` column are in german. Let's convert those listings into english for better understanding the dataset."
   ]
  },
  {
   "cell_type": "code",
   "execution_count": 39,
   "metadata": {
    "collapsed": false
   },
   "outputs": [],
   "source": [
    "## converting the vehicle_type into english:\n",
    "\n",
    "autos.loc[autos['vehicle_type'] == 'kleinwagen' , 'vehicle_type'] = 'compact_car'\n",
    "autos.loc[autos['vehicle_type'] == 'kombi' , 'vehicle_type'] = 'station_wagon'\n",
    "autos.loc[autos['vehicle_type'] == 'cabrio' , 'vehicle_type'] = 'cabriolet'\n",
    "autos.loc[autos['vehicle_type'] == 'andere' , 'vehicle_type'] = 'others'"
   ]
  },
  {
   "cell_type": "code",
   "execution_count": 40,
   "metadata": {
    "collapsed": false
   },
   "outputs": [
    {
     "data": {
      "text/plain": [
       "limousine        11886\n",
       "compact_car       9695\n",
       "station_wagon     8340\n",
       "bus               3838\n",
       "cabriolet         2849\n",
       "coupe             2289\n",
       "suv               1894\n",
       "NaN               1538\n",
       "others             332\n",
       "Name: vehicle_type, dtype: int64"
      ]
     },
     "execution_count": 40,
     "metadata": {},
     "output_type": "execute_result"
    }
   ],
   "source": [
    "## checking the value counts in english:\n",
    "autos['vehicle_type'].value_counts(dropna =False)"
   ]
  },
  {
   "cell_type": "markdown",
   "metadata": {},
   "source": [
    "*We see that **'limousine'** which essentially are large luxury vehicles, is the most common **`vehicle_type`** listed for sale on the website.*"
   ]
  },
  {
   "cell_type": "code",
   "execution_count": 41,
   "metadata": {
    "collapsed": false
   },
   "outputs": [
    {
     "data": {
      "text/plain": [
       "manuell      32086\n",
       "automatik     9384\n",
       "NaN           1191\n",
       "Name: gearbox, dtype: int64"
      ]
     },
     "execution_count": 41,
     "metadata": {},
     "output_type": "execute_result"
    }
   ],
   "source": [
    "## exploring the 'gearbox' column:\n",
    "\n",
    "autos['gearbox'].value_counts(dropna = False)"
   ]
  },
  {
   "cell_type": "markdown",
   "metadata": {},
   "source": [
    "We see that the gearbox listings are in german. Let's convert them into english for better understanding the dataset."
   ]
  },
  {
   "cell_type": "code",
   "execution_count": 42,
   "metadata": {
    "collapsed": true
   },
   "outputs": [],
   "source": [
    "autos.loc[autos['gearbox'] == 'manuell' , 'gearbox'] = 'manual'\n",
    "autos.loc[autos['gearbox'] == 'automatik' , 'gearbox'] = 'automatic'"
   ]
  },
  {
   "cell_type": "code",
   "execution_count": 43,
   "metadata": {
    "collapsed": false
   },
   "outputs": [
    {
     "data": {
      "text/plain": [
       "manual       0.752116\n",
       "automatic    0.219967\n",
       "NaN          0.027918\n",
       "Name: gearbox, dtype: float64"
      ]
     },
     "execution_count": 43,
     "metadata": {},
     "output_type": "execute_result"
    }
   ],
   "source": [
    "autos['gearbox'].value_counts(normalize = True ,dropna = False)"
   ]
  },
  {
   "cell_type": "markdown",
   "metadata": {},
   "source": [
    "***We see that over 75% of the listings on the website include a **'Manual gearbox'**, which is more commonly known as a 'stick-shift'.***"
   ]
  },
  {
   "cell_type": "markdown",
   "metadata": {},
   "source": [
    "Exploring the 'power_ps' column:"
   ]
  },
  {
   "cell_type": "code",
   "execution_count": 44,
   "metadata": {
    "collapsed": false
   },
   "outputs": [
    {
     "data": {
      "text/plain": [
       "count    42661.000000\n",
       "mean       122.413164\n",
       "std        191.183734\n",
       "min          0.000000\n",
       "25%         75.000000\n",
       "50%        110.000000\n",
       "75%        150.000000\n",
       "max      17700.000000\n",
       "Name: power_p_s, dtype: float64"
      ]
     },
     "execution_count": 44,
     "metadata": {},
     "output_type": "execute_result"
    }
   ],
   "source": [
    "autos['power_p_s'].describe()"
   ]
  },
  {
   "cell_type": "markdown",
   "metadata": {},
   "source": [
    "There are major outliers in the power_p_s column as the vehicles listed cannot have a minimum value of '0' and a maximum of '17700'. We should get rid of such ouliers in our data:"
   ]
  },
  {
   "cell_type": "code",
   "execution_count": 45,
   "metadata": {
    "collapsed": false
   },
   "outputs": [
    {
     "data": {
      "text/plain": [
       "0        2979\n",
       "75       2663\n",
       "60       1863\n",
       "150      1783\n",
       "140      1742\n",
       "101      1534\n",
       "116      1510\n",
       "90       1478\n",
       "170      1375\n",
       "105      1296\n",
       "136       852\n",
       "125       833\n",
       "163       799\n",
       "102       785\n",
       "143       694\n",
       "122       664\n",
       "131       661\n",
       "54        655\n",
       "110       610\n",
       "109       575\n",
       "177       521\n",
       "80        515\n",
       "50        497\n",
       "58        460\n",
       "120       456\n",
       "69        454\n",
       "184       362\n",
       "95        353\n",
       "68        350\n",
       "115       347\n",
       "         ... \n",
       "1000        1\n",
       "2729        1\n",
       "168         1\n",
       "3750        1\n",
       "999         1\n",
       "455         1\n",
       "678         1\n",
       "454         1\n",
       "30          1\n",
       "587         1\n",
       "304         1\n",
       "1003        1\n",
       "8404        1\n",
       "431         1\n",
       "6045        1\n",
       "157         1\n",
       "1998        1\n",
       "430         1\n",
       "398         1\n",
       "253         1\n",
       "14          1\n",
       "3500        1\n",
       "365         1\n",
       "317         1\n",
       "17700       1\n",
       "460         1\n",
       "268         1\n",
       "236         1\n",
       "1771        1\n",
       "16312       1\n",
       "Name: power_p_s, Length: 426, dtype: int64"
      ]
     },
     "execution_count": 45,
     "metadata": {},
     "output_type": "execute_result"
    }
   ],
   "source": [
    "autos['power_p_s'].value_counts(dropna = False)"
   ]
  },
  {
   "cell_type": "markdown",
   "metadata": {},
   "source": [
    "*A simple google search tells us that the compact_cars are the least powered vehicles with an avg of ' 70hp ' and the most powerful cars have around ' 1500hp ' . Let's limit our power range to ( 70-1500 ) in order to make the dataset relevant.*"
   ]
  },
  {
   "cell_type": "code",
   "execution_count": 46,
   "metadata": {
    "collapsed": true
   },
   "outputs": [],
   "source": [
    "## selecting only the vehicles within the power range of (70-1500):\n",
    "autos = autos.loc[autos['power_p_s'].between(70,1500),:]"
   ]
  },
  {
   "cell_type": "code",
   "execution_count": 47,
   "metadata": {
    "collapsed": false
   },
   "outputs": [
    {
     "data": {
      "text/plain": [
       "count    33658.000000\n",
       "mean       140.840305\n",
       "std         65.528226\n",
       "min         70.000000\n",
       "25%        101.000000\n",
       "50%        125.000000\n",
       "75%        163.000000\n",
       "max       1405.000000\n",
       "Name: power_p_s, dtype: float64"
      ]
     },
     "execution_count": 47,
     "metadata": {},
     "output_type": "execute_result"
    }
   ],
   "source": [
    "autos['power_p_s'].describe()"
   ]
  },
  {
   "cell_type": "markdown",
   "metadata": {},
   "source": [
    "Exploring the 'unrepaired_damage' column:"
   ]
  },
  {
   "cell_type": "code",
   "execution_count": 48,
   "metadata": {
    "collapsed": false
   },
   "outputs": [
    {
     "data": {
      "text/plain": [
       "nein    26987\n",
       "NaN      3747\n",
       "ja       2924\n",
       "Name: unrepaired_damage, dtype: int64"
      ]
     },
     "execution_count": 48,
     "metadata": {},
     "output_type": "execute_result"
    }
   ],
   "source": [
    "autos['unrepaired_damage'].value_counts(dropna= False)"
   ]
  },
  {
   "cell_type": "markdown",
   "metadata": {},
   "source": [
    "Since all of the listings are in German, let's convert them to English for relevance:"
   ]
  },
  {
   "cell_type": "code",
   "execution_count": 49,
   "metadata": {
    "collapsed": true
   },
   "outputs": [],
   "source": [
    "autos.loc[autos['unrepaired_damage'] == 'nein' , 'unrepaired_damage'] = 'No'\n",
    "autos.loc[autos['unrepaired_damage'] == 'ja' , 'unrepaired_damage'] = 'Yes'"
   ]
  },
  {
   "cell_type": "code",
   "execution_count": 50,
   "metadata": {
    "collapsed": false
   },
   "outputs": [
    {
     "data": {
      "text/plain": [
       "No     0.801800\n",
       "NaN    0.111326\n",
       "Yes    0.086874\n",
       "Name: unrepaired_damage, dtype: float64"
      ]
     },
     "execution_count": 50,
     "metadata": {},
     "output_type": "execute_result"
    }
   ],
   "source": [
    "autos['unrepaired_damage'].value_counts(normalize = True,dropna= False)"
   ]
  },
  {
   "cell_type": "markdown",
   "metadata": {},
   "source": [
    "We see that over **80% of the cars listed on the website suffer from unrepaired damage**, which does not bode well for the website on the first glance. But given that these vehicles are used, some damage should be expected."
   ]
  },
  {
   "cell_type": "markdown",
   "metadata": {},
   "source": [
    "*** Now that we have cleaned the dataset, let's move towards gaining inferences from our data. ***"
   ]
  },
  {
   "cell_type": "markdown",
   "metadata": {
    "collapsed": true
   },
   "source": [
    "##  *`AGGREGATING` * the brand column:"
   ]
  },
  {
   "cell_type": "code",
   "execution_count": 51,
   "metadata": {
    "collapsed": false
   },
   "outputs": [
    {
     "name": "stdout",
     "output_type": "stream",
     "text": [
      "volkswagen        20.004159\n",
      "bmw               13.559926\n",
      "mercedes_benz     11.572286\n",
      "audi              10.571038\n",
      "opel               9.341018\n",
      "ford               6.173867\n",
      "renault            3.693030\n",
      "peugeot            2.757145\n",
      "skoda              1.744013\n",
      "mazda              1.690534\n",
      "seat               1.550894\n",
      "fiat               1.437994\n",
      "nissan             1.283499\n",
      "toyota             1.253788\n",
      "citroen            1.143859\n",
      "mini               1.129004\n",
      "volvo              1.117119\n",
      "hyundai            0.965595\n",
      "mitsubishi         0.926971\n",
      "honda              0.915087\n",
      "alfa_romeo         0.799216\n",
      "porsche            0.775447\n",
      "sonstige_autos     0.754650\n",
      "kia                0.736823\n",
      "smart              0.695228\n",
      "chevrolet          0.540733\n",
      "suzuki             0.540733\n",
      "chrysler           0.410007\n",
      "dacia              0.320875\n",
      "jeep               0.285222\n",
      "land_rover         0.249569\n",
      "subaru             0.216888\n",
      "saab               0.205003\n",
      "jaguar             0.184206\n",
      "rover              0.136669\n",
      "daihatsu           0.101016\n",
      "daewoo             0.098045\n",
      "lancia             0.074277\n",
      "lada               0.044566\n",
      "Name: brand, dtype: float64\n",
      "\n",
      "\n",
      "There are 39 unique car brands in the dataset.\n"
     ]
    }
   ],
   "source": [
    "## Let's first see the the number of brands in the dataset:\n",
    "print(autos['brand'].value_counts(normalize = True ,dropna = False)*100)\n",
    "print('\\n')\n",
    "print('There are {} unique car brands in the dataset.'.format(len(autos['brand'].value_counts(dropna = False))))"
   ]
  },
  {
   "cell_type": "markdown",
   "metadata": {},
   "source": [
    "Let's aggregate the car brands on the basis of their mean price as they are listed on the website. Also, we calculated that about 80% of the cars listed on the website had unrepaired damage. Let's use that data to futher check if the 'brand value' affects the listed car prices for the first 10 most popular brands in the dataset."
   ]
  },
  {
   "cell_type": "code",
   "execution_count": 52,
   "metadata": {
    "collapsed": false
   },
   "outputs": [],
   "source": [
    "# empty dictionary to store the values:\n",
    "car_brand_prices = {}\n",
    "car_brand_prices_undam = {}\n",
    "car_brand_prices_dam = {}\n",
    "\n",
    "car_brands = autos['brand'].value_counts(dropna = False).head(10).index\n",
    "\n",
    "## looping over the dataset to aggregate and find the mean price per brand:\n",
    "for brand in car_brands:\n",
    "    brand_col = autos.loc[autos['brand'] == brand,:]\n",
    "    \n",
    "    brand_col_dam = brand_col.loc[brand_col['unrepaired_damage'] == 'Yes']\n",
    "    brand_col_undam = brand_col.loc[brand_col['unrepaired_damage'] == 'No']\n",
    "    \n",
    "    # to find mean price:\n",
    "    mean_price = brand_col['price'].sum() / len(brand_col)\n",
    "    mean_price_dam = brand_col_dam['price'].sum() / len(brand_col_dam)\n",
    "    mean_price_undam = brand_col_undam['price'].sum() / len(brand_col_undam)\n",
    "    \n",
    "    # adding to their respective dictionaries :\n",
    "    car_brand_prices[brand] = mean_price\n",
    "    car_brand_prices_undam[brand] = mean_price_undam\n",
    "    car_brand_prices_dam[brand] = mean_price_dam\n"
   ]
  },
  {
   "cell_type": "code",
   "execution_count": 53,
   "metadata": {
    "collapsed": false
   },
   "outputs": [
    {
     "name": "stdout",
     "output_type": "stream",
     "text": [
      "The car brands and their average prices are given as:\n",
      "\n",
      "audi : 10061.087408656549\n",
      "mercedes_benz : 9145.857509627727\n",
      "bmw : 9115.98773006135\n",
      "skoda : 7261.8313458262355\n",
      "volkswagen : 7121.500816872122\n",
      "ford : 5255.128970163619\n",
      "mazda : 4686.669595782074\n",
      "opel : 3884.320292620865\n",
      "peugeot : 3802.855603448276\n",
      "renault : 3350.540627514079\n",
      "The average price of the top three car brands : 9440\n"
     ]
    }
   ],
   "source": [
    "# Ranking car brands by average price :\n",
    "print(\"The car brands and their average prices are given as:\" + '\\n')\n",
    "price_list = []\n",
    "for brand,price in car_brand_prices.items():\n",
    "    price_list.append((price, brand))\n",
    "\n",
    "price_list.sort(reverse = True)\n",
    "\n",
    "for price,brand in price_list:\n",
    "    print(brand + ' : ' + str(price))\n",
    "    \n",
    "avg_top_3 = 0;\n",
    "\n",
    "for price,brand in price_list[:3]:\n",
    "    avg_top_3  = avg_top_3 + price\n",
    "    \n",
    "avg_top_3 = avg_top_3/ 3;\n",
    "\n",
    "print(\"The average price of the top three car brands : {}\" .format(int(avg_top_3)))"
   ]
  },
  {
   "cell_type": "code",
   "execution_count": 54,
   "metadata": {
    "collapsed": false
   },
   "outputs": [
    {
     "name": "stdout",
     "output_type": "stream",
     "text": [
      "The car brands and their average prices of damaged cars given as:\n",
      "\n",
      "volkswagen : 5076.759656652361\n",
      "skoda : 4467.222222222223\n",
      "mercedes_benz : 4252.318021201413\n",
      "bmw : 3846.87125748503\n",
      "audi : 3518.924187725632\n",
      "ford : 1741.9076305220883\n",
      "opel : 1712.28125\n",
      "peugeot : 1697.137254901961\n",
      "renault : 1586.291390728477\n",
      "mazda : 1552.72131147541\n",
      "The average price of the top three car brands in the damaged category : 4598\n"
     ]
    }
   ],
   "source": [
    "# Ranking car brands by average price of damaged cars :\n",
    "print(\"The car brands and their average prices of damaged cars given as:\" + '\\n')\n",
    "price_list_dam = []\n",
    "for brand,price in car_brand_prices_dam.items():\n",
    "    price_list_dam.append((price, brand))\n",
    "\n",
    "price_list_dam.sort(reverse = True)\n",
    "\n",
    "for price,brand in price_list_dam:\n",
    "    print(brand + ' : ' + str(price))\n",
    "\n",
    "avg_top_3 = 0;\n",
    "\n",
    "for price,brand in price_list_dam[:3]:\n",
    "    avg_top_3  = avg_top_3 + price\n",
    "    \n",
    "avg_top_3 = avg_top_3/ 3;\n",
    "\n",
    "print(\"The average price of the top three car brands in the damaged category : {}\" .format(int(avg_top_3)))"
   ]
  },
  {
   "cell_type": "code",
   "execution_count": 55,
   "metadata": {
    "collapsed": false
   },
   "outputs": [
    {
     "name": "stdout",
     "output_type": "stream",
     "text": [
      "The car brands and their average prices of undamaged cars given as:\n",
      "\n",
      "audi : 11222.07032057911\n",
      "mercedes_benz : 10000.280860349127\n",
      "bmw : 9667.33493846977\n",
      "skoda : 7693.350806451613\n",
      "volkswagen : 7590.761508596783\n",
      "ford : 6222.325492689129\n",
      "mazda : 5486.579676674365\n",
      "opel : 4423.779074614423\n",
      "peugeot : 4261.455295735901\n",
      "renault : 3888.2448979591836\n",
      "The average price of the top three car brands in the undamaged category is : 10296\n"
     ]
    }
   ],
   "source": [
    "# Ranking car brands by average price of undamaged cars :\n",
    "print(\"The car brands and their average prices of undamaged cars given as:\" + '\\n')\n",
    "price_list_undam = []\n",
    "for brand,price in car_brand_prices_undam.items():\n",
    "    price_list_undam.append((price, brand))\n",
    "\n",
    "price_list_undam.sort(reverse = True)\n",
    "\n",
    "for price,brand in price_list_undam:\n",
    "    print(brand + ' : ' + str(price))\n",
    "    \n",
    "avg_top_3 = 0;\n",
    "\n",
    "for price,brand in price_list_undam[:3]:\n",
    "    avg_top_3  = avg_top_3 + price\n",
    "    \n",
    "avg_top_3 = avg_top_3/ 3;\n",
    "\n",
    "print(\"The average price of the top three car brands in the undamaged category is : {}\".format(int(avg_top_3)))"
   ]
  },
  {
   "cell_type": "markdown",
   "metadata": {
    "collapsed": true
   },
   "source": [
    "From the price comparison above we can draw certain conclusions: \n",
    "- The top three car brands by resale value prices are **`Audi` , `Mercedes-Benz` and `BMW`** with an average price of 9440 overall and 10296 in the undamaged category.\n",
    "- However, **`Volkswagen`, `Skoda` and `Mercedes-Benz`** hold the top three in the damaged cars category with an average price of : 4598\n",
    "- **`Opel` , `Peugeot` and `Renalut`** are the cheapest car brands in the dataset.\n",
    "\n",
    "*** Since `Mercedez-Benz` features in the top three amongst all the categories, it is safe to say that it has a higher brand value or it holds its resale value the best amongst the given brands.\n",
    "However, we should also take a note that the dataset if from a German website and `Mercedes-Benz` is German itself, which might affect the overall resale value of the brand. ***"
   ]
  },
  {
   "cell_type": "markdown",
   "metadata": {},
   "source": [
    "## *`AGGREGATING`*  the `odometer_km` column:"
   ]
  },
  {
   "cell_type": "code",
   "execution_count": 56,
   "metadata": {
    "collapsed": false
   },
   "outputs": [
    {
     "name": "stdout",
     "output_type": "stream",
     "text": [
      "The car brands and their average mileages are given as:\n",
      "\n",
      "bmw : 132300.61349693252\n",
      "mercedes_benz : 130513.47881899872\n",
      "audi : 127922.9904440697\n",
      "opel : 127188.2951653944\n",
      "volkswagen : 127079.31085697311\n",
      "ford : 124983.15688161695\n",
      "renault : 124883.34674175382\n",
      "peugeot : 124364.22413793103\n",
      "mazda : 122996.48506151143\n",
      "skoda : 112827.93867120954\n"
     ]
    }
   ],
   "source": [
    "## looping over the dataset to aggregate and find the mean mileage per brand:\n",
    "car_brand_mil = {}\n",
    "for brand in car_brands:\n",
    "    brand_col = autos.loc[autos['brand'] == brand,:]\n",
    "    \n",
    "    # to find mean mileage:\n",
    "    mean_mil = brand_col['odometer_km'].sum() / len(brand_col)\n",
    "    \n",
    "    # adding to their respective dictionaries :\n",
    "    car_brand_mil[brand] = mean_mil\n",
    "\n",
    "print(\"The car brands and their average mileages are given as:\" + '\\n')\n",
    "mil_list = []\n",
    "for brand,mil in car_brand_mil.items():\n",
    "    mil_list.append((mil, brand))\n",
    "\n",
    "mil_list.sort(reverse = True)\n",
    "\n",
    "for mil,brand in mil_list:\n",
    "    print(brand + ' : ' + str(mil))\n",
    "\n"
   ]
  },
  {
   "cell_type": "markdown",
   "metadata": {},
   "source": [
    "***The top three car brands with highest mean mileages are `BMW` , `Mercedes-Benz` and `Audi`.***"
   ]
  },
  {
   "cell_type": "code",
   "execution_count": 57,
   "metadata": {
    "collapsed": false
   },
   "outputs": [
    {
     "data": {
      "text/html": [
       "<div>\n",
       "<style scoped>\n",
       "    .dataframe tbody tr th:only-of-type {\n",
       "        vertical-align: middle;\n",
       "    }\n",
       "\n",
       "    .dataframe tbody tr th {\n",
       "        vertical-align: top;\n",
       "    }\n",
       "\n",
       "    .dataframe thead th {\n",
       "        text-align: right;\n",
       "    }\n",
       "</style>\n",
       "<table border=\"1\" class=\"dataframe\">\n",
       "  <thead>\n",
       "    <tr style=\"text-align: right;\">\n",
       "      <th></th>\n",
       "      <th>mean_mileage</th>\n",
       "      <th>mean_prices</th>\n",
       "    </tr>\n",
       "  </thead>\n",
       "  <tbody>\n",
       "    <tr>\n",
       "      <th>audi</th>\n",
       "      <td>127922.990444</td>\n",
       "      <td>10061.087409</td>\n",
       "    </tr>\n",
       "    <tr>\n",
       "      <th>bmw</th>\n",
       "      <td>132300.613497</td>\n",
       "      <td>9115.987730</td>\n",
       "    </tr>\n",
       "    <tr>\n",
       "      <th>ford</th>\n",
       "      <td>124983.156882</td>\n",
       "      <td>5255.128970</td>\n",
       "    </tr>\n",
       "    <tr>\n",
       "      <th>mazda</th>\n",
       "      <td>122996.485062</td>\n",
       "      <td>4686.669596</td>\n",
       "    </tr>\n",
       "    <tr>\n",
       "      <th>mercedes_benz</th>\n",
       "      <td>130513.478819</td>\n",
       "      <td>9145.857510</td>\n",
       "    </tr>\n",
       "    <tr>\n",
       "      <th>opel</th>\n",
       "      <td>127188.295165</td>\n",
       "      <td>3884.320293</td>\n",
       "    </tr>\n",
       "    <tr>\n",
       "      <th>peugeot</th>\n",
       "      <td>124364.224138</td>\n",
       "      <td>3802.855603</td>\n",
       "    </tr>\n",
       "    <tr>\n",
       "      <th>renault</th>\n",
       "      <td>124883.346742</td>\n",
       "      <td>3350.540628</td>\n",
       "    </tr>\n",
       "    <tr>\n",
       "      <th>skoda</th>\n",
       "      <td>112827.938671</td>\n",
       "      <td>7261.831346</td>\n",
       "    </tr>\n",
       "    <tr>\n",
       "      <th>volkswagen</th>\n",
       "      <td>127079.310857</td>\n",
       "      <td>7121.500817</td>\n",
       "    </tr>\n",
       "  </tbody>\n",
       "</table>\n",
       "</div>"
      ],
      "text/plain": [
       "                mean_mileage   mean_prices\n",
       "audi           127922.990444  10061.087409\n",
       "bmw            132300.613497   9115.987730\n",
       "ford           124983.156882   5255.128970\n",
       "mazda          122996.485062   4686.669596\n",
       "mercedes_benz  130513.478819   9145.857510\n",
       "opel           127188.295165   3884.320293\n",
       "peugeot        124364.224138   3802.855603\n",
       "renault        124883.346742   3350.540628\n",
       "skoda          112827.938671   7261.831346\n",
       "volkswagen     127079.310857   7121.500817"
      ]
     },
     "execution_count": 57,
     "metadata": {},
     "output_type": "execute_result"
    }
   ],
   "source": [
    "## creating a new dataframe object to check the correlation between mean prices and mean mileage:\n",
    "cars = {'mean_prices': car_brand_prices, 'mean_mileage' :car_brand_mil }\n",
    "df_Car = pd.DataFrame(data= cars)\n",
    "df_Car"
   ]
  },
  {
   "cell_type": "code",
   "execution_count": 58,
   "metadata": {
    "collapsed": false
   },
   "outputs": [
    {
     "data": {
      "text/html": [
       "<div>\n",
       "<style scoped>\n",
       "    .dataframe tbody tr th:only-of-type {\n",
       "        vertical-align: middle;\n",
       "    }\n",
       "\n",
       "    .dataframe tbody tr th {\n",
       "        vertical-align: top;\n",
       "    }\n",
       "\n",
       "    .dataframe thead th {\n",
       "        text-align: right;\n",
       "    }\n",
       "</style>\n",
       "<table border=\"1\" class=\"dataframe\">\n",
       "  <thead>\n",
       "    <tr style=\"text-align: right;\">\n",
       "      <th></th>\n",
       "      <th>mean_mileage</th>\n",
       "      <th>mean_prices</th>\n",
       "    </tr>\n",
       "  </thead>\n",
       "  <tbody>\n",
       "    <tr>\n",
       "      <th>mean_mileage</th>\n",
       "      <td>1.000000</td>\n",
       "      <td>0.309558</td>\n",
       "    </tr>\n",
       "    <tr>\n",
       "      <th>mean_prices</th>\n",
       "      <td>0.309558</td>\n",
       "      <td>1.000000</td>\n",
       "    </tr>\n",
       "  </tbody>\n",
       "</table>\n",
       "</div>"
      ],
      "text/plain": [
       "              mean_mileage  mean_prices\n",
       "mean_mileage      1.000000     0.309558\n",
       "mean_prices       0.309558     1.000000"
      ]
     },
     "execution_count": 58,
     "metadata": {},
     "output_type": "execute_result"
    }
   ],
   "source": [
    "df_Car.corr()"
   ]
  },
  {
   "cell_type": "markdown",
   "metadata": {},
   "source": [
    "*** We see that the mean prices and mean mileage of the car brands are loosely related with a correlation factor of 0.309.*** "
   ]
  },
  {
   "cell_type": "markdown",
   "metadata": {},
   "source": [
    "Let's find the top 10 most common brand/model combinatons from our dataset:"
   ]
  },
  {
   "cell_type": "code",
   "execution_count": 59,
   "metadata": {
    "collapsed": false
   },
   "outputs": [
    {
     "name": "stdout",
     "output_type": "stream",
     "text": [
      "The top 10 most commonly listed brand-model combinations with their number of listings are: \n",
      "\n",
      "volkswagen-golf : 3001\n",
      "bmw-3er : 2307\n",
      "volkswagen-passat : 1170\n",
      "opel-astra : 1099\n",
      "audi-a4 : 1089\n",
      "bmw-5er : 1032\n",
      "mercedes_benz-c_klasse : 1012\n",
      "mercedes_benz-e_klasse : 848\n",
      "audi-a3 : 732\n",
      "audi-a6 : 718\n",
      "nan : 0\n"
     ]
    }
   ],
   "source": [
    "# finding the top 10 most common car models from our dataset:\n",
    "autos['brand_model'] = autos['brand'] + '-' + autos['model']\n",
    "bmods = autos['brand_model'].value_counts(dropna = False).head(11).index\n",
    "brand_model ={}\n",
    "\n",
    "print (\"The top 10 most commonly listed brand-model combinations with their number of listings are: \"+ '\\n')\n",
    "for bmod in bmods:\n",
    "    car_model = autos.loc[autos['brand_model'] == bmod]\n",
    "    count = len(car_model)\n",
    "    \n",
    "    brand_model[bmod] = count\n",
    "\n",
    "mod_list = []\n",
    "\n",
    "for mod,count in brand_model.items():\n",
    "    mod_list.append((count, mod))\n",
    "\n",
    "mod_list.sort(reverse = True)\n",
    "\n",
    "for count,mod in mod_list:\n",
    "    print(str(mod)+ ' : ' + str(count))"
   ]
  },
  {
   "cell_type": "markdown",
   "metadata": {},
   "source": [
    "*We see that **`volkswagen-golf`, `bmw-3er` and `volkswagen-passat`** are the popular **Brand-Model** listings on the website.*"
   ]
  },
  {
   "cell_type": "markdown",
   "metadata": {},
   "source": [
    "# Conclusion :"
   ]
  },
  {
   "cell_type": "markdown",
   "metadata": {},
   "source": [
    "We exlored the data from 'eBay Kleinanzeigen' and after thorough cleaning of the dataset we can draw the following conclusions from our analysis: \n",
    "1. From the  `ad_created` , `last_seen` and the `date_crawled` we see that the website is very active and columns have the highest metrics during the months of **'March - April'** every year, hence that period seems to be popular for car sales.\n",
    "2. **'Limousines'** which essentially are large luxury vehicles, is the most common `vehicle_type` listed for sale on the website.\n",
    "3. Over 75% of the listings on the website include a **'Manual gearbox'.**\n",
    "4. Over 80% of the cars listed on the website suffer from unrepaired damage.\n",
    "5. **`Volkswagen`** is the most popular car brand listed on the website, taking up around **20%** of the listings.\n",
    "6. **`Mercedes-Benz`** is the costliest car brand listed on the website.\n",
    "7. **`BMW`** has the highest mean mileage amongst the other brands listed on the website.\n",
    "8. Based on the data from the website we found that mean price and mean mileage of the cars listed are very loosely related (correlation coeff: 0.3), which means that the buyers believe in the intrinsic value of the car brand rather than the distance covered by the vehicle.\n",
    "9. Damaged cars priced cheaper than their undamaged counterparts."
   ]
  }
 ],
 "metadata": {
  "kernelspec": {
   "display_name": "Python 3",
   "language": "python",
   "name": "python3"
  },
  "language_info": {
   "codemirror_mode": {
    "name": "ipython",
    "version": 3
   },
   "file_extension": ".py",
   "mimetype": "text/x-python",
   "name": "python",
   "nbconvert_exporter": "python",
   "pygments_lexer": "ipython3",
   "version": "3.4.3"
  }
 },
 "nbformat": 4,
 "nbformat_minor": 2
}
